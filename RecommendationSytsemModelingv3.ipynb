{
 "cells": [
  {
   "cell_type": "markdown",
   "id": "9cd007c2",
   "metadata": {},
   "source": [
    "# Data Science Project : Movie Recommendation System"
   ]
  },
  {
   "cell_type": "markdown",
   "id": "84af3526",
   "metadata": {},
   "source": [
    "## Team Members: Ahmad Zeidan , Mosab Abu Laila, Mohammad Hamayel"
   ]
  },
  {
   "cell_type": "markdown",
   "id": "b43dd66a",
   "metadata": {},
   "source": [
    "### Modeling(NearestNeighbors, Neural Networks)"
   ]
  },
  {
   "cell_type": "markdown",
   "id": "b387d672",
   "metadata": {},
   "source": [
    "###### Importing Libraries"
   ]
  },
  {
   "cell_type": "code",
   "execution_count": 93,
   "id": "cbc9d0a2",
   "metadata": {},
   "outputs": [],
   "source": [
    "import pandas as pd\n",
    "import plotly.express as px\n",
    "import re\n",
    "from matplotlib import pyplot as plt\n",
    "import numpy as np\n",
    "import seaborn as sns\n",
    "import plotly as py\n",
    "from scipy.sparse import csr_matrix\n",
    "from sklearn.neighbors import NearestNeighbors\n",
    "from flask import Flask, request, jsonify\n",
    "import joblib\n",
    "from sklearn.model_selection import GridSearchCV\n",
    "from sklearn.metrics import mean_squared_error, mean_absolute_error\n",
    "from sklearn.model_selection import train_test_split, cross_val_score\n",
    "from pprint import pprint\n",
    "from sklearn.model_selection import train_test_split\n",
    "from sklearn.preprocessing import LabelEncoder\n",
    "import tensorflow as tf\n",
    "\n",
    "from tensorflow.python.keras.layers import Input, Dense, Embedding\n",
    "from tensorflow.keras.models import Model\n",
    "\n",
    "from tensorflow import keras"
   ]
  },
  {
   "cell_type": "markdown",
   "id": "1ff7ec73",
   "metadata": {},
   "source": [
    "###### Reading MovieLens dataset "
   ]
  },
  {
   "cell_type": "code",
   "execution_count": 94,
   "id": "ece40e08",
   "metadata": {},
   "outputs": [],
   "source": [
    "ratings = pd.read_csv('./ml-25m/ratings.csv')"
   ]
  },
  {
   "cell_type": "code",
   "execution_count": 95,
   "id": "dad17661",
   "metadata": {},
   "outputs": [],
   "source": [
    "movies = pd.read_csv('./ml-25m/updated_movies.csv')"
   ]
  },
  {
   "cell_type": "code",
   "execution_count": 96,
   "id": "9d8b0f2c",
   "metadata": {},
   "outputs": [],
   "source": [
    "ratings_df=ratings.copy()"
   ]
  },
  {
   "cell_type": "code",
   "execution_count": 97,
   "id": "ac5cedb7",
   "metadata": {},
   "outputs": [],
   "source": [
    "movies_df=movies.copy()"
   ]
  },
  {
   "cell_type": "code",
   "execution_count": 98,
   "id": "9e1e21f1",
   "metadata": {},
   "outputs": [
    {
     "data": {
      "text/html": [
       "<div>\n",
       "<style scoped>\n",
       "    .dataframe tbody tr th:only-of-type {\n",
       "        vertical-align: middle;\n",
       "    }\n",
       "\n",
       "    .dataframe tbody tr th {\n",
       "        vertical-align: top;\n",
       "    }\n",
       "\n",
       "    .dataframe thead th {\n",
       "        text-align: right;\n",
       "    }\n",
       "</style>\n",
       "<table border=\"1\" class=\"dataframe\">\n",
       "  <thead>\n",
       "    <tr style=\"text-align: right;\">\n",
       "      <th></th>\n",
       "      <th>userId</th>\n",
       "      <th>movieId</th>\n",
       "      <th>rating</th>\n",
       "      <th>timestamp</th>\n",
       "    </tr>\n",
       "  </thead>\n",
       "  <tbody>\n",
       "    <tr>\n",
       "      <th>0</th>\n",
       "      <td>1</td>\n",
       "      <td>296</td>\n",
       "      <td>5.0</td>\n",
       "      <td>1147880044</td>\n",
       "    </tr>\n",
       "    <tr>\n",
       "      <th>1</th>\n",
       "      <td>1</td>\n",
       "      <td>306</td>\n",
       "      <td>3.5</td>\n",
       "      <td>1147868817</td>\n",
       "    </tr>\n",
       "    <tr>\n",
       "      <th>2</th>\n",
       "      <td>1</td>\n",
       "      <td>307</td>\n",
       "      <td>5.0</td>\n",
       "      <td>1147868828</td>\n",
       "    </tr>\n",
       "    <tr>\n",
       "      <th>3</th>\n",
       "      <td>1</td>\n",
       "      <td>665</td>\n",
       "      <td>5.0</td>\n",
       "      <td>1147878820</td>\n",
       "    </tr>\n",
       "    <tr>\n",
       "      <th>4</th>\n",
       "      <td>1</td>\n",
       "      <td>899</td>\n",
       "      <td>3.5</td>\n",
       "      <td>1147868510</td>\n",
       "    </tr>\n",
       "  </tbody>\n",
       "</table>\n",
       "</div>"
      ],
      "text/plain": [
       "   userId  movieId  rating   timestamp\n",
       "0       1      296     5.0  1147880044\n",
       "1       1      306     3.5  1147868817\n",
       "2       1      307     5.0  1147868828\n",
       "3       1      665     5.0  1147878820\n",
       "4       1      899     3.5  1147868510"
      ]
     },
     "execution_count": 98,
     "metadata": {},
     "output_type": "execute_result"
    }
   ],
   "source": [
    "ratings_df.head()"
   ]
  },
  {
   "cell_type": "code",
   "execution_count": 99,
   "id": "35376f11",
   "metadata": {},
   "outputs": [
    {
     "data": {
      "text/html": [
       "<div>\n",
       "<style scoped>\n",
       "    .dataframe tbody tr th:only-of-type {\n",
       "        vertical-align: middle;\n",
       "    }\n",
       "\n",
       "    .dataframe tbody tr th {\n",
       "        vertical-align: top;\n",
       "    }\n",
       "\n",
       "    .dataframe thead th {\n",
       "        text-align: right;\n",
       "    }\n",
       "</style>\n",
       "<table border=\"1\" class=\"dataframe\">\n",
       "  <thead>\n",
       "    <tr style=\"text-align: right;\">\n",
       "      <th></th>\n",
       "      <th>movieId</th>\n",
       "      <th>title</th>\n",
       "      <th>genres</th>\n",
       "    </tr>\n",
       "  </thead>\n",
       "  <tbody>\n",
       "    <tr>\n",
       "      <th>0</th>\n",
       "      <td>1</td>\n",
       "      <td>Toy Story (1995)</td>\n",
       "      <td>Adventure|Animation|Children|Comedy|Fantasy</td>\n",
       "    </tr>\n",
       "    <tr>\n",
       "      <th>1</th>\n",
       "      <td>2</td>\n",
       "      <td>Jumanji (1995)</td>\n",
       "      <td>Adventure|Children|Fantasy</td>\n",
       "    </tr>\n",
       "    <tr>\n",
       "      <th>2</th>\n",
       "      <td>3</td>\n",
       "      <td>Grumpier Old Men (1995)</td>\n",
       "      <td>Comedy|Romance</td>\n",
       "    </tr>\n",
       "    <tr>\n",
       "      <th>3</th>\n",
       "      <td>4</td>\n",
       "      <td>Waiting to Exhale (1995)</td>\n",
       "      <td>Comedy|Drama|Romance</td>\n",
       "    </tr>\n",
       "    <tr>\n",
       "      <th>4</th>\n",
       "      <td>5</td>\n",
       "      <td>Father of the Bride Part II (1995)</td>\n",
       "      <td>Comedy</td>\n",
       "    </tr>\n",
       "  </tbody>\n",
       "</table>\n",
       "</div>"
      ],
      "text/plain": [
       "   movieId                               title  \\\n",
       "0        1                    Toy Story (1995)   \n",
       "1        2                      Jumanji (1995)   \n",
       "2        3             Grumpier Old Men (1995)   \n",
       "3        4            Waiting to Exhale (1995)   \n",
       "4        5  Father of the Bride Part II (1995)   \n",
       "\n",
       "                                        genres  \n",
       "0  Adventure|Animation|Children|Comedy|Fantasy  \n",
       "1                   Adventure|Children|Fantasy  \n",
       "2                               Comedy|Romance  \n",
       "3                         Comedy|Drama|Romance  \n",
       "4                                       Comedy  "
      ]
     },
     "execution_count": 99,
     "metadata": {},
     "output_type": "execute_result"
    }
   ],
   "source": [
    "movies_df.head()"
   ]
  },
  {
   "cell_type": "markdown",
   "id": "0b0b17b9",
   "metadata": {},
   "source": [
    "###### Removing Noise from the data In the real-world, ratings are very sparse and data points are mostly collected from very popular movies and highly engaged users. We wouldn’t want movies that were rated by a small number of users because it’s not credible enough. Similarly, users who have rated only a handful of movies should also not be taken into account.\n",
    "So with all that taken into account and some trial and error experimentations, we will reduce the noise by adding some filters for the final dataset.\n",
    "To qualify a movie, a minimum of 100 users should have voted a movie. To qualify a user, a minimum of 50 movies should have voted by the user."
   ]
  },
  {
   "cell_type": "code",
   "execution_count": 100,
   "id": "f08aacfc",
   "metadata": {},
   "outputs": [],
   "source": [
    "no_user_voted = ratings_df.groupby('movieId')['rating'].agg('count')\n",
    "no_movies_voted = ratings_df.groupby('userId')['rating'].agg('count')"
   ]
  },
  {
   "cell_type": "code",
   "execution_count": 101,
   "id": "e8225a14",
   "metadata": {},
   "outputs": [
    {
     "data": {
      "image/png": "[encoded data removed]",
      "text/plain": [
       "<Figure size 1600x400 with 1 Axes>"
      ]
     },
     "metadata": {},
     "output_type": "display_data"
    }
   ],
   "source": [
    "f,ax = plt.subplots(1,1,figsize=(16,4))\n",
    "# ratings['rating'].plot(kind='hist')\n",
    "plt.scatter(no_user_voted.index,no_user_voted,color='mediumseagreen')\n",
    "plt.axhline(y=10,color='r')\n",
    "plt.xlabel('MovieId')\n",
    "plt.ylabel('No. of users voted')\n",
    "plt.show()"
   ]
  },
  {
   "cell_type": "code",
   "execution_count": 102,
   "id": "67a7376a",
   "metadata": {},
   "outputs": [
    {
     "data": {
      "image/png": "[encoded data removed]",
      "text/plain": [
       "<Figure size 1600x400 with 1 Axes>"
      ]
     },
     "metadata": {},
     "output_type": "display_data"
    }
   ],
   "source": [
    "f,ax = plt.subplots(1,1,figsize=(16,4))\n",
    "plt.scatter(no_movies_voted.index,no_movies_voted,color='mediumseagreen')\n",
    "plt.axhline(y=50,color='r')\n",
    "plt.xlabel('UserId')\n",
    "plt.ylabel('No. of votes by user')\n",
    "plt.show()"
   ]
  },
  {
   "cell_type": "code",
   "execution_count": 103,
   "id": "b76ae37e",
   "metadata": {},
   "outputs": [],
   "source": [
    "Qualified_Ratting=ratings_df.loc[ratings['movieId'].isin (no_user_voted[no_user_voted > 2000].index)]"
   ]
  },
  {
   "cell_type": "code",
   "execution_count": 104,
   "id": "9a7d6256",
   "metadata": {},
   "outputs": [],
   "source": [
    "Qualified_Movie_Ratting=Qualified_Ratting.loc[Qualified_Ratting['userId'].isin(no_movies_voted[no_movies_voted > 50].index)]"
   ]
  },
  {
   "cell_type": "code",
   "execution_count": 105,
   "id": "3ba476ce",
   "metadata": {},
   "outputs": [
    {
     "data": {
      "text/html": [
       "<div>\n",
       "<style scoped>\n",
       "    .dataframe tbody tr th:only-of-type {\n",
       "        vertical-align: middle;\n",
       "    }\n",
       "\n",
       "    .dataframe tbody tr th {\n",
       "        vertical-align: top;\n",
       "    }\n",
       "\n",
       "    .dataframe thead th {\n",
       "        text-align: right;\n",
       "    }\n",
       "</style>\n",
       "<table border=\"1\" class=\"dataframe\">\n",
       "  <thead>\n",
       "    <tr style=\"text-align: right;\">\n",
       "      <th></th>\n",
       "      <th>userId</th>\n",
       "      <th>movieId</th>\n",
       "      <th>rating</th>\n",
       "      <th>timestamp</th>\n",
       "      <th>title</th>\n",
       "      <th>genres</th>\n",
       "    </tr>\n",
       "  </thead>\n",
       "  <tbody>\n",
       "    <tr>\n",
       "      <th>0</th>\n",
       "      <td>1</td>\n",
       "      <td>296</td>\n",
       "      <td>5.0</td>\n",
       "      <td>1147880044</td>\n",
       "      <td>Pulp Fiction (1994)</td>\n",
       "      <td>Comedy|Crime|Drama|Thriller</td>\n",
       "    </tr>\n",
       "    <tr>\n",
       "      <th>1</th>\n",
       "      <td>3</td>\n",
       "      <td>296</td>\n",
       "      <td>5.0</td>\n",
       "      <td>1439474476</td>\n",
       "      <td>Pulp Fiction (1994)</td>\n",
       "      <td>Comedy|Crime|Drama|Thriller</td>\n",
       "    </tr>\n",
       "    <tr>\n",
       "      <th>2</th>\n",
       "      <td>4</td>\n",
       "      <td>296</td>\n",
       "      <td>4.0</td>\n",
       "      <td>1573938898</td>\n",
       "      <td>Pulp Fiction (1994)</td>\n",
       "      <td>Comedy|Crime|Drama|Thriller</td>\n",
       "    </tr>\n",
       "    <tr>\n",
       "      <th>3</th>\n",
       "      <td>5</td>\n",
       "      <td>296</td>\n",
       "      <td>4.0</td>\n",
       "      <td>830786155</td>\n",
       "      <td>Pulp Fiction (1994)</td>\n",
       "      <td>Comedy|Crime|Drama|Thriller</td>\n",
       "    </tr>\n",
       "    <tr>\n",
       "      <th>4</th>\n",
       "      <td>8</td>\n",
       "      <td>296</td>\n",
       "      <td>5.0</td>\n",
       "      <td>890489713</td>\n",
       "      <td>Pulp Fiction (1994)</td>\n",
       "      <td>Comedy|Crime|Drama|Thriller</td>\n",
       "    </tr>\n",
       "  </tbody>\n",
       "</table>\n",
       "</div>"
      ],
      "text/plain": [
       "   userId  movieId  rating   timestamp                title  \\\n",
       "0       1      296     5.0  1147880044  Pulp Fiction (1994)   \n",
       "1       3      296     5.0  1439474476  Pulp Fiction (1994)   \n",
       "2       4      296     4.0  1573938898  Pulp Fiction (1994)   \n",
       "3       5      296     4.0   830786155  Pulp Fiction (1994)   \n",
       "4       8      296     5.0   890489713  Pulp Fiction (1994)   \n",
       "\n",
       "                        genres  \n",
       "0  Comedy|Crime|Drama|Thriller  \n",
       "1  Comedy|Crime|Drama|Thriller  \n",
       "2  Comedy|Crime|Drama|Thriller  \n",
       "3  Comedy|Crime|Drama|Thriller  \n",
       "4  Comedy|Crime|Drama|Thriller  "
      ]
     },
     "execution_count": 105,
     "metadata": {},
     "output_type": "execute_result"
    }
   ],
   "source": [
    "merged_dataset = pd.merge(Qualified_Movie_Ratting, movies_df, how='inner', on='movieId')\n",
    "merged_dataset.head()"
   ]
  },
  {
   "cell_type": "code",
   "execution_count": 106,
   "id": "50bb6b43",
   "metadata": {},
   "outputs": [
    {
     "data": {
      "text/html": [
       "<div>\n",
       "<style scoped>\n",
       "    .dataframe tbody tr th:only-of-type {\n",
       "        vertical-align: middle;\n",
       "    }\n",
       "\n",
       "    .dataframe tbody tr th {\n",
       "        vertical-align: top;\n",
       "    }\n",
       "\n",
       "    .dataframe thead th {\n",
       "        text-align: right;\n",
       "    }\n",
       "</style>\n",
       "<table border=\"1\" class=\"dataframe\">\n",
       "  <thead>\n",
       "    <tr style=\"text-align: right;\">\n",
       "      <th></th>\n",
       "      <th>userId</th>\n",
       "      <th>title</th>\n",
       "      <th>rating</th>\n",
       "    </tr>\n",
       "  </thead>\n",
       "  <tbody>\n",
       "    <tr>\n",
       "      <th>0</th>\n",
       "      <td>1</td>\n",
       "      <td>Amelie (Fabuleux destin d'Amélie Poulain, Le) ...</td>\n",
       "      <td>4.5</td>\n",
       "    </tr>\n",
       "    <tr>\n",
       "      <th>1</th>\n",
       "      <td>1</td>\n",
       "      <td>Back to the Future Part II (1989)</td>\n",
       "      <td>2.5</td>\n",
       "    </tr>\n",
       "    <tr>\n",
       "      <th>2</th>\n",
       "      <td>1</td>\n",
       "      <td>Back to the Future Part III (1990)</td>\n",
       "      <td>2.5</td>\n",
       "    </tr>\n",
       "    <tr>\n",
       "      <th>3</th>\n",
       "      <td>1</td>\n",
       "      <td>Bridge on the River Kwai, The (1957)</td>\n",
       "      <td>4.0</td>\n",
       "    </tr>\n",
       "    <tr>\n",
       "      <th>4</th>\n",
       "      <td>1</td>\n",
       "      <td>City of God (Cidade de Deus) (2002)</td>\n",
       "      <td>5.0</td>\n",
       "    </tr>\n",
       "  </tbody>\n",
       "</table>\n",
       "</div>"
      ],
      "text/plain": [
       "   userId                                              title  rating\n",
       "0       1  Amelie (Fabuleux destin d'Amélie Poulain, Le) ...     4.5\n",
       "1       1                  Back to the Future Part II (1989)     2.5\n",
       "2       1                 Back to the Future Part III (1990)     2.5\n",
       "3       1               Bridge on the River Kwai, The (1957)     4.0\n",
       "4       1                City of God (Cidade de Deus) (2002)     5.0"
      ]
     },
     "execution_count": 106,
     "metadata": {},
     "output_type": "execute_result"
    }
   ],
   "source": [
    "refined_dataset = merged_dataset.groupby(by=['userId','title'], as_index=False).agg({\"rating\":\"mean\"})\n",
    "refined_dataset.head()\n",
    "     "
   ]
  },
  {
   "cell_type": "markdown",
   "id": "dbd17124",
   "metadata": {},
   "source": [
    "# KNN model to build item-based collaborative Recommender System"
   ]
  },
  {
   "cell_type": "markdown",
   "id": "09e30db4",
   "metadata": {},
   "source": [
    "##### Movie Recommendation using KNN with Input as User id, Number of similar users should the model pick and Number of movies you want to get recommended"
   ]
  },
  {
   "cell_type": "code",
   "execution_count": 79,
   "id": "27735a3b",
   "metadata": {},
   "outputs": [
    {
     "data": {
      "text/html": [
       "<div>\n",
       "<style scoped>\n",
       "    .dataframe tbody tr th:only-of-type {\n",
       "        vertical-align: middle;\n",
       "    }\n",
       "\n",
       "    .dataframe tbody tr th {\n",
       "        vertical-align: top;\n",
       "    }\n",
       "\n",
       "    .dataframe thead th {\n",
       "        text-align: right;\n",
       "    }\n",
       "</style>\n",
       "<table border=\"1\" class=\"dataframe\">\n",
       "  <thead>\n",
       "    <tr style=\"text-align: right;\">\n",
       "      <th>title</th>\n",
       "      <th>'burbs, The (1989)</th>\n",
       "      <th>(500) Days of Summer (2009)</th>\n",
       "      <th>10 Cloverfield Lane (2016)</th>\n",
       "      <th>10 Things I Hate About You (1999)</th>\n",
       "      <th>10,000 BC (2008)</th>\n",
       "      <th>101 Dalmatians (1996)</th>\n",
       "      <th>101 Dalmatians (One Hundred and One Dalmatians) (1961)</th>\n",
       "      <th>12 Angry Men (1957)</th>\n",
       "      <th>12 Years a Slave (2013)</th>\n",
       "      <th>127 Hours (2010)</th>\n",
       "      <th>...</th>\n",
       "      <th>Zack and Miri Make a Porno (2008)</th>\n",
       "      <th>Zero Dark Thirty (2012)</th>\n",
       "      <th>Zero Effect (1998)</th>\n",
       "      <th>Zodiac (2007)</th>\n",
       "      <th>Zombieland (2009)</th>\n",
       "      <th>Zoolander (2001)</th>\n",
       "      <th>Zootopia (2016)</th>\n",
       "      <th>eXistenZ (1999)</th>\n",
       "      <th>xXx (2002)</th>\n",
       "      <th>¡Three Amigos! (1986)</th>\n",
       "    </tr>\n",
       "    <tr>\n",
       "      <th>userId</th>\n",
       "      <th></th>\n",
       "      <th></th>\n",
       "      <th></th>\n",
       "      <th></th>\n",
       "      <th></th>\n",
       "      <th></th>\n",
       "      <th></th>\n",
       "      <th></th>\n",
       "      <th></th>\n",
       "      <th></th>\n",
       "      <th></th>\n",
       "      <th></th>\n",
       "      <th></th>\n",
       "      <th></th>\n",
       "      <th></th>\n",
       "      <th></th>\n",
       "      <th></th>\n",
       "      <th></th>\n",
       "      <th></th>\n",
       "      <th></th>\n",
       "      <th></th>\n",
       "    </tr>\n",
       "  </thead>\n",
       "  <tbody>\n",
       "    <tr>\n",
       "      <th>1</th>\n",
       "      <td>0.0</td>\n",
       "      <td>0.0</td>\n",
       "      <td>0.0</td>\n",
       "      <td>0.0</td>\n",
       "      <td>0.0</td>\n",
       "      <td>0.0</td>\n",
       "      <td>0.0</td>\n",
       "      <td>0.0</td>\n",
       "      <td>0.0</td>\n",
       "      <td>0.0</td>\n",
       "      <td>...</td>\n",
       "      <td>0.0</td>\n",
       "      <td>0.0</td>\n",
       "      <td>0.0</td>\n",
       "      <td>0.0</td>\n",
       "      <td>0.0</td>\n",
       "      <td>0.0</td>\n",
       "      <td>0.0</td>\n",
       "      <td>0.0</td>\n",
       "      <td>0.0</td>\n",
       "      <td>0.0</td>\n",
       "    </tr>\n",
       "    <tr>\n",
       "      <th>2</th>\n",
       "      <td>0.0</td>\n",
       "      <td>0.0</td>\n",
       "      <td>0.0</td>\n",
       "      <td>0.0</td>\n",
       "      <td>0.0</td>\n",
       "      <td>0.0</td>\n",
       "      <td>0.0</td>\n",
       "      <td>0.0</td>\n",
       "      <td>0.0</td>\n",
       "      <td>0.0</td>\n",
       "      <td>...</td>\n",
       "      <td>0.0</td>\n",
       "      <td>0.0</td>\n",
       "      <td>0.0</td>\n",
       "      <td>0.0</td>\n",
       "      <td>0.0</td>\n",
       "      <td>0.0</td>\n",
       "      <td>0.0</td>\n",
       "      <td>0.0</td>\n",
       "      <td>0.0</td>\n",
       "      <td>0.0</td>\n",
       "    </tr>\n",
       "    <tr>\n",
       "      <th>3</th>\n",
       "      <td>0.0</td>\n",
       "      <td>0.0</td>\n",
       "      <td>0.0</td>\n",
       "      <td>0.0</td>\n",
       "      <td>0.0</td>\n",
       "      <td>0.0</td>\n",
       "      <td>0.0</td>\n",
       "      <td>0.0</td>\n",
       "      <td>0.0</td>\n",
       "      <td>0.0</td>\n",
       "      <td>...</td>\n",
       "      <td>0.0</td>\n",
       "      <td>0.0</td>\n",
       "      <td>0.0</td>\n",
       "      <td>0.0</td>\n",
       "      <td>4.0</td>\n",
       "      <td>3.5</td>\n",
       "      <td>0.0</td>\n",
       "      <td>0.0</td>\n",
       "      <td>3.5</td>\n",
       "      <td>0.0</td>\n",
       "    </tr>\n",
       "    <tr>\n",
       "      <th>4</th>\n",
       "      <td>0.0</td>\n",
       "      <td>0.0</td>\n",
       "      <td>0.0</td>\n",
       "      <td>0.0</td>\n",
       "      <td>0.0</td>\n",
       "      <td>0.0</td>\n",
       "      <td>0.0</td>\n",
       "      <td>0.0</td>\n",
       "      <td>0.0</td>\n",
       "      <td>0.0</td>\n",
       "      <td>...</td>\n",
       "      <td>0.0</td>\n",
       "      <td>0.0</td>\n",
       "      <td>0.0</td>\n",
       "      <td>0.0</td>\n",
       "      <td>0.0</td>\n",
       "      <td>4.0</td>\n",
       "      <td>4.5</td>\n",
       "      <td>0.0</td>\n",
       "      <td>0.0</td>\n",
       "      <td>0.0</td>\n",
       "    </tr>\n",
       "    <tr>\n",
       "      <th>5</th>\n",
       "      <td>0.0</td>\n",
       "      <td>0.0</td>\n",
       "      <td>0.0</td>\n",
       "      <td>0.0</td>\n",
       "      <td>0.0</td>\n",
       "      <td>0.0</td>\n",
       "      <td>0.0</td>\n",
       "      <td>0.0</td>\n",
       "      <td>0.0</td>\n",
       "      <td>0.0</td>\n",
       "      <td>...</td>\n",
       "      <td>0.0</td>\n",
       "      <td>0.0</td>\n",
       "      <td>0.0</td>\n",
       "      <td>0.0</td>\n",
       "      <td>0.0</td>\n",
       "      <td>0.0</td>\n",
       "      <td>0.0</td>\n",
       "      <td>0.0</td>\n",
       "      <td>0.0</td>\n",
       "      <td>0.0</td>\n",
       "    </tr>\n",
       "  </tbody>\n",
       "</table>\n",
       "<p>5 rows × 2427 columns</p>\n",
       "</div>"
      ],
      "text/plain": [
       "title   'burbs, The (1989)  (500) Days of Summer (2009)  \\\n",
       "userId                                                    \n",
       "1                      0.0                          0.0   \n",
       "2                      0.0                          0.0   \n",
       "3                      0.0                          0.0   \n",
       "4                      0.0                          0.0   \n",
       "5                      0.0                          0.0   \n",
       "\n",
       "title   10 Cloverfield Lane (2016)  10 Things I Hate About You (1999)  \\\n",
       "userId                                                                  \n",
       "1                              0.0                                0.0   \n",
       "2                              0.0                                0.0   \n",
       "3                              0.0                                0.0   \n",
       "4                              0.0                                0.0   \n",
       "5                              0.0                                0.0   \n",
       "\n",
       "title   10,000 BC (2008)  101 Dalmatians (1996)  \\\n",
       "userId                                            \n",
       "1                    0.0                    0.0   \n",
       "2                    0.0                    0.0   \n",
       "3                    0.0                    0.0   \n",
       "4                    0.0                    0.0   \n",
       "5                    0.0                    0.0   \n",
       "\n",
       "title   101 Dalmatians (One Hundred and One Dalmatians) (1961)  \\\n",
       "userId                                                           \n",
       "1                                                     0.0        \n",
       "2                                                     0.0        \n",
       "3                                                     0.0        \n",
       "4                                                     0.0        \n",
       "5                                                     0.0        \n",
       "\n",
       "title   12 Angry Men (1957)  12 Years a Slave (2013)  127 Hours (2010)  ...  \\\n",
       "userId                                                                  ...   \n",
       "1                       0.0                      0.0               0.0  ...   \n",
       "2                       0.0                      0.0               0.0  ...   \n",
       "3                       0.0                      0.0               0.0  ...   \n",
       "4                       0.0                      0.0               0.0  ...   \n",
       "5                       0.0                      0.0               0.0  ...   \n",
       "\n",
       "title   Zack and Miri Make a Porno (2008)  Zero Dark Thirty (2012)  \\\n",
       "userId                                                               \n",
       "1                                     0.0                      0.0   \n",
       "2                                     0.0                      0.0   \n",
       "3                                     0.0                      0.0   \n",
       "4                                     0.0                      0.0   \n",
       "5                                     0.0                      0.0   \n",
       "\n",
       "title   Zero Effect (1998)  Zodiac (2007)  Zombieland (2009)  \\\n",
       "userId                                                         \n",
       "1                      0.0            0.0                0.0   \n",
       "2                      0.0            0.0                0.0   \n",
       "3                      0.0            0.0                4.0   \n",
       "4                      0.0            0.0                0.0   \n",
       "5                      0.0            0.0                0.0   \n",
       "\n",
       "title   Zoolander (2001)  Zootopia (2016)  eXistenZ (1999)  xXx (2002)  \\\n",
       "userId                                                                   \n",
       "1                    0.0              0.0              0.0         0.0   \n",
       "2                    0.0              0.0              0.0         0.0   \n",
       "3                    3.5              0.0              0.0         3.5   \n",
       "4                    4.0              4.5              0.0         0.0   \n",
       "5                    0.0              0.0              0.0         0.0   \n",
       "\n",
       "title   ¡Three Amigos! (1986)  \n",
       "userId                         \n",
       "1                         0.0  \n",
       "2                         0.0  \n",
       "3                         0.0  \n",
       "4                         0.0  \n",
       "5                         0.0  \n",
       "\n",
       "[5 rows x 2427 columns]"
      ]
     },
     "execution_count": 79,
     "metadata": {},
     "output_type": "execute_result"
    }
   ],
   "source": [
    "\n",
    "# pivot and create movie-user matrix\n",
    "user_to_movie_df = refined_dataset.pivot(\n",
    "    index='userId',\n",
    "     columns='title',\n",
    "      values='rating').fillna(0)\n",
    "\n",
    "user_to_movie_df.head()"
   ]
  },
  {
   "cell_type": "code",
   "execution_count": 80,
   "id": "07750022",
   "metadata": {
    "scrolled": true
   },
   "outputs": [
    {
     "data": {
      "text/plain": [
       "<101074x2427 sparse matrix of type '<class 'numpy.float64'>'\n",
       "\twith 18393852 stored elements in Compressed Sparse Row format>"
      ]
     },
     "execution_count": 80,
     "metadata": {},
     "output_type": "execute_result"
    }
   ],
   "source": [
    "user_to_movie_sparse_df = csr_matrix(user_to_movie_df.values)\n",
    "user_to_movie_sparse_df"
   ]
  },
  {
   "cell_type": "markdown",
   "id": "18b2ba0d",
   "metadata": {},
   "source": [
    "###### Fitting K-Nearest Neighbours model to the scipy sparse matrix"
   ]
  },
  {
   "cell_type": "markdown",
   "id": "e71e41f0",
   "metadata": {},
   "source": [
    "###### param_grid = {\n",
    "    'n_neighbors': [3,5,10],\n",
    "    'metric': ['cosine','jaccard'],\n",
    "    'algorithm': ['brute']\n",
    "}\n",
    "\n",
    "knn_model = NearestNeighbors()\n",
    "grid_search = GridSearchCV(knn_model, param_grid, scoring='neg_mean_squared_error',cv=5, n_jobs=-1)\n",
    "grid_search.fit(user_to_movie_sparse_df)\n",
    "\n",
    "# Get the best hyperparameters from the grid search\n",
    "best_k = grid_search.best_params_['n_neighbors']\n",
    "best_metric = grid_search.best_params_['metric']\n",
    "best_algorithm=grid_search.best_params_['algorithm']"
   ]
  },
  {
   "cell_type": "markdown",
   "id": "be2e12e2",
   "metadata": {},
   "source": [
    "###### print(f\"Optimal number of neighbors (n_neighbors): {best_k}\")\n",
    "print(f\"Optimal similarity metric: {best_metric}\")\n",
    "print(f\"Optimal algorithm: {best_algorithm}\")"
   ]
  },
  {
   "cell_type": "markdown",
   "id": "286193ff",
   "metadata": {},
   "source": [
    "###### UserToMovie_knn_model = NearestNeighbors(n_neighbors=best_k, metric=best_metric, algorithm=best_algorithm, n_jobs=-1)\n",
    "UserToMovie_knn_model.fit(user_to_movie_sparse_df)"
   ]
  },
  {
   "cell_type": "markdown",
   "id": "e411ea99",
   "metadata": {},
   "source": [
    "###### joblib.dump(UserToMovie_knn_model, './movie_recommendation_model.pkl')"
   ]
  },
  {
   "cell_type": "code",
   "execution_count": 113,
   "id": "357381b7",
   "metadata": {},
   "outputs": [
    {
     "data": {
      "text/html": [
       "<style>#sk-container-id-8 {color: black;background-color: white;}#sk-container-id-8 pre{padding: 0;}#sk-container-id-8 div.sk-toggleable {background-color: white;}#sk-container-id-8 label.sk-toggleable__label {cursor: pointer;display: block;width: 100%;margin-bottom: 0;padding: 0.3em;box-sizing: border-box;text-align: center;}#sk-container-id-8 label.sk-toggleable__label-arrow:before {content: \"▸\";float: left;margin-right: 0.25em;color: #696969;}#sk-container-id-8 label.sk-toggleable__label-arrow:hover:before {color: black;}#sk-container-id-8 div.sk-estimator:hover label.sk-toggleable__label-arrow:before {color: black;}#sk-container-id-8 div.sk-toggleable__content {max-height: 0;max-width: 0;overflow: hidden;text-align: left;background-color: #f0f8ff;}#sk-container-id-8 div.sk-toggleable__content pre {margin: 0.2em;color: black;border-radius: 0.25em;background-color: #f0f8ff;}#sk-container-id-8 input.sk-toggleable__control:checked~div.sk-toggleable__content {max-height: 200px;max-width: 100%;overflow: auto;}#sk-container-id-8 input.sk-toggleable__control:checked~label.sk-toggleable__label-arrow:before {content: \"▾\";}#sk-container-id-8 div.sk-estimator input.sk-toggleable__control:checked~label.sk-toggleable__label {background-color: #d4ebff;}#sk-container-id-8 div.sk-label input.sk-toggleable__control:checked~label.sk-toggleable__label {background-color: #d4ebff;}#sk-container-id-8 input.sk-hidden--visually {border: 0;clip: rect(1px 1px 1px 1px);clip: rect(1px, 1px, 1px, 1px);height: 1px;margin: -1px;overflow: hidden;padding: 0;position: absolute;width: 1px;}#sk-container-id-8 div.sk-estimator {font-family: monospace;background-color: #f0f8ff;border: 1px dotted black;border-radius: 0.25em;box-sizing: border-box;margin-bottom: 0.5em;}#sk-container-id-8 div.sk-estimator:hover {background-color: #d4ebff;}#sk-container-id-8 div.sk-parallel-item::after {content: \"\";width: 100%;border-bottom: 1px solid gray;flex-grow: 1;}#sk-container-id-8 div.sk-label:hover label.sk-toggleable__label {background-color: #d4ebff;}#sk-container-id-8 div.sk-serial::before {content: \"\";position: absolute;border-left: 1px solid gray;box-sizing: border-box;top: 0;bottom: 0;left: 50%;z-index: 0;}#sk-container-id-8 div.sk-serial {display: flex;flex-direction: column;align-items: center;background-color: white;padding-right: 0.2em;padding-left: 0.2em;position: relative;}#sk-container-id-8 div.sk-item {position: relative;z-index: 1;}#sk-container-id-8 div.sk-parallel {display: flex;align-items: stretch;justify-content: center;background-color: white;position: relative;}#sk-container-id-8 div.sk-item::before, #sk-container-id-8 div.sk-parallel-item::before {content: \"\";position: absolute;border-left: 1px solid gray;box-sizing: border-box;top: 0;bottom: 0;left: 50%;z-index: -1;}#sk-container-id-8 div.sk-parallel-item {display: flex;flex-direction: column;z-index: 1;position: relative;background-color: white;}#sk-container-id-8 div.sk-parallel-item:first-child::after {align-self: flex-end;width: 50%;}#sk-container-id-8 div.sk-parallel-item:last-child::after {align-self: flex-start;width: 50%;}#sk-container-id-8 div.sk-parallel-item:only-child::after {width: 0;}#sk-container-id-8 div.sk-dashed-wrapped {border: 1px dashed gray;margin: 0 0.4em 0.5em 0.4em;box-sizing: border-box;padding-bottom: 0.4em;background-color: white;}#sk-container-id-8 div.sk-label label {font-family: monospace;font-weight: bold;display: inline-block;line-height: 1.2em;}#sk-container-id-8 div.sk-label-container {text-align: center;}#sk-container-id-8 div.sk-container {/* jupyter's `normalize.less` sets `[hidden] { display: none; }` but bootstrap.min.css set `[hidden] { display: none !important; }` so we also need the `!important` here to be able to override the default hidden behavior on the sphinx rendered scikit-learn.org. See: https://github.com/scikit-learn/scikit-learn/issues/21755 */display: inline-block !important;position: relative;}#sk-container-id-8 div.sk-text-repr-fallback {display: none;}</style><div id=\"sk-container-id-8\" class=\"sk-top-container\"><div class=\"sk-text-repr-fallback\"><pre>NearestNeighbors(algorithm=&#x27;brute&#x27;, metric=&#x27;cosine&#x27;, n_jobs=-1, n_neighbors=10)</pre><b>In a Jupyter environment, please rerun this cell to show the HTML representation or trust the notebook. <br />On GitHub, the HTML representation is unable to render, please try loading this page with nbviewer.org.</b></div><div class=\"sk-container\" hidden><div class=\"sk-item\"><div class=\"sk-estimator sk-toggleable\"><input class=\"sk-toggleable__control sk-hidden--visually\" id=\"sk-estimator-id-8\" type=\"checkbox\" checked><label for=\"sk-estimator-id-8\" class=\"sk-toggleable__label sk-toggleable__label-arrow\">NearestNeighbors</label><div class=\"sk-toggleable__content\"><pre>NearestNeighbors(algorithm=&#x27;brute&#x27;, metric=&#x27;cosine&#x27;, n_jobs=-1, n_neighbors=10)</pre></div></div></div></div></div>"
      ],
      "text/plain": [
       "NearestNeighbors(algorithm='brute', metric='cosine', n_jobs=-1, n_neighbors=10)"
      ]
     },
     "execution_count": 113,
     "metadata": {},
     "output_type": "execute_result"
    }
   ],
   "source": [
    "UserToMovie_knn_model = NearestNeighbors(n_neighbors=10, metric='cosine', algorithm='brute', n_jobs=-1)\n",
    "UserToMovie_knn_model.fit(user_to_movie_sparse_df)"
   ]
  },
  {
   "cell_type": "code",
   "execution_count": 114,
   "id": "be156611",
   "metadata": {},
   "outputs": [
    {
     "data": {
      "text/plain": [
       "['./movie_recommendation_model.pkl']"
      ]
     },
     "execution_count": 114,
     "metadata": {},
     "output_type": "execute_result"
    }
   ],
   "source": [
    "joblib.dump(UserToMovie_knn_model, './movie_recommendation_model.pkl')"
   ]
  },
  {
   "cell_type": "code",
   "execution_count": 115,
   "id": "4a76a303",
   "metadata": {},
   "outputs": [],
   "source": [
    "def recommender_system(user_id, n_similar_users, n_movies): #, user_to_movie_df, knn_model):\n",
    "  \n",
    "  print(\"Movie seen by the User:\")\n",
    "  pprint(list(refined_dataset[refined_dataset['userId'] == user_id]['title']))\n",
    "  print(\"\")\n",
    "\n",
    "  # def get_similar_users(user, user_to_movie_df, knn_model, n = 5):\n",
    "  def get_similar_users(user, n = 5):\n",
    "    Knnmodel = joblib.load('./movie_recommendation_model.pkl')\n",
    "    knn_input = np.asarray([user_to_movie_df.values[user-1]])\n",
    "    \n",
    "    distances, indices = Knnmodel.kneighbors(knn_input, n_neighbors=n+1)\n",
    "    \n",
    "    print(\"Top\",n,\"users who are very much similar to the User-\",user, \"are: \")\n",
    "    print(\" \")\n",
    "\n",
    "    for i in range(1,len(distances[0])):\n",
    "      print(i,\". User:\", indices[0][i]+1, \"separated by distance of\",distances[0][i])\n",
    "    print(\"\")\n",
    "    return indices.flatten()[1:] + 1, distances.flatten()[1:]\n",
    "\n",
    "\n",
    "  def filtered_movie_recommendations(n = 10):\n",
    "  \n",
    "    first_zero_index = np.where(mean_rating_list == 0)[0][-1]\n",
    "    sortd_index = np.argsort(mean_rating_list)[::-1]\n",
    "    sortd_index = sortd_index[:list(sortd_index).index(first_zero_index)]\n",
    "    n = min(len(sortd_index),n)\n",
    "    movies_watched = list(refined_dataset[refined_dataset['userId'] == user_id]['title'])\n",
    "    filtered_movie_list = list(movies_list[sortd_index])\n",
    "    count = 0\n",
    "    final_movie_list = []\n",
    "    for i in filtered_movie_list:\n",
    "      if i not in movies_watched:\n",
    "        count+=1\n",
    "        final_movie_list.append(i)\n",
    "      if count == n:\n",
    "        break\n",
    "    if count == 0:\n",
    "      print(\"There are no movies left which are not seen by the input users and seen by similar users. May be increasing the number of similar users who are to be considered may give a chance of suggesting an unseen good movie.\")\n",
    "    else:\n",
    "      pprint(final_movie_list)\n",
    "\n",
    "  similar_user_list, distance_list = get_similar_users(user_id,n_similar_users)\n",
    "  weightage_list = distance_list/np.sum(distance_list)\n",
    "  mov_rtngs_sim_users = user_to_movie_df.values[similar_user_list]\n",
    "  movies_list = user_to_movie_df.columns\n",
    "  weightage_list = weightage_list[:,np.newaxis] + np.zeros(len(movies_list))\n",
    "  new_rating_matrix = weightage_list*mov_rtngs_sim_users\n",
    "  mean_rating_list = new_rating_matrix.sum(axis =0)\n",
    "  print(\"\")\n",
    "  print(\"Movies recommended based on similar users are: \")\n",
    "  print(\"\")\n",
    "  filtered_movie_recommendations(n_movies)"
   ]
  },
  {
   "cell_type": "code",
   "execution_count": 116,
   "id": "99323ab6",
   "metadata": {},
   "outputs": [
    {
     "name": "stdout",
     "output_type": "stream",
     "text": [
      "Enter user id\n",
      "1051\n",
      "number of similar users to be considered\n",
      "10\n",
      "Enter number of movies to be recommended:\n",
      "10\n",
      "Movie seen by the User:\n",
      "[]\n",
      "\n",
      "Top 10 users who are very much similar to the User- 1051 are: \n",
      " \n",
      "1 . User: 47945 separated by distance of 0.5814048130697131\n",
      "2 . User: 79804 separated by distance of 0.6218093113774101\n",
      "3 . User: 19670 separated by distance of 0.6728856623928263\n",
      "4 . User: 39056 separated by distance of 0.6744961742235103\n",
      "5 . User: 3817 separated by distance of 0.6828779908140148\n",
      "6 . User: 1730 separated by distance of 0.6865124886520981\n",
      "7 . User: 95550 separated by distance of 0.6907796268350457\n",
      "8 . User: 70628 separated by distance of 0.6937030881061683\n",
      "9 . User: 15209 separated by distance of 0.6971584512340585\n",
      "10 . User: 67314 separated by distance of 0.6984835421847795\n",
      "\n",
      "\n",
      "Movies recommended based on similar users are: \n",
      "\n",
      "['Pulp Fiction (1994)',\n",
      " 'Jurassic Park (1993)',\n",
      " 'Shawshank Redemption, The (1994)',\n",
      " 'Godfather, The (1972)',\n",
      " 'Silence of the Lambs, The (1991)',\n",
      " 'Matrix, The (1999)',\n",
      " 'Forrest Gump (1994)',\n",
      " 'Departed, The (2006)',\n",
      " 'Toy Story (1995)',\n",
      " 'Raiders of the Lost Ark (Indiana Jones and the Raiders of the Lost Ark) '\n",
      " '(1981)']\n"
     ]
    }
   ],
   "source": [
    "print(\"Enter user id\")\n",
    "user_id= int(input())\n",
    "print(\"number of similar users to be considered\")\n",
    "sim_users = int(input())\n",
    "print(\"Enter number of movies to be recommended:\")\n",
    "n_movies = int(input())\n",
    "recommender_system(user_id,sim_users,n_movies)"
   ]
  },
  {
   "cell_type": "markdown",
   "id": "13603efb",
   "metadata": {},
   "source": [
    "###### Movie Recommendation using KNN with Input as Movie Name and Number of movies you want to get recommended:"
   ]
  },
  {
   "cell_type": "code",
   "execution_count": 117,
   "id": "90039403",
   "metadata": {},
   "outputs": [
    {
     "data": {
      "text/html": [
       "<div>\n",
       "<style scoped>\n",
       "    .dataframe tbody tr th:only-of-type {\n",
       "        vertical-align: middle;\n",
       "    }\n",
       "\n",
       "    .dataframe tbody tr th {\n",
       "        vertical-align: top;\n",
       "    }\n",
       "\n",
       "    .dataframe thead th {\n",
       "        text-align: right;\n",
       "    }\n",
       "</style>\n",
       "<table border=\"1\" class=\"dataframe\">\n",
       "  <thead>\n",
       "    <tr style=\"text-align: right;\">\n",
       "      <th>userId</th>\n",
       "      <th>1</th>\n",
       "      <th>2</th>\n",
       "      <th>3</th>\n",
       "      <th>4</th>\n",
       "      <th>5</th>\n",
       "      <th>8</th>\n",
       "      <th>9</th>\n",
       "      <th>10</th>\n",
       "      <th>12</th>\n",
       "      <th>13</th>\n",
       "      <th>...</th>\n",
       "      <th>162530</th>\n",
       "      <th>162532</th>\n",
       "      <th>162533</th>\n",
       "      <th>162534</th>\n",
       "      <th>162535</th>\n",
       "      <th>162536</th>\n",
       "      <th>162537</th>\n",
       "      <th>162538</th>\n",
       "      <th>162540</th>\n",
       "      <th>162541</th>\n",
       "    </tr>\n",
       "    <tr>\n",
       "      <th>title</th>\n",
       "      <th></th>\n",
       "      <th></th>\n",
       "      <th></th>\n",
       "      <th></th>\n",
       "      <th></th>\n",
       "      <th></th>\n",
       "      <th></th>\n",
       "      <th></th>\n",
       "      <th></th>\n",
       "      <th></th>\n",
       "      <th></th>\n",
       "      <th></th>\n",
       "      <th></th>\n",
       "      <th></th>\n",
       "      <th></th>\n",
       "      <th></th>\n",
       "      <th></th>\n",
       "      <th></th>\n",
       "      <th></th>\n",
       "      <th></th>\n",
       "      <th></th>\n",
       "    </tr>\n",
       "  </thead>\n",
       "  <tbody>\n",
       "    <tr>\n",
       "      <th>'burbs, The (1989)</th>\n",
       "      <td>0.0</td>\n",
       "      <td>0.0</td>\n",
       "      <td>0.0</td>\n",
       "      <td>0.0</td>\n",
       "      <td>0.0</td>\n",
       "      <td>0.0</td>\n",
       "      <td>0.0</td>\n",
       "      <td>0.0</td>\n",
       "      <td>0.0</td>\n",
       "      <td>0.0</td>\n",
       "      <td>...</td>\n",
       "      <td>0.0</td>\n",
       "      <td>0.0</td>\n",
       "      <td>0.0</td>\n",
       "      <td>0.0</td>\n",
       "      <td>0.0</td>\n",
       "      <td>0.0</td>\n",
       "      <td>0.0</td>\n",
       "      <td>0.0</td>\n",
       "      <td>0.0</td>\n",
       "      <td>1.5</td>\n",
       "    </tr>\n",
       "    <tr>\n",
       "      <th>(500) Days of Summer (2009)</th>\n",
       "      <td>0.0</td>\n",
       "      <td>0.0</td>\n",
       "      <td>0.0</td>\n",
       "      <td>0.0</td>\n",
       "      <td>0.0</td>\n",
       "      <td>0.0</td>\n",
       "      <td>0.0</td>\n",
       "      <td>0.0</td>\n",
       "      <td>3.0</td>\n",
       "      <td>0.0</td>\n",
       "      <td>...</td>\n",
       "      <td>0.0</td>\n",
       "      <td>0.0</td>\n",
       "      <td>0.0</td>\n",
       "      <td>0.0</td>\n",
       "      <td>0.0</td>\n",
       "      <td>0.0</td>\n",
       "      <td>0.0</td>\n",
       "      <td>4.5</td>\n",
       "      <td>0.0</td>\n",
       "      <td>0.0</td>\n",
       "    </tr>\n",
       "    <tr>\n",
       "      <th>10 Cloverfield Lane (2016)</th>\n",
       "      <td>0.0</td>\n",
       "      <td>0.0</td>\n",
       "      <td>0.0</td>\n",
       "      <td>0.0</td>\n",
       "      <td>0.0</td>\n",
       "      <td>0.0</td>\n",
       "      <td>0.0</td>\n",
       "      <td>0.0</td>\n",
       "      <td>0.0</td>\n",
       "      <td>0.0</td>\n",
       "      <td>...</td>\n",
       "      <td>0.0</td>\n",
       "      <td>0.0</td>\n",
       "      <td>0.0</td>\n",
       "      <td>0.0</td>\n",
       "      <td>0.0</td>\n",
       "      <td>0.0</td>\n",
       "      <td>0.0</td>\n",
       "      <td>0.0</td>\n",
       "      <td>0.0</td>\n",
       "      <td>0.0</td>\n",
       "    </tr>\n",
       "    <tr>\n",
       "      <th>10 Things I Hate About You (1999)</th>\n",
       "      <td>0.0</td>\n",
       "      <td>0.0</td>\n",
       "      <td>0.0</td>\n",
       "      <td>0.0</td>\n",
       "      <td>0.0</td>\n",
       "      <td>0.0</td>\n",
       "      <td>0.0</td>\n",
       "      <td>3.0</td>\n",
       "      <td>3.0</td>\n",
       "      <td>0.0</td>\n",
       "      <td>...</td>\n",
       "      <td>0.0</td>\n",
       "      <td>0.0</td>\n",
       "      <td>2.5</td>\n",
       "      <td>0.0</td>\n",
       "      <td>0.0</td>\n",
       "      <td>0.0</td>\n",
       "      <td>0.0</td>\n",
       "      <td>4.5</td>\n",
       "      <td>0.0</td>\n",
       "      <td>0.0</td>\n",
       "    </tr>\n",
       "    <tr>\n",
       "      <th>10,000 BC (2008)</th>\n",
       "      <td>0.0</td>\n",
       "      <td>0.0</td>\n",
       "      <td>0.0</td>\n",
       "      <td>0.0</td>\n",
       "      <td>0.0</td>\n",
       "      <td>0.0</td>\n",
       "      <td>0.0</td>\n",
       "      <td>0.0</td>\n",
       "      <td>0.0</td>\n",
       "      <td>0.0</td>\n",
       "      <td>...</td>\n",
       "      <td>0.0</td>\n",
       "      <td>0.0</td>\n",
       "      <td>0.0</td>\n",
       "      <td>0.0</td>\n",
       "      <td>0.0</td>\n",
       "      <td>0.0</td>\n",
       "      <td>0.0</td>\n",
       "      <td>0.0</td>\n",
       "      <td>5.0</td>\n",
       "      <td>0.0</td>\n",
       "    </tr>\n",
       "  </tbody>\n",
       "</table>\n",
       "<p>5 rows × 101074 columns</p>\n",
       "</div>"
      ],
      "text/plain": [
       "userId                             1       2       3       4       5       \\\n",
       "title                                                                       \n",
       "'burbs, The (1989)                    0.0     0.0     0.0     0.0     0.0   \n",
       "(500) Days of Summer (2009)           0.0     0.0     0.0     0.0     0.0   \n",
       "10 Cloverfield Lane (2016)            0.0     0.0     0.0     0.0     0.0   \n",
       "10 Things I Hate About You (1999)     0.0     0.0     0.0     0.0     0.0   \n",
       "10,000 BC (2008)                      0.0     0.0     0.0     0.0     0.0   \n",
       "\n",
       "userId                             8       9       10      12      13      \\\n",
       "title                                                                       \n",
       "'burbs, The (1989)                    0.0     0.0     0.0     0.0     0.0   \n",
       "(500) Days of Summer (2009)           0.0     0.0     0.0     3.0     0.0   \n",
       "10 Cloverfield Lane (2016)            0.0     0.0     0.0     0.0     0.0   \n",
       "10 Things I Hate About You (1999)     0.0     0.0     3.0     3.0     0.0   \n",
       "10,000 BC (2008)                      0.0     0.0     0.0     0.0     0.0   \n",
       "\n",
       "userId                             ...  162530  162532  162533  162534  \\\n",
       "title                              ...                                   \n",
       "'burbs, The (1989)                 ...     0.0     0.0     0.0     0.0   \n",
       "(500) Days of Summer (2009)        ...     0.0     0.0     0.0     0.0   \n",
       "10 Cloverfield Lane (2016)         ...     0.0     0.0     0.0     0.0   \n",
       "10 Things I Hate About You (1999)  ...     0.0     0.0     2.5     0.0   \n",
       "10,000 BC (2008)                   ...     0.0     0.0     0.0     0.0   \n",
       "\n",
       "userId                             162535  162536  162537  162538  162540  \\\n",
       "title                                                                       \n",
       "'burbs, The (1989)                    0.0     0.0     0.0     0.0     0.0   \n",
       "(500) Days of Summer (2009)           0.0     0.0     0.0     4.5     0.0   \n",
       "10 Cloverfield Lane (2016)            0.0     0.0     0.0     0.0     0.0   \n",
       "10 Things I Hate About You (1999)     0.0     0.0     0.0     4.5     0.0   \n",
       "10,000 BC (2008)                      0.0     0.0     0.0     0.0     5.0   \n",
       "\n",
       "userId                             162541  \n",
       "title                                      \n",
       "'burbs, The (1989)                    1.5  \n",
       "(500) Days of Summer (2009)           0.0  \n",
       "10 Cloverfield Lane (2016)            0.0  \n",
       "10 Things I Hate About You (1999)     0.0  \n",
       "10,000 BC (2008)                      0.0  \n",
       "\n",
       "[5 rows x 101074 columns]"
      ]
     },
     "execution_count": 117,
     "metadata": {},
     "output_type": "execute_result"
    }
   ],
   "source": [
    "movie_to_user_df = refined_dataset.pivot(\n",
    "     index='title',\n",
    "   columns='userId',\n",
    "      values='rating').fillna(0)\n",
    "\n",
    "movie_to_user_df.head()"
   ]
  },
  {
   "cell_type": "code",
   "execution_count": 118,
   "id": "72b8551b",
   "metadata": {},
   "outputs": [
    {
     "data": {
      "text/plain": [
       "<2427x101074 sparse matrix of type '<class 'numpy.float64'>'\n",
       "\twith 18393852 stored elements in Compressed Sparse Row format>"
      ]
     },
     "execution_count": 118,
     "metadata": {},
     "output_type": "execute_result"
    }
   ],
   "source": [
    "\n",
    "# transform matrix to scipy sparse matrix\n",
    "movie_to_user_sparse_df = csr_matrix(movie_to_user_df.values)\n",
    "movie_to_user_sparse_df"
   ]
  },
  {
   "cell_type": "code",
   "execution_count": 119,
   "id": "0be958a3",
   "metadata": {},
   "outputs": [],
   "source": [
    "#Extracting movie names into a list:\n",
    "movies_list = list(movie_to_user_df.index)"
   ]
  },
  {
   "cell_type": "code",
   "execution_count": 120,
   "id": "d23c5af6",
   "metadata": {},
   "outputs": [
    {
     "name": "stdout",
     "output_type": "stream",
     "text": [
      "{\"'burbs, The (1989)\": 0, '(500) Days of Summer (2009)': 1, '10 Cloverfield Lane (2016)': 2, '10 Things I Hate About You (1999)': 3, '10,000 BC (2008)': 4, '101 Dalmatians (1996)': 5, '101 Dalmatians (One Hundred and One Dalmatians) (1961)': 6, '12 Angry Men (1957)': 7, '12 Years a Slave (2013)': 8, '127 Hours (2010)': 9, '13 Going on 30 (2004)': 10, '13th Warrior, The (1999)': 11, '1408 (2007)': 12, '16 Blocks (2006)': 13, '17 Again (2009)': 14, '1984 (Nineteen Eighty-Four) (1984)': 15, '2 Days in the Valley (1996)': 16, '2 Fast 2 Furious (Fast and the Furious 2, The) (2003)': 17, '20,000 Leagues Under the Sea (1954)': 18, '2001: A Space Odyssey (1968)': 19, '2010: The Year We Make Contact (1984)': 20, '2012 (2009)': 21, '21 (2008)': 22, '21 Grams (2003)': 23, '21 Jump Street (2012)': 24, '22 Jump Street (2014)': 25, '25th Hour (2002)': 26, '27 Dresses (2008)': 27, '28 Days (2000)': 28, '28 Days Later (2002)': 29, '28 Weeks Later (2007)': 30, '30 Days of Night (2007)': 31, '300 (2007)': 32, '39 Steps, The (1935)': 33, '3:10 to Yuma (2007)': 34, '40 Days and 40 Nights (2002)': 35, '40-Year-Old Virgin, The (2005)': 36, '400 Blows, The (Les quatre cents coups) (1959)': 37, '48 Hrs. (1982)': 38, '50 First Dates (2004)': 39, '50/50 (2011)': 40, '54 (1998)': 41, '6th Day, The (2000)': 42, '8 1/2 (8½) (1963)': 43, '8 Mile (2002)': 44, '8MM (1999)': 45, '9 (2009)': 46, 'A Quiet Place (2018)': 47, 'A-Team, The (2010)': 48, 'A.I. Artificial Intelligence (2001)': 49, 'AVP: Alien vs. Predator (2004)': 50, 'AVPR: Aliens vs. Predator - Requiem (2007)': 51, 'About Last Night... (1986)': 52, 'About Schmidt (2002)': 53, 'About Time (2013)': 54, 'About a Boy (2002)': 55, 'Absent-Minded Professor, The (1961)': 56, 'Absolute Power (1997)': 57, 'Abyss, The (1989)': 58, 'Ace Ventura: Pet Detective (1994)': 59, 'Ace Ventura: When Nature Calls (1995)': 60, 'Across the Universe (2007)': 61, 'Adaptation (2002)': 62, 'Addams Family Values (1993)': 63, 'Addams Family, The (1991)': 64, 'Addicted to Love (1997)': 65, 'Adjustment Bureau, The (2011)': 66, 'Adventureland (2009)': 67, 'Adventures in Babysitting (1987)': 68, 'Adventures of Baron Munchausen, The (1988)': 69, 'Adventures of Buckaroo Banzai Across the 8th Dimension, The (1984)': 70, 'Adventures of Priscilla, Queen of the Desert, The (1994)': 71, 'Adventures of Robin Hood, The (1938)': 72, 'Adventures of Tintin, The (2011)': 73, 'Aeon Flux (2005)': 74, 'Affair to Remember, An (1957)': 75, 'African Queen, The (1951)': 76, 'Age of Innocence, The (1993)': 77, 'Air Force One (1997)': 78, 'Airheads (1994)': 79, 'Airplane II: The Sequel (1982)': 80, 'Airplane! (1980)': 81, 'Akira (1988)': 82, 'Aladdin (1992)': 83, 'Alexander (2004)': 84, 'Ali (2001)': 85, 'Alice in Wonderland (1951)': 86, 'Alice in Wonderland (2010)': 87, 'Alien (1979)': 88, 'Alien Nation (1988)': 89, 'Alien: Resurrection (1997)': 90, 'Aliens (1986)': 91, 'Alien³ (a.k.a. Alien 3) (1992)': 92, 'Alive (1993)': 93, 'All About Eve (1950)': 94, 'All About My Mother (Todo sobre mi madre) (1999)': 95, 'All Dogs Go to Heaven (1989)': 96, 'All Dogs Go to Heaven 2 (1996)': 97, 'All Quiet on the Western Front (1930)': 98, 'All That Jazz (1979)': 99, \"All the President's Men (1976)\": 100, 'Almost Famous (2000)': 101, 'Along Came Polly (2004)': 102, 'Along Came a Spider (2001)': 103, 'Amadeus (1984)': 104, 'Amazing Spider-Man, The (2012)': 105, \"Amelie (Fabuleux destin d'Amélie Poulain, Le) (2001)\": 106, \"America's Sweethearts (2001)\": 107, 'American Beauty (1999)': 108, 'American Gangster (2007)': 109, 'American Graffiti (1973)': 110, 'American History X (1998)': 111, 'American Hustle (2013)': 112, 'American Movie (1999)': 113, 'American Pie (1999)': 114, 'American Pie 2 (2001)': 115, 'American President, The (1995)': 116, 'American Psycho (2000)': 117, 'American Sniper (2014)': 118, 'American Splendor (2003)': 119, 'American Tail, An (1986)': 120, 'American Tail: Fievel Goes West, An (1991)': 121, 'American Wedding (American Pie 3) (2003)': 122, 'American Werewolf in London, An (1981)': 123, 'American Werewolf in Paris, An (1997)': 124, 'American in Paris, An (1951)': 125, 'Amistad (1997)': 126, 'Amityville Horror, The (1979)': 127, \"Amores Perros (Love's a Bitch) (2000)\": 128, 'Anaconda (1997)': 129, 'Analyze That (2002)': 130, 'Analyze This (1999)': 131, 'Anastasia (1997)': 132, 'Anchorman: The Legend of Ron Burgundy (2004)': 133, 'And Your Mother Too (Y tu mamá también) (2001)': 134, 'Angel Heart (1987)': 135, 'Angels & Demons (2009)': 136, 'Angels and Insects (1995)': 137, 'Angels in the Outfield (1994)': 138, 'Anger Management (2003)': 139, 'Animal House (1978)': 140, 'Animal, The (2001)': 141, 'Animatrix, The (2003)': 142, 'Anna and the King (1999)': 143, 'Annie (1982)': 144, 'Annie Hall (1977)': 145, 'Annihilation (2018)': 146, 'Another Stakeout (1993)': 147, 'Ant-Man (2015)': 148, \"Antonia's Line (Antonia) (1995)\": 149, 'Antz (1998)': 150, 'Any Given Sunday (1999)': 151, 'Apartment, The (1960)': 152, 'Apocalypse Now (1979)': 153, 'Apocalypto (2006)': 154, 'Apollo 13 (1995)': 155, 'Apostle, The (1997)': 156, 'Arachnophobia (1990)': 157, 'Argo (2012)': 158, 'Aristocats, The (1970)': 159, 'Arlington Road (1999)': 160, 'Armageddon (1998)': 161, 'Army of Darkness (1993)': 162, 'Around the World in 80 Days (1956)': 163, 'Arrival (2016)': 164, 'Arrival, The (1996)': 165, 'Arsenic and Old Lace (1944)': 166, 'Arthur (1981)': 167, 'As Good as It Gets (1997)': 168, 'Assassination of Jesse James by the Coward Robert Ford, The (2007)': 169, 'Assassins (1995)': 170, \"Astronaut's Wife, The (1999)\": 171, 'Atlantis: The Lost Empire (2001)': 172, 'Atonement (2007)': 173, 'Austin Powers in Goldmember (2002)': 174, 'Austin Powers: International Man of Mystery (1997)': 175, 'Austin Powers: The Spy Who Shagged Me (1999)': 176, 'Avatar (2009)': 177, 'Avengers, The (1998)': 178, 'Avengers, The (2012)': 179, 'Avengers: Age of Ultron (2015)': 180, 'Avengers: Infinity War - Part I (2018)': 181, 'Avengers: Infinity War - Part II (2019)': 182, 'Aviator, The (2004)': 183, 'Awakenings (1990)': 184, 'BASEketball (1998)': 185, 'Babe (1995)': 186, 'Babe: Pig in the City (1998)': 187, 'Babel (2006)': 188, 'Baby Driver (2017)': 189, 'Back to School (1986)': 190, 'Back to the Future (1985)': 191, 'Back to the Future Part II (1989)': 192, 'Back to the Future Part III (1990)': 193, 'Backdraft (1991)': 194, 'Bad Boys (1995)': 195, 'Bad Boys II (2003)': 196, 'Bad Santa (2003)': 197, 'Bad Taste (1987)': 198, 'Badlands (1973)': 199, 'Bambi (1942)': 200, 'Bananas (1971)': 201, 'Bandits (2001)': 202, 'Bank Job, The (2008)': 203, 'Barb Wire (1996)': 204, 'Barbarella (1968)': 205, 'Barcelona (1994)': 206, 'Barry Lyndon (1975)': 207, 'Barton Fink (1991)': 208, 'Basic Instinct (1992)': 209, 'Basketball Diaries, The (1995)': 210, 'Batman & Robin (1997)': 211, 'Batman (1989)': 212, 'Batman Begins (2005)': 213, 'Batman Forever (1995)': 214, 'Batman Returns (1992)': 215, 'Batman v Superman: Dawn of Justice (2016)': 216, 'Battle Royale (Batoru rowaiaru) (2000)': 217, 'Battlefield Earth (2000)': 218, 'Be Kind Rewind (2008)': 219, 'Beach, The (2000)': 220, 'Bean (1997)': 221, 'Beautiful Girls (1996)': 222, 'Beautiful Mind, A (2001)': 223, 'Beauty and the Beast (1991)': 224, 'Beauty of the Day (Belle de jour) (1967)': 225, 'Beavis and Butt-Head Do America (1996)': 226, 'Bed of Roses (1996)': 227, 'Bedazzled (2000)': 228, 'Bedknobs and Broomsticks (1971)': 229, 'Bee Movie (2007)': 230, 'Beetlejuice (1988)': 231, 'Before Sunrise (1995)': 232, 'Before Sunset (2004)': 233, 'Behind Enemy Lines (2001)': 234, 'Being John Malkovich (1999)': 235, 'Being There (1979)': 236, 'Ben-Hur (1959)': 237, 'Bend It Like Beckham (2002)': 238, 'Beneath the Planet of the Apes (1970)': 239, 'Benny & Joon (1993)': 240, 'Beowulf (2007)': 241, 'Best in Show (2000)': 242, 'Better Off Dead... (1985)': 243, 'Beverly Hillbillies, The (1993)': 244, 'Beverly Hills Cop (1984)': 245, 'Beverly Hills Cop II (1987)': 246, 'Beverly Hills Cop III (1994)': 247, 'Beverly Hills Ninja (1997)': 248, 'Bicentennial Man (1999)': 249, 'Bicycle Thieves (a.k.a. The Bicycle Thief) (a.k.a. The Bicycle Thieves) (Ladri di biciclette) (1948)': 250, 'Big (1988)': 251, 'Big Chill, The (1983)': 252, 'Big Daddy (1999)': 253, 'Big Fish (2003)': 254, 'Big Hero 6 (2014)': 255, 'Big Lebowski, The (1998)': 256, \"Big Momma's House (2000)\": 257, 'Big Night (1996)': 258, 'Big Short, The (2015)': 259, 'Big Sleep, The (1946)': 260, 'Big Trouble in Little China (1986)': 261, \"Bill & Ted's Bogus Journey (1991)\": 262, \"Bill & Ted's Excellent Adventure (1989)\": 263, 'Billy Elliot (2000)': 264, 'Billy Madison (1995)': 265, 'Bio-Dome (1996)': 266, 'Bird on a Wire (1990)': 267, 'Birdcage, The (1996)': 268, 'Birdman: Or (The Unexpected Virtue of Ignorance) (2014)': 269, 'Birds, The (1963)': 270, 'Black Hawk Down (2001)': 271, 'Black Hole, The (1979)': 272, 'Black Panther (2017)': 273, 'Black Sheep (1996)': 274, 'Black Swan (2010)': 275, 'Blade (1998)': 276, 'Blade II (2002)': 277, 'Blade Runner (1982)': 278, 'Blade Runner 2049 (2017)': 279, 'Blade: Trinity (2004)': 280, 'Blades of Glory (2007)': 281, 'Blair Witch Project, The (1999)': 282, 'Blast from the Past (1999)': 283, 'Blazing Saddles (1974)': 284, 'Blind Side, The  (2009)': 285, 'Blob, The (1958)': 286, 'Blood Diamond (2006)': 287, 'Blood Simple (1984)': 288, 'Blow (2001)': 289, 'Blow-Up (Blowup) (1966)': 290, 'Blown Away (1994)': 291, 'Blue Lagoon, The (1980)': 292, 'Blue Velvet (1986)': 293, 'Blues Brothers 2000 (1998)': 294, 'Blues Brothers, The (1980)': 295, 'Bob Roberts (1992)': 296, 'Body Heat (1981)': 297, 'Body Snatchers (1993)': 298, 'Body of Lies (2008)': 299, 'Bodyguard, The (1992)': 300, 'Bohemian Rhapsody (2018)': 301, 'Boiler Room (2000)': 302, 'Bolt (2008)': 303, 'Bone Collector, The (1999)': 304, 'Bonnie and Clyde (1967)': 305, 'Boogie Nights (1997)': 306, 'Book of Eli, The (2010)': 307, 'Boomerang (1992)': 308, 'Boondock Saints, The (2000)': 309, 'Boot, Das (Boat, The) (1981)': 310, 'Borat: Cultural Learnings of America for Make Benefit Glorious Nation of Kazakhstan (2006)': 311, 'Born on the Fourth of July (1989)': 312, 'Bottle Rocket (1996)': 313, 'Bound (1996)': 314, 'Bourne Identity, The (2002)': 315, 'Bourne Legacy, The (2012)': 316, 'Bourne Supremacy, The (2004)': 317, 'Bourne Ultimatum, The (2007)': 318, 'Bowfinger (1999)': 319, 'Bowling for Columbine (2002)': 320, 'Boxing Helena (1993)': 321, 'Boy in the Striped Pajamas, The (Boy in the Striped Pyjamas, The) (2008)': 322, 'Boyhood (2014)': 323, \"Boys Don't Cry (1999)\": 324, 'Boys on the Side (1995)': 325, 'Boyz N the Hood (1991)': 326, 'Brady Bunch Movie, The (1995)': 327, 'Brave (2012)': 328, 'Braveheart (1995)': 329, 'Brazil (1985)': 330, 'Break-Up, The (2006)': 331, 'Breakdown (1997)': 332, 'Breakfast Club, The (1985)': 333, \"Breakfast at Tiffany's (1961)\": 334, 'Breaking Away (1979)': 335, 'Breaking the Waves (1996)': 336, 'Breathless (À bout de souffle) (1960)': 337, 'Brick (2005)': 338, 'Bride of Frankenstein, The (Bride of Frankenstein) (1935)': 339, 'Bridesmaids (2011)': 340, 'Bridge of Spies (2015)': 341, 'Bridge on the River Kwai, The (1957)': 342, 'Bridges of Madison County, The (1995)': 343, \"Bridget Jones's Diary (2001)\": 344, 'Bridget Jones: The Edge of Reason (2004)': 345, 'Bring It On (2000)': 346, 'Bringing Out the Dead (1999)': 347, 'Bringing Up Baby (1938)': 348, 'Broadcast News (1987)': 349, 'Brokeback Mountain (2005)': 350, 'Broken Arrow (1996)': 351, 'Broken Flowers (2005)': 352, 'Bronx Tale, A (1993)': 353, 'Brotherhood of the Wolf (Pacte des loups, Le) (2001)': 354, 'Brothers Grimm, The (2005)': 355, 'Brothers McMullen, The (1995)': 356, 'Bruce Almighty (2003)': 357, 'Brüno (Bruno) (2009)': 358, 'Bubba Ho-tep (2002)': 359, 'Bucket List, The (2007)': 360, 'Buena Vista Social Club (1999)': 361, \"Buffalo '66 (a.k.a. Buffalo 66) (1998)\": 362, 'Buffy the Vampire Slayer (1992)': 363, \"Bug's Life, A (1998)\": 364, 'Bull Durham (1988)': 365, 'Bullets Over Broadway (1994)': 366, 'Bulworth (1998)': 367, 'Burn After Reading (2008)': 368, 'Butch Cassidy and the Sundance Kid (1969)': 369, 'Cabaret (1972)': 370, 'Cabin in the Woods, The (2012)': 371, 'Cable Guy, The (1996)': 372, 'Caddyshack (1980)': 373, \"Can't Hardly Wait (1998)\": 374, 'Canadian Bacon (1995)': 375, 'Candyman (1992)': 376, 'Cape Fear (1962)': 377, 'Cape Fear (1991)': 378, 'Capote (2005)': 379, 'Captain America: Civil War (2016)': 380, 'Captain America: The First Avenger (2011)': 381, 'Captain America: The Winter Soldier (2014)': 382, 'Captain Phillips (2013)': 383, \"Carlito's Way (1993)\": 384, 'Carrie (1976)': 385, 'Cars (2006)': 386, 'Casablanca (1942)': 387, 'Casino (1995)': 388, 'Casino Royale (2006)': 389, 'Casper (1995)': 390, 'Cast Away (2000)': 391, 'Cat on a Hot Tin Roof (1958)': 392, 'Catch Me If You Can (2002)': 393, 'Cats & Dogs (2001)': 394, 'Catwoman (2004)': 395, 'Celebration, The (Festen) (1998)': 396, 'Cell, The (2000)': 397, 'Central Station (Central do Brasil) (1998)': 398, 'Chain Reaction (1996)': 399, 'Changeling (2008)': 400, 'Changing Lanes (2002)': 401, 'Chappie (2015)': 402, 'Charade (1963)': 403, 'Chariots of Fire (1981)': 404, \"Charlie Wilson's War (2007)\": 405, 'Charlie and the Chocolate Factory (2005)': 406, \"Charlie's Angels (2000)\": 407, \"Charlie's Angels: Full Throttle (2003)\": 408, \"Charlotte's Web (1973)\": 409, 'Chasing Amy (1997)': 410, 'Cheaper by the Dozen (2003)': 411, \"Cheech and Chong's Up in Smoke (1978)\": 412, 'Chicago (2002)': 413, 'Chicken Run (2000)': 414, \"Child's Play (1988)\": 415, 'Children of Men (2006)': 416, 'Children of a Lesser God (1986)': 417, 'Children of the Corn (1984)': 418, 'Chinatown (1974)': 419, 'Chocolat (2000)': 420, 'Christine (1983)': 421, 'Christmas Story, A (1983)': 422, \"Christmas Vacation (National Lampoon's Christmas Vacation) (1989)\": 423, 'Chronicle (2012)': 424, 'Chronicles of Narnia: Prince Caspian, The (2008)': 425, 'Chronicles of Narnia: The Lion, the Witch and the Wardrobe, The (2005)': 426, 'Chronicles of Narnia: The Voyage of the Dawn Treader, The (2010)': 427, 'Chronicles of Riddick, The (2004)': 428, 'Chungking Express (Chung Hing sam lam) (1994)': 429, 'Cider House Rules, The (1999)': 430, 'Cinderella (1950)': 431, 'Cinderella Man (2005)': 432, 'Cinema Paradiso (Nuovo cinema Paradiso) (1989)': 433, 'Circle of Friends (1995)': 434, 'Citizen Kane (1941)': 435, 'City Hall (1996)': 436, 'City Lights (1931)': 437, 'City Slickers (1991)': 438, \"City Slickers II: The Legend of Curly's Gold (1994)\": 439, 'City of Angels (1998)': 440, 'City of God (Cidade de Deus) (2002)': 441, 'City of Lost Children, The (Cité des enfants perdus, La) (1995)': 442, 'Civil Action, A (1998)': 443, 'Clash of the Titans (2010)': 444, 'Clear and Present Danger (1994)': 445, 'Clerks (1994)': 446, 'Clerks II (2006)': 447, 'Click (2006)': 448, 'Client, The (1994)': 449, 'Cliffhanger (1993)': 450, 'Clockers (1995)': 451, 'Clockwork Orange, A (1971)': 452, 'Close Encounters of the Third Kind (1977)': 453, 'Closer (2004)': 454, 'Cloud Atlas (2012)': 455, 'Cloudy with a Chance of Meatballs (2009)': 456, 'Cloverfield (2008)': 457, 'Clue (1985)': 458, 'Clueless (1995)': 459, 'Cocktail (1988)': 460, 'Coco (2017)': 461, 'Cocoon (1985)': 462, 'Cold Comfort Farm (1995)': 463, 'Cold Mountain (2003)': 464, 'Collateral (2004)': 465, 'Color Purple, The (1985)': 466, 'Color of Money, The (1986)': 467, 'Coming to America (1988)': 468, 'Commando (1985)': 469, 'Commitments, The (1991)': 470, 'Con Air (1997)': 471, 'Conan the Barbarian (1982)': 472, 'Coneheads (1993)': 473, 'Confessions of a Dangerous Mind (2002)': 474, 'Congo (1995)': 475, 'Conjuring, The (2013)': 476, 'Conspiracy Theory (1997)': 477, 'Constant Gardener, The (2005)': 478, 'Constantine (2005)': 479, 'Contact (1997)': 480, 'Contagion (2011)': 481, 'Contender, The (2000)': 482, 'Conversation, The (1974)': 483, 'Cook the Thief His Wife & Her Lover, The (1989)': 484, 'Cool Hand Luke (1967)': 485, 'Cool Runnings (1993)': 486, 'Cop Land (1997)': 487, 'Copycat (1995)': 488, 'Coraline (2009)': 489, 'Core, The (2003)': 490, 'Corpse Bride (2005)': 491, 'Corrina, Corrina (1994)': 492, 'Courage Under Fire (1996)': 493, 'Cowboy Bebop: The Movie (Cowboy Bebop: Tengoku no Tobira) (2001)': 494, 'Cowboys & Aliens (2011)': 495, 'Coyote Ugly (2000)': 496, 'Craft, The (1996)': 497, 'Crank (2006)': 498, 'Crash (1996)': 499, 'Crash (2004)': 500, 'Crazy, Stupid, Love. (2011)': 501, 'Creature Comforts (1989)': 502, 'Creepshow (1982)': 503, 'Crimes and Misdemeanors (1989)': 504, 'Crimson Tide (1995)': 505, 'Crocodile Dundee (1986)': 506, 'Crocodile Dundee II (1988)': 507, 'Crouching Tiger, Hidden Dragon (Wo hu cang long) (2000)': 508, 'Crow, The (1994)': 509, 'Crow: City of Angels, The (1996)': 510, 'Cruel Intentions (1999)': 511, 'Crumb (1994)': 512, 'Crying Game, The (1992)': 513, 'Cube (1997)': 514, 'Curious Case of Benjamin Button, The (2008)': 515, 'Cutthroat Island (1995)': 516, 'Cyrano de Bergerac (1990)': 517, 'D2: The Mighty Ducks (1994)': 518, 'Da Vinci Code, The (2006)': 519, 'Dallas Buyers Club (2013)': 520, 'Dancer in the Dark (2000)': 521, 'Dances with Wolves (1990)': 522, 'Dangerous Liaisons (1988)': 523, 'Dangerous Minds (1995)': 524, \"Dante's Peak (1997)\": 525, 'Daredevil (2003)': 526, 'Darjeeling Limited, The (2007)': 527, 'Dark City (1998)': 528, 'Dark Crystal, The (1982)': 529, 'Dark Knight Rises, The (2012)': 530, 'Dark Knight, The (2008)': 531, 'Das Experiment (Experiment, The) (2001)': 532, 'Date Night (2010)': 533, 'Dave (1993)': 534, 'Dawn of the Dead (1978)': 535, 'Dawn of the Dead (2004)': 536, 'Dawn of the Planet of the Apes (2014)': 537, 'Day After Tomorrow, The (2004)': 538, 'Day the Earth Stood Still, The (1951)': 539, 'Day the Earth Stood Still, The (2008)': 540, 'Daylight (1996)': 541, 'Days of Thunder (1990)': 542, 'Dazed and Confused (1993)': 543, 'Dead Again (1991)': 544, 'Dead Alive (Braindead) (1992)': 545, 'Dead Calm (1989)': 546, 'Dead Man (1995)': 547, 'Dead Man Walking (1995)': 548, \"Dead Men Don't Wear Plaid (1982)\": 549, 'Dead Poets Society (1989)': 550, 'Dead Presidents (1995)': 551, 'Dead Zone, The (1983)': 552, 'Deadpool (2016)': 553, 'Deadpool 2 (2018)': 554, 'Death Becomes Her (1992)': 555, 'Death Proof (2007)': 556, 'Death and the Maiden (1994)': 557, 'Death to Smoochy (2002)': 558, 'Deconstructing Harry (1997)': 559, 'Deep Blue Sea (1999)': 560, 'Deep Impact (1998)': 561, 'Deer Hunter, The (1978)': 562, 'Defending Your Life (1991)': 563, 'Definitely, Maybe (2008)': 564, 'Delicatessen (1991)': 565, 'Deliverance (1972)': 566, 'Demolition Man (1993)': 567, 'Departed, The (2006)': 568, 'Descendants, The (2011)': 569, 'Descent, The (2005)': 570, 'Desperado (1995)': 571, 'Desperately Seeking Susan (1985)': 572, 'Despicable Me (2010)': 573, 'Despicable Me 2 (2013)': 574, 'Deuce Bigalow: Male Gigolo (1999)': 575, 'Devil Wears Prada, The (2006)': 576, 'Devil in a Blue Dress (1995)': 577, \"Devil's Own, The (1997)\": 578, 'Diabolique (1996)': 579, 'Dial M for Murder (1954)': 580, 'Diamonds Are Forever (1971)': 581, 'Dick (1999)': 582, 'Dick Tracy (1990)': 583, 'Dictator, The (2012)': 584, 'Die Another Day (2002)': 585, 'Die Hard (1988)': 586, 'Die Hard 2 (1990)': 587, 'Die Hard: With a Vengeance (1995)': 588, 'Diner (1982)': 589, 'Dinosaur (2000)': 590, 'Dirty Dancing (1987)': 591, 'Dirty Dozen, The (1967)': 592, 'Dirty Harry (1971)': 593, 'Dirty Pretty Things (2002)': 594, 'Dirty Rotten Scoundrels (1988)': 595, 'Disclosure (1994)': 596, 'District 9 (2009)': 597, 'Disturbia (2007)': 598, 'Diva (1981)': 599, 'Divergent (2014)': 600, 'Diving Bell and the Butterfly, The (Scaphandre et le papillon, Le) (2007)': 601, 'Django Unchained (2012)': 602, 'Do the Right Thing (1989)': 603, 'Doctor Strange (2016)': 604, 'Doctor Zhivago (1965)': 605, 'Dodgeball: A True Underdog Story (2004)': 606, 'Dog Day Afternoon (1975)': 607, 'Dogma (1999)': 608, 'Dogville (2003)': 609, 'Dolores Claiborne (1995)': 610, 'Don Juan DeMarco (1995)': 611, \"Don't Be a Menace to South Central While Drinking Your Juice in the Hood (1996)\": 612, 'Donnie Brasco (1997)': 613, 'Donnie Darko (2001)': 614, 'Doors, The (1991)': 615, 'Double Indemnity (1944)': 616, 'Double Jeopardy (1999)': 617, 'Doubt (2008)': 618, 'Down Periscope (1996)': 619, 'Down by Law (1986)': 620, 'Downfall (Untergang, Der) (2004)': 621, 'Dr. Dolittle (1998)': 622, 'Dr. Dolittle 2 (2001)': 623, \"Dr. Horrible's Sing-Along Blog (2008)\": 624, 'Dr. No (1962)': 625, 'Dr. Strangelove or: How I Learned to Stop Worrying and Love the Bomb (1964)': 626, 'Dracula (1931)': 627, \"Dracula (Bram Stoker's Dracula) (1992)\": 628, 'Dracula: Dead and Loving It (1995)': 629, 'Drag Me to Hell (2009)': 630, 'Dragonheart (1996)': 631, 'Dreamcatcher (2003)': 632, 'Dredd (2012)': 633, 'Drive (2011)': 634, 'Driving Miss Daisy (1989)': 635, 'Drop Dead Fred (1991)': 636, 'Drop Dead Gorgeous (1999)': 637, 'Drop Zone (1994)': 638, 'Drugstore Cowboy (1989)': 639, 'Drunken Master (Jui kuen) (1978)': 640, 'Duck Soup (1933)': 641, \"Dude, Where's My Car? (2000)\": 642, 'Due Date (2010)': 643, 'Dumb & Dumber (Dumb and Dumber) (1994)': 644, 'Dumbo (1941)': 645, 'Dune (1984)': 646, 'Dungeons & Dragons (2000)': 647, 'Dunkirk (2017)': 648, 'Déjà Vu (Deja Vu) (2006)': 649, 'E.T. the Extra-Terrestrial (1982)': 650, 'EDtv (1999)': 651, 'Eagle Eye (2008)': 652, 'East of Eden (1955)': 653, 'Eastern Promises (2007)': 654, 'Easy A (2010)': 655, 'Easy Rider (1969)': 656, 'Eat Drink Man Woman (Yin shi nan nu) (1994)': 657, 'Ed Wood (1994)': 658, 'Eddie Murphy Raw (1987)': 659, 'Edge of Tomorrow (2014)': 660, 'Edge, The (1997)': 661, 'Edward Scissorhands (1990)': 662, 'Election (1999)': 663, 'Elephant (2003)': 664, 'Elephant Man, The (1980)': 665, 'Elf (2003)': 666, 'Elizabeth (1998)': 667, 'Elysium (2013)': 668, 'Emma (1996)': 669, \"Emperor's New Groove, The (2000)\": 670, 'Empire Records (1995)': 671, 'Empire of the Sun (1987)': 672, 'Enchanted (2007)': 673, 'Encino Man (1992)': 674, 'End of Days (1999)': 675, \"Ender's Game (2013)\": 676, 'Enemy at the Gates (2001)': 677, 'Enemy of the State (1998)': 678, 'English Patient, The (1996)': 679, 'Englishman Who Went Up a Hill But Came Down a Mountain, The (1995)': 680, 'Enter the Dragon (1973)': 681, 'Entrapment (1999)': 682, 'Equalizer, The (2014)': 683, 'Equilibrium (2002)': 684, 'Eraser (1996)': 685, 'Eraserhead (1977)': 686, 'Erin Brockovich (2000)': 687, 'Escape from Alcatraz (1979)': 688, 'Escape from L.A. (1996)': 689, 'Escape from New York (1981)': 690, 'Escape from the Planet of the Apes (1971)': 691, 'Escape to Witch Mountain (1975)': 692, 'Eternal Sunshine of the Spotless Mind (2004)': 693, 'EuroTrip (2004)': 694, \"European Vacation (aka National Lampoon's European Vacation) (1985)\": 695, 'Evan Almighty (2007)': 696, 'Event Horizon (1997)': 697, 'Ever After: A Cinderella Story (1998)': 698, 'Everyone Says I Love You (1996)': 699, 'Everything You Always Wanted to Know About Sex * But Were Afraid to Ask (1972)': 700, 'Evil Dead II (Dead by Dawn) (1987)': 701, 'Evil Dead, The (1981)': 702, 'Evita (1996)': 703, 'Evolution (2001)': 704, 'Ex Machina (2015)': 705, 'Excalibur (1981)': 706, 'Executive Decision (1996)': 707, 'Exit Through the Gift Shop (2010)': 708, 'Exit to Eden (1994)': 709, 'Exorcist, The (1973)': 710, 'Exotica (1994)': 711, 'Expendables 2, The (2012)': 712, 'Expendables, The (2010)': 713, 'Eye for an Eye (1996)': 714, 'Eyes Wide Shut (1999)': 715, 'F/X (1986)': 716, 'Face/Off (1997)': 717, 'Faculty, The (1998)': 718, 'Fahrenheit 9/11 (2004)': 719, 'Fall, The (2006)': 720, 'Fallen (1998)': 721, 'Falling Down (1993)': 722, 'Family Man, The (2000)': 723, 'Fan, The (1996)': 724, 'Fantasia (1940)': 725, 'Fantasia 2000 (1999)': 726, 'Fantastic Beasts and Where to Find Them (2016)': 727, 'Fantastic Four (2005)': 728, 'Fantastic Four: Rise of the Silver Surfer (2007)': 729, 'Fantastic Mr. Fox (2009)': 730, 'Far and Away (1992)': 731, 'Far from Heaven (2002)': 732, 'Farewell My Concubine (Ba wang bie ji) (1993)': 733, 'Fargo (1996)': 734, 'Fast & Furious (Fast and the Furious 4, The) (2009)': 735, 'Fast & Furious 6 (Fast and the Furious 6, The) (2013)': 736, 'Fast Five (Fast and the Furious 5, The) (2011)': 737, 'Fast Times at Ridgemont High (1982)': 738, 'Fast and the Furious, The (2001)': 739, 'Fast and the Furious: Tokyo Drift, The (Fast and the Furious 3, The) (2006)': 740, 'Fatal Attraction (1987)': 741, 'Father of the Bride (1950)': 742, 'Father of the Bride (1991)': 743, 'Father of the Bride Part II (1995)': 744, 'Fear (1996)': 745, 'Fear and Loathing in Las Vegas (1998)': 746, 'Fearless (1993)': 747, 'Femme Nikita, La (Nikita) (1990)': 748, \"Ferris Bueller's Day Off (1986)\": 749, 'Few Good Men, A (1992)': 750, 'Fiddler on the Roof (1971)': 751, 'Field of Dreams (1989)': 752, 'Fierce Creatures (1997)': 753, 'Fifth Element, The (1997)': 754, 'Fight Club (1999)': 755, 'Fighter, The (2010)': 756, 'Final Destination (2000)': 757, 'Final Destination 2 (2003)': 758, 'Final Fantasy: The Spirits Within (2001)': 759, 'Finding Dory (2016)': 760, 'Finding Forrester (2000)': 761, 'Finding Nemo (2003)': 762, 'Finding Neverland (2004)': 763, 'Firm, The (1993)': 764, 'First Blood (Rambo: First Blood) (1982)': 765, 'First Knight (1995)': 766, 'First Strike (Police Story 4: First Strike) (Ging chaat goo si 4: Ji gaan daan yam mo) (1996)': 767, 'First Wives Club, The (1996)': 768, 'Fish Called Wanda, A (1988)': 769, 'Fisher King, The (1991)': 770, 'Fistful of Dollars, A (Per un pugno di dollari) (1964)': 771, 'Five Easy Pieces (1970)': 772, 'Flashdance (1983)': 773, 'Flatliners (1990)': 774, 'Fletch (1985)': 775, 'Flight (2012)': 776, 'Flight of the Navigator (1986)': 777, 'Flightplan (2005)': 778, 'Flintstones, The (1994)': 779, 'Flirting With Disaster (1996)': 780, 'Flubber (1997)': 781, 'Fly Away Home (1996)': 782, 'Fly, The (1958)': 783, 'Fly, The (1986)': 784, 'Fog of War: Eleven Lessons from the Life of Robert S. McNamara, The (2003)': 785, 'Fools Rush In (1997)': 786, 'Footloose (1984)': 787, 'For Love of the Game (1999)': 788, 'For Your Eyes Only (1981)': 789, 'For a Few Dollars More (Per qualche dollaro in più) (1965)': 790, 'Forbidden Planet (1956)': 791, 'Forever Young (1992)': 792, 'Forget Paris (1995)': 793, 'Forgetting Sarah Marshall (2008)': 794, 'Forrest Gump (1994)': 795, 'Fountain, The (2006)': 796, 'Four Rooms (1995)': 797, 'Four Weddings and a Funeral (1994)': 798, 'Fox and the Hound, The (1981)': 799, 'Fracture (2007)': 800, 'Frailty (2001)': 801, 'Frankenstein (1931)': 802, 'Freaky Friday (2003)': 803, 'Free Willy (1993)': 804, 'Free Willy 2: The Adventure Home (1995)': 805, 'French Connection, The (1971)': 806, 'French Kiss (1995)': 807, 'Frequency (2000)': 808, 'Frida (2002)': 809, 'Friday (1995)': 810, 'Friday the 13th (1980)': 811, 'Fried Green Tomatoes (1991)': 812, 'Friends with Benefits (2011)': 813, 'Fright Night (1985)': 814, 'Frighteners, The (1996)': 815, 'From Dusk Till Dawn (1996)': 816, 'From Hell (2001)': 817, 'From Here to Eternity (1953)': 818, 'From Russia with Love (1963)': 819, 'Frost/Nixon (2008)': 820, 'Frozen (2013)': 821, 'Fugitive, The (1993)': 822, 'Full Metal Jacket (1987)': 823, 'Full Monty, The (1997)': 824, 'Fun with Dick and Jane (2005)': 825, 'Furious 7 (2015)': 826, 'Fury (2014)': 827, 'G.I. Jane (1997)': 828, 'G.I. Joe: The Rise of Cobra (2009)': 829, 'Galaxy Quest (1999)': 830, 'Game, The (1997)': 831, 'Gandhi (1982)': 832, 'Gangs of New York (2002)': 833, 'Garden State (2004)': 834, 'Gaslight (1944)': 835, 'Gattaca (1997)': 836, \"General's Daughter, The (1999)\": 837, 'General, The (1926)': 838, 'George of the Jungle (1997)': 839, 'Get Him to the Greek (2010)': 840, 'Get Out (2017)': 841, 'Get Shorty (1995)': 842, 'Get Smart (2008)': 843, 'Ghost (1990)': 844, 'Ghost Dog: The Way of the Samurai (1999)': 845, 'Ghost Rider (2007)': 846, 'Ghost World (2001)': 847, 'Ghost Writer, The (2010)': 848, 'Ghost and the Darkness, The (1996)': 849, 'Ghost in the Shell (Kôkaku kidôtai) (1995)': 850, 'Ghostbusters (a.k.a. Ghost Busters) (1984)': 851, 'Ghostbusters II (1989)': 852, 'Gift, The (2000)': 853, 'Girl Next Door, The (2004)': 854, 'Girl with a Pearl Earring (2003)': 855, 'Girl with the Dragon Tattoo, The (2011)': 856, 'Girl with the Dragon Tattoo, The (Män som hatar kvinnor) (2009)': 857, 'Girl, Interrupted (1999)': 858, 'Gladiator (1992)': 859, 'Gladiator (2000)': 860, 'Glengarry Glen Ross (1992)': 861, 'Glory (1989)': 862, 'Go (1999)': 863, 'Godfather, The (1972)': 864, 'Godfather: Part II, The (1974)': 865, 'Godfather: Part III, The (1990)': 866, 'Gods Must Be Crazy, The (1980)': 867, 'Gods and Monsters (1998)': 868, 'Godzilla (1998)': 869, 'Godzilla (2014)': 870, 'Godzilla (Gojira) (1954)': 871, 'Gold Rush, The (1925)': 872, 'Golden Child, The (1986)': 873, 'Golden Compass, The (2007)': 874, 'GoldenEye (1995)': 875, 'Goldfinger (1964)': 876, 'Gone Baby Gone (2007)': 877, 'Gone Girl (2014)': 878, 'Gone in 60 Seconds (2000)': 879, 'Gone with the Wind (1939)': 880, 'Good Girl, The (2002)': 881, 'Good Morning, Vietnam (1987)': 882, 'Good Night, and Good Luck. (2005)': 883, 'Good Will Hunting (1997)': 884, 'Good bye, Lenin! (2003)': 885, 'Good, the Bad and the Ugly, The (Buono, il brutto, il cattivo, Il) (1966)': 886, 'Goodfellas (1990)': 887, 'Goofy Movie, A (1995)': 888, 'Goonies, The (1985)': 889, 'Gosford Park (2001)': 890, 'Gothika (2003)': 891, 'Graduate, The (1967)': 892, 'Gran Torino (2008)': 893, 'Grand Budapest Hotel, The (2014)': 894, 'Grand Canyon (1991)': 895, 'Grand Day Out with Wallace and Gromit, A (1989)': 896, 'Grapes of Wrath, The (1940)': 897, 'Grave of the Fireflies (Hotaru no haka) (1988)': 898, 'Gravity (2013)': 899, 'Grease (1978)': 900, 'Grease 2 (1982)': 901, 'Great Dictator, The (1940)': 902, 'Great Escape, The (1963)': 903, 'Great Expectations (1998)': 904, 'Great Gatsby, The (2013)': 905, 'Great Muppet Caper, The (1981)': 906, 'Green Lantern (2011)': 907, 'Green Mile, The (1999)': 908, 'Gremlins (1984)': 909, 'Gremlins 2: The New Batch (1990)': 910, 'Grifters, The (1990)': 911, 'Grindhouse (2007)': 912, 'Grizzly Man (2005)': 913, 'Grosse Pointe Blank (1997)': 914, 'Groundhog Day (1993)': 915, 'Grudge, The (2004)': 916, 'Grumpier Old Men (1995)': 917, 'Grumpy Old Men (1993)': 918, 'Guardians of the Galaxy (2014)': 919, 'Guardians of the Galaxy 2 (2017)': 920, \"Guess Who's Coming to Dinner (1967)\": 921, 'Guns of Navarone, The (1961)': 922, 'Hackers (1995)': 923, 'Hacksaw Ridge (2016)': 924, 'Hairspray (1988)': 925, 'Hairspray (2007)': 926, 'Half Baked (1998)': 927, 'Halloween (1978)': 928, 'Halloween H20: 20 Years Later (Halloween 7: The Revenge of Laurie Strode) (1998)': 929, 'Hamlet (1996)': 930, 'Hancock (2008)': 931, 'Hand That Rocks the Cradle, The (1992)': 932, 'Hangover Part II, The (2011)': 933, 'Hangover, The (2009)': 934, 'Hanna (2011)': 935, 'Hannah and Her Sisters (1986)': 936, 'Hannibal (2001)': 937, 'Happening, The (2008)': 938, 'Happiness (1998)': 939, 'Happy Feet (2006)': 940, 'Happy Gilmore (1996)': 941, 'Hard Candy (2005)': 942, \"Hard Day's Night, A (1964)\": 943, 'Hard Target (1993)': 944, 'Hard-Boiled (Lat sau san taam) (1992)': 945, 'Harold & Kumar Escape from Guantanamo Bay (2008)': 946, 'Harold and Kumar Go to White Castle (2004)': 947, 'Harold and Maude (1971)': 948, 'Harry Potter and the Chamber of Secrets (2002)': 949, 'Harry Potter and the Deathly Hallows: Part 1 (2010)': 950, 'Harry Potter and the Deathly Hallows: Part 2 (2011)': 951, 'Harry Potter and the Goblet of Fire (2005)': 952, 'Harry Potter and the Half-Blood Prince (2009)': 953, 'Harry Potter and the Order of the Phoenix (2007)': 954, 'Harry Potter and the Prisoner of Azkaban (2004)': 955, \"Harry Potter and the Sorcerer's Stone (a.k.a. Harry Potter and the Philosopher's Stone) (2001)\": 956, 'Harry and the Hendersons (1987)': 957, 'Harvey (1950)': 958, 'Hate (Haine, La) (1995)': 959, 'Haunting, The (1999)': 960, \"He's Just Not That Into You (2009)\": 961, 'Heartbreak Ridge (1986)': 962, 'Heat (1995)': 963, 'Heathers (1989)': 964, 'Heaven Can Wait (1978)': 965, 'Heavenly Creatures (1994)': 966, 'Heavy Metal (1981)': 967, 'Hedwig and the Angry Inch (2000)': 968, 'Hell or High Water (2016)': 969, 'Hellboy (2004)': 970, 'Hellboy II: The Golden Army (2008)': 971, 'Hellraiser (1987)': 972, 'Help, The (2011)': 973, 'Henry V (1989)': 974, 'Her (2013)': 975, 'Hercules (1997)': 976, 'Hero (Ying xiong) (2002)': 977, 'Hidden Figures (2016)': 978, 'High Fidelity (2000)': 979, 'High Noon (1952)': 980, 'High Plains Drifter (1973)': 981, 'Higher Learning (1995)': 982, 'Highlander (1986)': 983, 'Highlander III: The Sorcerer (a.k.a. Highlander: The Final Dimension) (1994)': 984, 'His Girl Friday (1940)': 985, 'History of Violence, A (2005)': 986, 'History of the World: Part I (1981)': 987, 'Hitch (2005)': 988, \"Hitchhiker's Guide to the Galaxy, The (2005)\": 989, 'Hobbit: An Unexpected Journey, The (2012)': 990, 'Hobbit: The Desolation of Smaug, The (2013)': 991, 'Hocus Pocus (1993)': 992, 'Holes (2003)': 993, 'Holiday, The (2006)': 994, 'Hollow Man (2000)': 995, 'Home Alone (1990)': 996, 'Home Alone 2: Lost in New York (1992)': 997, 'Home Alone 3 (1997)': 998, 'Home for the Holidays (1995)': 999, 'Homeward Bound II: Lost in San Francisco (1996)': 1000, 'Homeward Bound: The Incredible Journey (1993)': 1001, 'Honey, I Blew Up the Kid (1992)': 1002, 'Honey, I Shrunk the Kids (1989)': 1003, 'Hook (1991)': 1004, 'Hoop Dreams (1994)': 1005, 'Hoosiers (a.k.a. Best Shot) (1986)': 1006, 'Hope Floats (1998)': 1007, 'Horrible Bosses (2011)': 1008, 'Horse Whisperer, The (1998)': 1009, 'Horton Hears a Who! (2008)': 1010, 'Hostel (2005)': 1011, 'Hot Fuzz (2007)': 1012, 'Hot Shots! (1991)': 1013, 'Hot Shots! Part Deux (1993)': 1014, 'Hot Tub Time Machine (2010)': 1015, 'Hotel Rwanda (2004)': 1016, 'Hotel Transylvania (2012)': 1017, 'Hours, The (2002)': 1018, 'House of Flying Daggers (Shi mian mai fu) (2004)': 1019, 'House of Sand and Fog (2003)': 1020, 'House on Haunted Hill (1999)': 1021, 'Houseguest (1994)': 1022, 'How the Grinch Stole Christmas (a.k.a. The Grinch) (2000)': 1023, 'How to Lose a Guy in 10 Days (2003)': 1024, 'How to Make an American Quilt (1995)': 1025, 'How to Train Your Dragon (2010)': 1026, 'How to Train Your Dragon 2 (2014)': 1027, 'Howard the Duck (1986)': 1028, 'Howards End (1992)': 1029, \"Howl's Moving Castle (Hauru no ugoku shiro) (2004)\": 1030, 'Hudsucker Proxy, The (1994)': 1031, 'Hugo (2011)': 1032, 'Hulk (2003)': 1033, 'Hunchback of Notre Dame, The (1996)': 1034, 'Hunt for Red October, The (1990)': 1035, 'Hunt, The (Jagten) (2012)': 1036, 'Hurricane, The (1999)': 1037, 'Hurt Locker, The (2008)': 1038, 'Hustler, The (1961)': 1039, 'I Am Legend (2007)': 1040, 'I Am Sam (2001)': 1041, 'I Heart Huckabees (2004)': 1042, 'I Know What You Did Last Summer (1997)': 1043, 'I Love You, Man (2009)': 1044, 'I Still Know What You Did Last Summer (1998)': 1045, 'I, Robot (2004)': 1046, 'I.Q. (1994)': 1047, 'Ice Age (2002)': 1048, 'Ice Age 2: The Meltdown (2006)': 1049, 'Ice Age: Dawn of the Dinosaurs (2009)': 1050, 'Ice Storm, The (1997)': 1051, 'Ideal Husband, An (1999)': 1052, 'Identity (2003)': 1053, 'Ides of March, The (2011)': 1054, 'Idiocracy (2006)': 1055, 'Igby Goes Down (2002)': 1056, 'Illusionist, The (2006)': 1057, 'Imaginarium of Doctor Parnassus, The (2009)': 1058, 'Immortal Beloved (1994)': 1059, 'In & Out (1997)': 1060, 'In America (2002)': 1061, 'In Bruges (2008)': 1062, 'In Time (2011)': 1063, 'In the Bedroom (2001)': 1064, 'In the Company of Men (1997)': 1065, 'In the Heat of the Night (1967)': 1066, 'In the Line of Fire (1993)': 1067, 'In the Mood For Love (Fa yeung nin wa) (2000)': 1068, 'In the Name of the Father (1993)': 1069, 'Inception (2010)': 1070, 'Inconvenient Truth, An (2006)': 1071, 'Incredible Hulk, The (2008)': 1072, 'Incredibles 2 (2018)': 1073, 'Incredibles, The (2004)': 1074, 'Indecent Proposal (1993)': 1075, 'Independence Day (a.k.a. ID4) (1996)': 1076, 'Indian in the Cupboard, The (1995)': 1077, 'Indiana Jones and the Kingdom of the Crystal Skull (2008)': 1078, 'Indiana Jones and the Last Crusade (1989)': 1079, 'Indiana Jones and the Temple of Doom (1984)': 1080, 'Infernal Affairs (Mou gaan dou) (2002)': 1081, 'Inglourious Basterds (2009)': 1082, 'Innerspace (1987)': 1083, 'Inside Job (2010)': 1084, 'Inside Man (2006)': 1085, 'Inside Out (2015)': 1086, 'Insider, The (1999)': 1087, 'Insomnia (2002)': 1088, 'Inspector Gadget (1999)': 1089, 'Insurgent (2015)': 1090, 'Interpreter, The (2005)': 1091, 'Interstellar (2014)': 1092, 'Interview with the Vampire: The Vampire Chronicles (1994)': 1093, 'Into the Wild (2007)': 1094, 'Intolerable Cruelty (2003)': 1095, 'Intouchables (2011)': 1096, 'Invasion of the Body Snatchers (1956)': 1097, 'Ip Man (2008)': 1098, 'Iron Giant, The (1999)': 1099, 'Iron Man (2008)': 1100, 'Iron Man 2 (2010)': 1101, 'Iron Man 3 (2013)': 1102, 'Island of Dr. Moreau, The (1996)': 1103, 'Island, The (2005)': 1104, 'Isle of Dogs (2018)': 1105, 'It (2017)': 1106, 'It Could Happen to You (1994)': 1107, 'It Follows (2014)': 1108, 'It Happened One Night (1934)': 1109, \"It's a Wonderful Life (1946)\": 1110, 'Italian Job, The (1969)': 1111, 'Italian Job, The (2003)': 1112, 'JFK (1991)': 1113, 'Jack (1996)': 1114, 'Jack Reacher (2012)': 1115, 'Jackal, The (1997)': 1116, 'Jackass: The Movie (2002)': 1117, 'Jackie Brown (1997)': 1118, \"Jacob's Ladder (1990)\": 1119, 'James and the Giant Peach (1996)': 1120, 'Jane Eyre (1996)': 1121, 'Jarhead (2005)': 1122, 'Jaws (1975)': 1123, 'Jaws 2 (1978)': 1124, 'Jay and Silent Bob Strike Back (2001)': 1125, 'Jean de Florette (1986)': 1126, 'Jeepers Creepers (2001)': 1127, 'Jerk, The (1979)': 1128, 'Jerry Maguire (1996)': 1129, 'Jewel of the Nile, The (1985)': 1130, 'Jingle All the Way (1996)': 1131, 'Joe Dirt (2001)': 1132, 'John Carter (2012)': 1133, 'John Q (2002)': 1134, 'John Wick (2014)': 1135, 'John Wick: Chapter Two (2017)': 1136, 'Johnny English (2003)': 1137, 'Johnny Mnemonic (1995)': 1138, 'Joy Luck Club, The (1993)': 1139, 'Judge Dredd (1995)': 1140, 'Julie & Julia (2009)': 1141, 'Jumanji (1995)': 1142, 'Jumper (2008)': 1143, \"Jumpin' Jack Flash (1986)\": 1144, 'Jungle Book, The (1967)': 1145, 'Jungle Book, The (1994)': 1146, 'Junior (1994)': 1147, 'Juno (2007)': 1148, 'Jurassic Park (1993)': 1149, 'Jurassic Park III (2001)': 1150, 'Jurassic World (2015)': 1151, 'Juror, The (1996)': 1152, 'Just Cause (1995)': 1153, 'K-PAX (2001)': 1154, 'Kalifornia (1993)': 1155, 'Karate Kid, Part II, The (1986)': 1156, 'Karate Kid, Part III, The (1989)': 1157, 'Karate Kid, The (1984)': 1158, 'Kate & Leopold (2001)': 1159, 'Keeping the Faith (2000)': 1160, \"Kelly's Heroes (1970)\": 1161, 'Key Largo (1948)': 1162, 'Kick-Ass (2010)': 1163, 'Kick-Ass 2 (2013)': 1164, 'Kids (1995)': 1165, 'Kids in the Hall: Brain Candy (1996)': 1166, \"Kiki's Delivery Service (Majo no takkyûbin) (1989)\": 1167, 'Kill Bill: Vol. 1 (2003)': 1168, 'Kill Bill: Vol. 2 (2004)': 1169, 'Killer, The (Die xue shuang xiong) (1989)': 1170, 'Killing Fields, The (1984)': 1171, 'Killing Zoe (1994)': 1172, 'Killing, The (1956)': 1173, 'Kindergarten Cop (1990)': 1174, 'King Arthur (2004)': 1175, 'King Kong (1933)': 1176, 'King Kong (1976)': 1177, 'King Kong (2005)': 1178, 'King and I, The (1956)': 1179, 'King of Comedy, The (1983)': 1180, \"King's Speech, The (2010)\": 1181, 'Kingdom of Heaven (2005)': 1182, 'Kingpin (1996)': 1183, 'Kingsman: The Secret Service (2015)': 1184, 'Kinsey (2004)': 1185, 'Kiss Kiss Bang Bang (2005)': 1186, 'Kiss the Girls (1997)': 1187, 'Klute (1971)': 1188, 'Knight and Day (2010)': 1189, \"Knight's Tale, A (2001)\": 1190, 'Knocked Up (2007)': 1191, 'Knowing (2009)': 1192, 'Kolya (Kolja) (1996)': 1193, 'Koyaanisqatsi (a.k.a. Koyaanisqatsi: Life Out of Balance) (1983)': 1194, 'Kramer vs. Kramer (1979)': 1195, 'Kung Fu Hustle (Gong fu) (2004)': 1196, 'Kung Fu Panda (2008)': 1197, 'Kung Fu Panda 2 (2011)': 1198, 'L.A. Confidential (1997)': 1199, 'L.A. Story (1991)': 1200, 'La La Land (2016)': 1201, 'Labyrinth (1986)': 1202, 'Lady Bird (2017)': 1203, 'Lady Vanishes, The (1938)': 1204, 'Lady and the Tramp (1955)': 1205, 'Ladyhawke (1985)': 1206, 'Ladykillers, The (2004)': 1207, 'Lake House, The (2006)': 1208, 'Lake Placid (1999)': 1209, 'Land Before Time, The (1988)': 1210, 'Laputa: Castle in the Sky (Tenkû no shiro Rapyuta) (1986)': 1211, 'Lara Croft Tomb Raider: The Cradle of Life (2003)': 1212, 'Lara Croft: Tomb Raider (2001)': 1213, 'Lars and the Real Girl (2007)': 1214, 'Last Action Hero (1993)': 1215, 'Last Emperor, The (1987)': 1216, 'Last King of Scotland, The (2006)': 1217, 'Last Man Standing (1996)': 1218, 'Last Picture Show, The (1971)': 1219, 'Last Samurai, The (2003)': 1220, 'Last Temptation of Christ, The (1988)': 1221, 'Last of the Mohicans, The (1992)': 1222, 'Laura (1944)': 1223, 'Law Abiding Citizen (2009)': 1224, 'Lawnmower Man 2: Beyond Cyberspace (1996)': 1225, 'Lawnmower Man, The (1992)': 1226, 'Lawrence of Arabia (1962)': 1227, 'Layer Cake (2004)': 1228, 'League of Extraordinary Gentlemen, The (a.k.a. LXG) (2003)': 1229, 'League of Their Own, A (1992)': 1230, 'Leaving Las Vegas (1995)': 1231, 'Legally Blonde (2001)': 1232, 'Legally Blonde 2: Red, White & Blonde (2003)': 1233, 'Legend (1985)': 1234, 'Legend of Bagger Vance, The (2000)': 1235, 'Legend of Drunken Master, The (Jui kuen II) (1994)': 1236, 'Legends of the Fall (1994)': 1237, \"Lemony Snicket's A Series of Unfortunate Events (2004)\": 1238, 'Let the Right One In (Låt den rätte komma in) (2008)': 1239, 'Lethal Weapon (1987)': 1240, 'Lethal Weapon 2 (1989)': 1241, 'Lethal Weapon 3 (1992)': 1242, 'Lethal Weapon 4 (1998)': 1243, 'Letters from Iwo Jima (2006)': 1244, 'Liar Liar (1997)': 1245, 'Licence to Kill (1989)': 1246, 'Life Aquatic with Steve Zissou, The (2004)': 1247, 'Life Is Beautiful (La Vita è bella) (1997)': 1248, 'Life as a House (2001)': 1249, 'Life of David Gale, The (2003)': 1250, 'Life of Pi (2012)': 1251, 'Like Water for Chocolate (Como agua para chocolate) (1992)': 1252, 'Lilo & Stitch (2002)': 1253, 'Limey, The (1999)': 1254, 'Limitless (2011)': 1255, 'Lincoln (2012)': 1256, 'Lincoln Lawyer, The (2011)': 1257, 'Lion King, The (1994)': 1258, 'Little Big Man (1970)': 1259, 'Little Mermaid, The (1989)': 1260, 'Little Miss Sunshine (2006)': 1261, 'Little Nicky (2000)': 1262, 'Little Princess, A (1995)': 1263, 'Little Rascals, The (1994)': 1264, 'Little Shop of Horrors (1986)': 1265, 'Little Shop of Horrors, The (1960)': 1266, 'Little Voice (1998)': 1267, 'Little Women (1994)': 1268, 'Live Free or Die Hard (2007)': 1269, 'Live and Let Die (1973)': 1270, 'Lives of Others, The (Das leben der Anderen) (2006)': 1271, 'Living Daylights, The (1987)': 1272, 'Living in Oblivion (1995)': 1273, 'Local Hero (1983)': 1274, 'Lock, Stock & Two Smoking Barrels (1998)': 1275, 'Logan (2017)': 1276, \"Logan's Run (1976)\": 1277, 'Lolita (1962)': 1278, 'Lolita (1997)': 1279, 'Lone Star (1996)': 1280, 'Long Kiss Goodnight, The (1996)': 1281, 'Longest Day, The (1962)': 1282, 'Longest Yard, The (2005)': 1283, \"Look Who's Talking (1989)\": 1284, \"Look Who's Talking Now (1993)\": 1285, 'Looper (2012)': 1286, 'Lord of Illusions (1995)': 1287, 'Lord of War (2005)': 1288, 'Lord of the Flies (1963)': 1289, 'Lord of the Rings, The (1978)': 1290, 'Lord of the Rings: The Fellowship of the Ring, The (2001)': 1291, 'Lord of the Rings: The Return of the King, The (2003)': 1292, 'Lord of the Rings: The Two Towers, The (2002)': 1293, 'Lost Boys, The (1987)': 1294, 'Lost Highway (1997)': 1295, 'Lost World: Jurassic Park, The (1997)': 1296, 'Lost in Space (1998)': 1297, 'Lost in Translation (2003)': 1298, 'Love Actually (2003)': 1299, 'Love Bug, The (1969)': 1300, 'Lucky Number Slevin (2006)': 1301, 'Lucy (2014)': 1302, 'Léon: The Professional (a.k.a. The Professional) (Léon) (1994)': 1303, 'M (1931)': 1304, 'M*A*S*H (a.k.a. MASH) (1970)': 1305, 'Machete (2010)': 1306, 'Mad Max (1979)': 1307, 'Mad Max Beyond Thunderdome (1985)': 1308, 'Mad Max: Fury Road (2015)': 1309, 'Madagascar (2005)': 1310, 'Madagascar: Escape 2 Africa (2008)': 1311, 'Made in America (1993)': 1312, 'Madness of King George, The (1994)': 1313, 'Magnificent Seven, The (1960)': 1314, 'Magnolia (1999)': 1315, 'Maid in Manhattan (2002)': 1316, 'Major League (1989)': 1317, 'Major Payne (1995)': 1318, 'Malcolm X (1992)': 1319, 'Maleficent (2014)': 1320, 'Malice (1993)': 1321, 'Mallrats (1995)': 1322, 'Maltese Falcon, The (1941)': 1323, 'Maltese Falcon, The (a.k.a. Dangerous Female) (1931)': 1324, 'Mamma Mia! (2008)': 1325, 'Man Who Knew Too Much, The (1956)': 1326, \"Man Who Wasn't There, The (2001)\": 1327, 'Man Who Would Be King, The (1975)': 1328, 'Man Without a Face, The (1993)': 1329, 'Man for All Seasons, A (1966)': 1330, 'Man from Earth, The (2007)': 1331, 'Man in the Iron Mask, The (1998)': 1332, 'Man of Steel (2013)': 1333, 'Man on Fire (2004)': 1334, 'Man on the Moon (1999)': 1335, 'Man with Two Brains, The (1983)': 1336, 'Man with the Golden Gun, The (1974)': 1337, 'Manchurian Candidate, The (1962)': 1338, 'Manchurian Candidate, The (2004)': 1339, 'Manhattan (1979)': 1340, 'Manhattan Murder Mystery (1993)': 1341, 'Manhunter (1986)': 1342, 'Manon of the Spring (Manon des sources) (1986)': 1343, 'Marathon Man (1976)': 1344, \"March of the Penguins (Marche de l'empereur, La) (2005)\": 1345, 'Maria Full of Grace (Maria, Llena eres de gracia) (2004)': 1346, 'Mariachi, El (1992)': 1347, 'Marley & Me (2008)': 1348, 'Mars Attacks! (1996)': 1349, 'Mary Poppins (1964)': 1350, 'Mary Reilly (1996)': 1351, \"Mary Shelley's Frankenstein (Frankenstein) (1994)\": 1352, 'Mask of Zorro, The (1998)': 1353, 'Mask, The (1994)': 1354, 'Master and Commander: The Far Side of the World (2003)': 1355, 'Match Point (2005)': 1356, 'Matchstick Men (2003)': 1357, 'Matilda (1996)': 1358, 'Matrix Reloaded, The (2003)': 1359, 'Matrix Revolutions, The (2003)': 1360, 'Matrix, The (1999)': 1361, 'Maverick (1994)': 1362, 'Maze Runner, The (2014)': 1363, 'Me, Myself & Irene (2000)': 1364, 'Mean Girls (2004)': 1365, 'Meet Joe Black (1998)': 1366, 'Meet the Fockers (2004)': 1367, 'Meet the Parents (2000)': 1368, 'Megamind (2010)': 1369, 'Melancholia (2011)': 1370, 'Memento (2000)': 1371, 'Memoirs of a Geisha (2005)': 1372, 'Men Who Stare at Goats, The (2009)': 1373, 'Men in Black (a.k.a. MIB) (1997)': 1374, 'Men in Black II (a.k.a. MIIB) (a.k.a. MIB 2) (2002)': 1375, 'Men in Black III (M.III.B.) (M.I.B.³) (2012)': 1376, 'Men of Honor (2000)': 1377, 'Menace II Society (1993)': 1378, 'Mercury Rising (1998)': 1379, 'Messenger: The Story of Joan of Arc, The (1999)': 1380, 'Metropolis (1927)': 1381, 'Mexican, The (2001)': 1382, 'Michael (1996)': 1383, 'Michael Clayton (2007)': 1384, 'Michael Collins (1996)': 1385, 'Mickey Blue Eyes (1999)': 1386, 'Midnight Cowboy (1969)': 1387, 'Midnight Express (1978)': 1388, 'Midnight Run (1988)': 1389, 'Midnight in Paris (2011)': 1390, 'Midnight in the Garden of Good and Evil (1997)': 1391, 'Mighty Aphrodite (1995)': 1392, 'Mighty Ducks, The (1992)': 1393, 'Mighty Morphin Power Rangers: The Movie (1995)': 1394, 'Mighty Wind, A (2003)': 1395, 'Milk (2008)': 1396, 'Milk Money (1994)': 1397, \"Miller's Crossing (1990)\": 1398, 'Million Dollar Baby (2004)': 1399, 'Mimic (1997)': 1400, 'Minions (2015)': 1401, 'Minority Report (2002)': 1402, 'Miracle (2004)': 1403, 'Miracle on 34th Street (1947)': 1404, 'Miracle on 34th Street (1994)': 1405, 'Misery (1990)': 1406, 'Miss Congeniality (2000)': 1407, 'Mission to Mars (2000)': 1408, 'Mission, The (1986)': 1409, 'Mission: Impossible (1996)': 1410, 'Mission: Impossible - Ghost Protocol (2011)': 1411, 'Mission: Impossible - Rogue Nation (2015)': 1412, 'Mission: Impossible II (2000)': 1413, 'Mission: Impossible III (2006)': 1414, 'Mississippi Burning (1988)': 1415, 'Mist, The (2007)': 1416, 'Mister Roberts (1955)': 1417, 'Misérables, Les (1995)': 1418, 'Misérables, Les (1998)': 1419, 'Misérables, Les (2012)': 1420, 'Moana (2016)': 1421, 'Modern Times (1936)': 1422, 'Mona Lisa Smile (2003)': 1423, 'Money Pit, The (1986)': 1424, 'Money Train (1995)': 1425, 'Moneyball (2011)': 1426, 'Monsoon Wedding (2001)': 1427, 'Monster (2003)': 1428, \"Monster's Ball (2001)\": 1429, 'Monsters University (2013)': 1430, 'Monsters vs. Aliens (2009)': 1431, 'Monsters, Inc. (2001)': 1432, 'Monty Python Live at the Hollywood Bowl (1982)': 1433, 'Monty Python and the Holy Grail (1975)': 1434, \"Monty Python's And Now for Something Completely Different (1971)\": 1435, \"Monty Python's Life of Brian (1979)\": 1436, \"Monty Python's The Meaning of Life (1983)\": 1437, 'Moon (2009)': 1438, 'Moonlight': 1439, 'Moonraker (1979)': 1440, 'Moonrise Kingdom (2012)': 1441, 'Moonstruck (1987)': 1442, 'Mortal Kombat (1995)': 1443, 'Mortal Kombat: Annihilation (1997)': 1444, 'Mosquito Coast, The (1986)': 1445, 'Mothman Prophecies, The (2002)': 1446, 'Motorcycle Diaries, The (Diarios de motocicleta) (2004)': 1447, 'Moulin Rouge (2001)': 1448, 'Mouse Hunt (1997)': 1449, 'Mr. & Mrs. Smith (2005)': 1450, 'Mr. Brooks (2007)': 1451, 'Mr. Deeds (2002)': 1452, \"Mr. Holland's Opus (1995)\": 1453, 'Mr. Mom (1983)': 1454, 'Mr. Nobody (2009)': 1455, 'Mr. Smith Goes to Washington (1939)': 1456, 'Mrs. Brown (a.k.a. Her Majesty, Mrs. Brown) (1997)': 1457, 'Mrs. Doubtfire (1993)': 1458, 'Much Ado About Nothing (1993)': 1459, 'Mud (2012)': 1460, 'Mulan (1998)': 1461, 'Mulholland Drive (2001)': 1462, 'Mulholland Falls (1996)': 1463, 'Multiplicity (1996)': 1464, 'Mummy Returns, The (2001)': 1465, 'Mummy, The (1999)': 1466, 'Munich (2005)': 1467, 'Muppet Christmas Carol, The (1992)': 1468, 'Muppet Movie, The (1979)': 1469, 'Muppet Treasure Island (1996)': 1470, 'Muppets Take Manhattan, The (1984)': 1471, 'Murder at 1600 (1997)': 1472, 'Murder in the First (1995)': 1473, \"Muriel's Wedding (1994)\": 1474, 'Music and Lyrics (2007)': 1475, \"My Best Friend's Wedding (1997)\": 1476, 'My Big Fat Greek Wedding (2002)': 1477, 'My Cousin Vinny (1992)': 1478, 'My Fair Lady (1964)': 1479, 'My Favorite Year (1982)': 1480, 'My Girl (1991)': 1481, 'My Left Foot (1989)': 1482, 'My Life as a Dog (Mitt liv som hund) (1985)': 1483, 'My Neighbor Totoro (Tonari no Totoro) (1988)': 1484, 'My Own Private Idaho (1991)': 1485, 'Mystery Men (1999)': 1486, 'Mystery Science Theater 3000: The Movie (1996)': 1487, 'Mystic River (2003)': 1488, 'Naked Gun 2 1/2: The Smell of Fear, The (1991)': 1489, 'Naked Gun 33 1/3: The Final Insult (1994)': 1490, 'Naked Gun: From the Files of Police Squad!, The (1988)': 1491, 'Name of the Rose, The (Name der Rose, Der) (1986)': 1492, 'Napoleon Dynamite (2004)': 1493, 'Nashville (1975)': 1494, \"National Lampoon's Vacation (1983)\": 1495, \"National Lampoon's Van Wilder (2002)\": 1496, 'National Treasure (2004)': 1497, 'National Treasure: Book of Secrets (2007)': 1498, 'Natural Born Killers (1994)': 1499, 'Natural, The (1984)': 1500, 'Nausicaä of the Valley of the Wind (Kaze no tani no Naushika) (1984)': 1501, 'Negotiator, The (1998)': 1502, 'Neighbors (2014)': 1503, 'Nell (1994)': 1504, 'Net, The (1995)': 1505, 'Network (1976)': 1506, 'Never Been Kissed (1999)': 1507, 'NeverEnding Story II: The Next Chapter, The (1990)': 1508, 'NeverEnding Story, The (1984)': 1509, 'Next (2007)': 1510, 'Next Karate Kid, The (1994)': 1511, 'Nick of Time (1995)': 1512, 'Night at the Museum (2006)': 1513, 'Night at the Museum: Battle of the Smithsonian (2009)': 1514, 'Night at the Roxbury, A (1998)': 1515, 'Night of the Living Dead (1968)': 1516, 'Night on Earth (1991)': 1517, 'Nightcrawler (2014)': 1518, 'Nightmare Before Christmas, The (1993)': 1519, \"Nightmare on Elm Street 2: Freddy's Revenge, A (1985)\": 1520, 'Nightmare on Elm Street 3: Dream Warriors, A (1987)': 1521, 'Nightmare on Elm Street, A (1984)': 1522, 'Nine Months (1995)': 1523, 'Nine to Five (a.k.a. 9 to 5) (1980)': 1524, 'Ninth Gate, The (1999)': 1525, 'Nixon (1995)': 1526, 'No Country for Old Men (2007)': 1527, 'No Strings Attached (2011)': 1528, 'No Way Out (1987)': 1529, \"Nobody's Fool (1994)\": 1530, 'North by Northwest (1959)': 1531, 'Nosferatu (Nosferatu, eine Symphonie des Grauens) (1922)': 1532, 'Not Another Teen Movie (2001)': 1533, 'Notebook, The (2004)': 1534, 'Notorious (1946)': 1535, 'Notting Hill (1999)': 1536, 'Now You See Me (2013)': 1537, 'Now You See Me 2 (2016)': 1538, 'Number 23, The (2007)': 1539, 'Nurse Betty (2000)': 1540, 'Nutty Professor II: The Klumps (2000)': 1541, 'Nutty Professor, The (1963)': 1542, 'Nutty Professor, The (1996)': 1543, 'O Brother, Where Art Thou? (2000)': 1544, 'Oblivion (2013)': 1545, \"Ocean's Eleven (2001)\": 1546, \"Ocean's Thirteen (2007)\": 1547, \"Ocean's Twelve (2004)\": 1548, 'October Sky (1999)': 1549, 'Odd Couple, The (1968)': 1550, 'Of Mice and Men (1992)': 1551, 'Office Space (1999)': 1552, 'Officer and a Gentleman, An (1982)': 1553, 'Old Boy (2003)': 1554, 'Old School (2003)': 1555, 'Old Yeller (1957)': 1556, 'Oliver & Company (1988)': 1557, 'Oliver! (1968)': 1558, 'Omen, The (1976)': 1559, 'On Golden Pond (1981)': 1560, \"On Her Majesty's Secret Service (1969)\": 1561, 'On the Waterfront (1954)': 1562, 'Once (2006)': 1563, 'Once Upon a Time in America (1984)': 1564, 'Once Upon a Time in Mexico (2003)': 1565, \"Once Upon a Time in the West (C'era una volta il West) (1968)\": 1566, 'Once Were Warriors (1994)': 1567, 'One Fine Day (1996)': 1568, \"One Flew Over the Cuckoo's Nest (1975)\": 1569, 'One Hour Photo (2002)': 1570, 'One, The (2001)': 1571, 'Only You (1994)': 1572, 'Open Your Eyes (Abre los ojos) (1997)': 1573, 'Operation Dumbo Drop (1995)': 1574, 'Opposite of Sex, The (1998)': 1575, 'Orange County (2002)': 1576, 'Ordinary People (1980)': 1577, 'Orphanage, The (Orfanato, El) (2007)': 1578, 'Othello (1995)': 1579, 'Other Guys, The (2010)': 1580, 'Others, The (2001)': 1581, 'Out of Africa (1985)': 1582, 'Out of Sight (1998)': 1583, 'Outbreak (1995)': 1584, 'Outlaw Josey Wales, The (1976)': 1585, 'Outsiders, The (1983)': 1586, 'Over the Hedge (2006)': 1587, 'P.S. I Love You (2007)': 1588, 'Pacific Heights (1990)': 1589, 'Pacific Rim (2013)': 1590, 'Pale Rider (1985)': 1591, \"Pan's Labyrinth (Laberinto del fauno, El) (2006)\": 1592, 'Pandorum (2009)': 1593, 'Panic Room (2002)': 1594, 'Paper, The (1994)': 1595, 'Paperman (2012)': 1596, 'Papillon (1973)': 1597, 'Paprika (Papurika) (2006)': 1598, 'Paranormal Activity (2009)': 1599, 'Parent Trap, The (1961)': 1600, 'Parent Trap, The (1998)': 1601, 'Parenthood (1989)': 1602, 'Paris, Texas (1984)': 1603, 'Passengers (2016)': 1604, 'Passion of the Christ, The (2004)': 1605, 'Patch Adams (1998)': 1606, 'Paths of Glory (1957)': 1607, 'Patriot Games (1992)': 1608, 'Patriot, The (2000)': 1609, 'Patton (1970)': 1610, 'Paul (2011)': 1611, 'Pay It Forward (2000)': 1612, 'Payback (1999)': 1613, 'Paycheck (2003)': 1614, 'Peacemaker, The (1997)': 1615, 'Pearl Harbor (2001)': 1616, 'Pecker (1998)': 1617, \"Pee-wee's Big Adventure (1985)\": 1618, 'Peggy Sue Got Married (1986)': 1619, 'Pelican Brief, The (1993)': 1620, 'People vs. Larry Flynt, The (1996)': 1621, 'Perfect Murder, A (1998)': 1622, 'Perfect Storm, The (2000)': 1623, 'Perfect World, A (1993)': 1624, 'Perfume: The Story of a Murderer (2006)': 1625, 'Perks of Being a Wallflower, The (2012)': 1626, 'Persepolis (2007)': 1627, 'Persuasion (1995)': 1628, 'Pet Sematary (1989)': 1629, \"Pete's Dragon (1977)\": 1630, 'Peter Pan (1953)': 1631, 'Phantom of the Opera, The (2004)': 1632, 'Phantom, The (1996)': 1633, 'Phenomenon (1996)': 1634, 'Philadelphia (1993)': 1635, 'Philadelphia Story, The (1940)': 1636, 'Phone Booth (2002)': 1637, 'Pi (1998)': 1638, 'Pianist, The (2002)': 1639, 'Piano, The (1993)': 1640, 'Pineapple Express (2008)': 1641, 'Pink Floyd: The Wall (1982)': 1642, 'Pink Panther, The (1963)': 1643, 'Pinocchio (1940)': 1644, \"Pirates of the Caribbean: At World's End (2007)\": 1645, \"Pirates of the Caribbean: Dead Man's Chest (2006)\": 1646, 'Pirates of the Caribbean: On Stranger Tides (2011)': 1647, 'Pirates of the Caribbean: The Curse of the Black Pearl (2003)': 1648, 'Pitch Black (2000)': 1649, 'Pitch Perfect (2012)': 1650, 'Plan 9 from Outer Space (1959)': 1651, 'Planes, Trains & Automobiles (1987)': 1652, 'Planet Terror (2007)': 1653, 'Planet of the Apes (1968)': 1654, 'Planet of the Apes (2001)': 1655, 'Platoon (1986)': 1656, 'Player, The (1992)': 1657, 'Pleasantville (1998)': 1658, 'Pocahontas (1995)': 1659, 'Point Break (1991)': 1660, 'Polar Express, The (2004)': 1661, 'Police Academy (1984)': 1662, 'Police Academy 2: Their First Assignment (1985)': 1663, 'Police Academy 3: Back in Training (1986)': 1664, 'Police Academy 4: Citizens on Patrol (1987)': 1665, 'Police Academy 5: Assignment: Miami Beach (1988)': 1666, 'Police Academy 6: City Under Siege (1989)': 1667, 'Pollock (2000)': 1668, 'Poltergeist (1982)': 1669, 'Ponyo (Gake no ue no Ponyo) (2008)': 1670, 'Popeye (1980)': 1671, 'Porco Rosso (Crimson Pig) (Kurenai no buta) (1992)': 1672, \"Porky's (1982)\": 1673, 'Poseidon Adventure, The (1972)': 1674, 'Postman, The (1997)': 1675, 'Postman, The (Postino, Il) (1994)': 1676, 'Powder (1995)': 1677, 'Practical Magic (1998)': 1678, 'Predator (1987)': 1679, 'Predator 2 (1990)': 1680, 'Predestination (2014)': 1681, 'Prestige, The (2006)': 1682, 'Pretty Woman (1990)': 1683, 'Pretty in Pink (1986)': 1684, 'Pride & Prejudice (2005)': 1685, 'Pride and Prejudice (1995)': 1686, 'Priest (1994)': 1687, 'Primal Fear (1996)': 1688, 'Primary Colors (1998)': 1689, 'Primer (2004)': 1690, 'Prince of Egypt, The (1998)': 1691, 'Prince of Persia: The Sands of Time (2010)': 1692, 'Princess Bride, The (1987)': 1693, 'Princess Diaries, The (2001)': 1694, 'Princess Mononoke (Mononoke-hime) (1997)': 1695, 'Princess and the Frog, The (2009)': 1696, 'Prisoners (2013)': 1697, 'Private Benjamin (1980)': 1698, 'Private Parts (1997)': 1699, \"Prizzi's Honor (1985)\": 1700, 'Producers, The (1968)': 1701, 'Professional, The (Le professionnel) (1981)': 1702, 'Prometheus (2012)': 1703, 'Proof of Life (2000)': 1704, 'Prophecy, The (1995)': 1705, 'Proposal, The (2009)': 1706, 'Psycho (1960)': 1707, 'Psycho (1998)': 1708, 'Public Enemies (2009)': 1709, 'Pulp Fiction (1994)': 1710, 'Pump Up the Volume (1990)': 1711, 'Punch-Drunk Love (2002)': 1712, 'Punisher, The (2004)': 1713, 'Purple Rose of Cairo, The (1985)': 1714, 'Pursuit of Happyness, The (2006)': 1715, 'Pushing Tin (1999)': 1716, 'Quantum of Solace (2008)': 1717, 'Quick and the Dead, The (1995)': 1718, 'Quiet Man, The (1952)': 1719, 'Quills (2000)': 1720, 'Quiz Show (1994)': 1721, 'Rabbit-Proof Fence (2002)': 1722, 'Radio Days (1987)': 1723, 'Raging Bull (1980)': 1724, 'Raiders of the Lost Ark (Indiana Jones and the Raiders of the Lost Ark) (1981)': 1725, 'Rain Man (1988)': 1726, 'Rainmaker, The (1997)': 1727, 'Raise the Red Lantern (Da hong deng long gao gao gua) (1991)': 1728, 'Raising Arizona (1987)': 1729, 'Rambo (Rambo 4) (2008)': 1730, 'Rambo III (1988)': 1731, 'Rambo: First Blood Part II (1985)': 1732, 'Ran (1985)': 1733, 'Rango (2011)': 1734, 'Ransom (1996)': 1735, 'Rashomon (Rashômon) (1950)': 1736, 'Rat Race (2001)': 1737, 'Ratatouille (2007)': 1738, 'Ray (2004)': 1739, 'Re-Animator (1985)': 1740, 'Reader, The (2008)': 1741, 'Ready Player One': 1742, 'Ready to Wear (Pret-A-Porter) (1994)': 1743, 'Real Genius (1985)': 1744, 'Real Steel (2011)': 1745, 'Reality Bites (1994)': 1746, 'Rear Window (1954)': 1747, 'Rebecca (1940)': 1748, 'Rebel Without a Cause (1955)': 1749, 'Recruit, The (2003)': 1750, 'Red (2010)': 1751, 'Red Dawn (1984)': 1752, 'Red Dragon (2002)': 1753, 'Red Planet (2000)': 1754, 'Red Rock West (1992)': 1755, 'Red Violin, The (Violon rouge, Le) (1998)': 1756, 'Ref, The (1994)': 1757, 'Reign of Fire (2002)': 1758, 'Reindeer Games (2000)': 1759, 'Relic, The (1997)': 1760, 'Remains of the Day, The (1993)': 1761, 'Remember the Titans (2000)': 1762, 'Renaissance Man (1994)': 1763, 'Replacement Killers, The (1998)': 1764, 'Replacements, The (2000)': 1765, 'Repo Man (1984)': 1766, 'Requiem for a Dream (2000)': 1767, 'Rescuers Down Under, The (1990)': 1768, 'Rescuers, The (1977)': 1769, 'Reservoir Dogs (1992)': 1770, 'Resident Evil (2002)': 1771, 'Resident Evil: Apocalypse (2004)': 1772, 'Resident Evil: Extinction (2007)': 1773, 'Restoration (1995)': 1774, 'Return of the Pink Panther, The (1975)': 1775, 'Return to Me (2000)': 1776, 'Revenge of the Nerds (1984)': 1777, 'Richard III (1995)': 1778, 'Richie Rich (1994)': 1779, 'Riddick (2013)': 1780, 'Right Stuff, The (1983)': 1781, 'Ring, The (2002)': 1782, 'Ringu (Ring) (1998)': 1783, 'Rio (2011)': 1784, 'Rise of the Planet of the Apes (2011)': 1785, 'Rising Sun (1993)': 1786, 'Risky Business (1983)': 1787, 'River Runs Through It, A (1992)': 1788, 'River Wild, The (1994)': 1789, 'Road Trip (2000)': 1790, 'Road Warrior, The (Mad Max 2) (1981)': 1791, 'Road to El Dorado, The (2000)': 1792, 'Road to Perdition (2002)': 1793, 'Road, The (2009)': 1794, 'Rob Roy (1995)': 1795, 'Robin Hood (1973)': 1796, 'Robin Hood (2010)': 1797, 'Robin Hood: Men in Tights (1993)': 1798, 'Robin Hood: Prince of Thieves (1991)': 1799, 'RoboCop (1987)': 1800, 'RoboCop 2 (1990)': 1801, 'RoboCop 3 (1993)': 1802, 'Robots (2005)': 1803, 'Rock, The (1996)': 1804, 'Rocketeer, The (1991)': 1805, 'RocknRolla (2008)': 1806, 'Rocky (1976)': 1807, 'Rocky Horror Picture Show, The (1975)': 1808, 'Rocky II (1979)': 1809, 'Rocky III (1982)': 1810, 'Rocky IV (1985)': 1811, 'Rocky V (1990)': 1812, 'Roger & Me (1989)': 1813, 'Rogue One: A Star Wars Story (2016)': 1814, 'Role Models (2008)': 1815, 'Roman Holiday (1953)': 1816, 'Romancing the Stone (1984)': 1817, 'Romeo Must Die (2000)': 1818, 'Romeo and Juliet (1968)': 1819, \"Romy and Michele's High School Reunion (1997)\": 1820, 'Ronin (1998)': 1821, 'Rookie, The (2002)': 1822, 'Room (2015)': 1823, 'Room with a View, A (1986)': 1824, 'Rope (1948)': 1825, \"Rosemary's Baby (1968)\": 1826, 'Rosencrantz and Guildenstern Are Dead (1990)': 1827, 'Rounders (1998)': 1828, 'Roxanne (1987)': 1829, 'Royal Tenenbaums, The (2001)': 1830, 'Rudy (1993)': 1831, 'Rules of Engagement (2000)': 1832, 'Rumble in the Bronx (Hont faan kui) (1995)': 1833, 'Run Lola Run (Lola rennt) (1998)': 1834, 'Runaway Bride (1999)': 1835, 'Runaway Jury (2003)': 1836, 'Rundown, The (2003)': 1837, 'Running Man, The (1987)': 1838, 'Rush (2013)': 1839, 'Rush Hour (1998)': 1840, 'Rush Hour 2 (2001)': 1841, 'Rushmore (1998)': 1842, 'Ruthless People (1986)': 1843, 'S.W.A.T. (2003)': 1844, 'Sabrina (1954)': 1845, 'Sabrina (1995)': 1846, 'Saint, The (1997)': 1847, 'Salt (2010)': 1848, 'Sandlot, The (1993)': 1849, 'Santa Clause, The (1994)': 1850, 'Saturday Night Fever (1977)': 1851, 'Save the Last Dance (2001)': 1852, 'Saved! (2004)': 1853, 'Saving Private Ryan (1998)': 1854, 'Saving Silverman (Evil Woman) (2001)': 1855, 'Saw (2004)': 1856, 'Saw II (2005)': 1857, 'Saw III (2006)': 1858, 'Say Anything... (1989)': 1859, 'Scanner Darkly, A (2006)': 1860, 'Scarface (1983)': 1861, 'Scary Movie (2000)': 1862, 'Scary Movie 2 (2001)': 1863, 'Scary Movie 3 (2003)': 1864, 'Scent of a Woman (1992)': 1865, \"Schindler's List (1993)\": 1866, 'School of Rock (2003)': 1867, 'Science of Sleep, The (La science des rêves) (2006)': 1868, 'Scooby-Doo (2002)': 1869, 'Score, The (2001)': 1870, 'Scott Pilgrim vs. the World (2010)': 1871, 'Scream (1996)': 1872, 'Scream 2 (1997)': 1873, 'Scream 3 (2000)': 1874, 'Screamers (1995)': 1875, 'Scrooged (1988)': 1876, 'Seabiscuit (2003)': 1877, 'Searchers, The (1956)': 1878, 'Searching for Bobby Fischer (1993)': 1879, 'Secondhand Lions (2003)': 1880, 'Secret Garden, The (1993)': 1881, 'Secret Life of Walter Mitty, The (2013)': 1882, 'Secret Window (2004)': 1883, 'Secret in Their Eyes, The (El secreto de sus ojos) (2009)': 1884, 'Secret of NIMH, The (1982)': 1885, 'Secret of Roan Inish, The (1994)': 1886, 'Secretary (2002)': 1887, 'Secrets & Lies (1996)': 1888, 'Sense and Sensibility (1995)': 1889, 'Serendipity (2001)': 1890, 'Serenity (2005)': 1891, 'Serial Mom (1994)': 1892, 'Serious Man, A (2009)': 1893, 'Serpico (1973)': 1894, 'Seven (a.k.a. Se7en) (1995)': 1895, 'Seven Pounds (2008)': 1896, 'Seven Psychopaths (2012)': 1897, 'Seven Samurai (Shichinin no samurai) (1954)': 1898, 'Seven Years in Tibet (1997)': 1899, 'Seventh Seal, The (Sjunde inseglet, Det) (1957)': 1900, 'Sex, Lies, and Videotape (1989)': 1901, 'Sexy Beast (2000)': 1902, 'Sgt. Bilko (1996)': 1903, 'Shadow of a Doubt (1943)': 1904, 'Shadow of the Vampire (2000)': 1905, 'Shadow, The (1994)': 1906, 'Shadowlands (1993)': 1907, 'Shaft (2000)': 1908, 'Shakespeare in Love (1998)': 1909, 'Shall We Dance? (Shall We Dansu?) (1996)': 1910, 'Shallow Grave (1994)': 1911, 'Shallow Hal (2001)': 1912, 'Shanghai Knights (2003)': 1913, 'Shanghai Noon (2000)': 1914, 'Shaolin Soccer (Siu lam juk kau) (2001)': 1915, 'Shark Tale (2004)': 1916, 'Shaun of the Dead (2004)': 1917, 'Shawshank Redemption, The (1994)': 1918, \"She's All That (1999)\": 1919, \"She's the One (1996)\": 1920, 'Sherlock Holmes (2009)': 1921, 'Sherlock Holmes: A Game of Shadows (2011)': 1922, 'Shine (1996)': 1923, 'Shining, The (1980)': 1924, \"Shoot 'Em Up (2007)\": 1925, 'Shooter (2007)': 1926, 'Short Circuit (1986)': 1927, 'Short Cuts (1993)': 1928, 'Showgirls (1995)': 1929, 'Shrek (2001)': 1930, 'Shrek 2 (2004)': 1931, 'Shrek Forever After (a.k.a. Shrek: The Final Chapter) (2010)': 1932, 'Shrek the Third (2007)': 1933, 'Shutter Island (2010)': 1934, 'Sicario (2015)': 1935, 'Sicko (2007)': 1936, 'Sid and Nancy (1986)': 1937, 'Sideways (2004)': 1938, 'Siege, The (1998)': 1939, 'Signs (2002)': 1940, 'Silence of the Lambs, The (1991)': 1941, 'Silent Hill (2006)': 1942, 'Silver Linings Playbook (2012)': 1943, 'Simple Plan, A (1998)': 1944, 'Simpsons Movie, The (2007)': 1945, 'Sin City (2005)': 1946, \"Singin' in the Rain (1952)\": 1947, 'Single White Female (1992)': 1948, 'Singles (1992)': 1949, 'Sirens (1994)': 1950, 'Sister Act (1992)': 1951, 'Sister Act 2: Back in the Habit (1993)': 1952, 'Six Days Seven Nights (1998)': 1953, 'Six Degrees of Separation (1993)': 1954, 'Sixteen Candles (1984)': 1955, 'Sixth Sense, The (1999)': 1956, 'Skulls, The (2000)': 1957, 'Sky Captain and the World of Tomorrow (2004)': 1958, 'Skyfall (2012)': 1959, 'Sleeper (1973)': 1960, 'Sleepers (1996)': 1961, 'Sleeping Beauty (1959)': 1962, 'Sleepless in Seattle (1993)': 1963, 'Sleepy Hollow (1999)': 1964, 'Sliding Doors (1998)': 1965, 'Sling Blade (1996)': 1966, 'Sliver (1993)': 1967, 'Slumdog Millionaire (2008)': 1968, 'Small Soldiers (1998)': 1969, 'Small Time Crooks (2000)': 1970, 'Smoke (1995)': 1971, 'Smoke Signals (1998)': 1972, 'Snake Eyes (1998)': 1973, 'Snakes on a Plane (2006)': 1974, 'Snatch (2000)': 1975, 'Sneakers (1992)': 1976, 'Snow White and the Seven Dwarfs (1937)': 1977, 'Snowpiercer (2013)': 1978, 'So I Married an Axe Murderer (1993)': 1979, 'Social Network, The (2010)': 1980, 'Solaris (2002)': 1981, 'Solaris (Solyaris) (1972)': 1982, 'Soldier (1998)': 1983, 'Some Folks Call It a Sling Blade (1993)': 1984, 'Some Kind of Wonderful (1987)': 1985, 'Some Like It Hot (1959)': 1986, 'Something to Talk About (1995)': 1987, \"Something's Gotta Give (2003)\": 1988, 'Somewhere in Time (1980)': 1989, 'Son in Law (1993)': 1990, \"Sophie's Choice (1982)\": 1991, \"Sorcerer's Apprentice, The (2010)\": 1992, 'Sound of Music, The (1965)': 1993, 'Source Code (2011)': 1994, 'South Park: Bigger, Longer and Uncut (1999)': 1995, 'Soylent Green (1973)': 1996, 'Space Cowboys (2000)': 1997, 'Space Jam (1996)': 1998, 'Spaceballs (1987)': 1999, 'Spanglish (2004)': 2000, 'Spanish Prisoner, The (1997)': 2001, 'Spartacus (1960)': 2002, 'Spawn (1997)': 2003, 'Specialist, The (1994)': 2004, 'Species (1995)': 2005, 'Species II (1998)': 2006, 'Spectre (2015)': 2007, 'Speechless (1994)': 2008, 'Speed (1994)': 2009, 'Speed 2: Cruise Control (1997)': 2010, 'Spellbound (1945)': 2011, 'Spellbound (2002)': 2012, 'Sphere (1998)': 2013, 'Spice World (1997)': 2014, 'Spider-Man (2002)': 2015, 'Spider-Man 2 (2004)': 2016, 'Spider-Man 3 (2007)': 2017, 'Spider-Man: Into the Spider-Verse (2018)': 2018, 'Spirited Away (Sen to Chihiro no kamikakushi) (2001)': 2019, 'Splash (1984)': 2020, 'Split (2017)': 2021, 'Spotlight (2015)': 2022, 'Spring, Summer, Fall, Winter... and Spring (Bom yeoreum gaeul gyeoul geurigo bom) (2003)': 2023, 'Spy (2015)': 2024, 'Spy Game (2001)': 2025, 'Spy Hard (1996)': 2026, 'Spy Kids (2001)': 2027, 'Spy Who Loved Me, The (1977)': 2028, 'Squid and the Whale, The (2005)': 2029, \"St. Elmo's Fire (1985)\": 2030, 'Stalag 17 (1953)': 2031, 'Stalker (1979)': 2032, 'Stand and Deliver (1988)': 2033, 'Stand by Me (1986)': 2034, 'Star Trek (2009)': 2035, 'Star Trek Beyond (2016)': 2036, 'Star Trek II: The Wrath of Khan (1982)': 2037, 'Star Trek III: The Search for Spock (1984)': 2038, 'Star Trek IV: The Voyage Home (1986)': 2039, 'Star Trek Into Darkness (2013)': 2040, 'Star Trek V: The Final Frontier (1989)': 2041, 'Star Trek VI: The Undiscovered Country (1991)': 2042, 'Star Trek: First Contact (1996)': 2043, 'Star Trek: Generations (1994)': 2044, 'Star Trek: Insurrection (1998)': 2045, 'Star Trek: Nemesis (2002)': 2046, 'Star Trek: The Motion Picture (1979)': 2047, 'Star Wars: Episode I - The Phantom Menace (1999)': 2048, 'Star Wars: Episode II - Attack of the Clones (2002)': 2049, 'Star Wars: Episode III - Revenge of the Sith (2005)': 2050, 'Star Wars: Episode IV - A New Hope (1977)': 2051, 'Star Wars: Episode V - The Empire Strikes Back (1980)': 2052, 'Star Wars: Episode VI - Return of the Jedi (1983)': 2053, 'Star Wars: Episode VII - The Force Awakens (2015)': 2054, 'Star Wars: The Last Jedi (2017)': 2055, 'Stardust (2007)': 2056, 'Stargate (1994)': 2057, 'Starman (1984)': 2058, 'Starship Troopers (1997)': 2059, 'Starsky & Hutch (2004)': 2060, 'State and Main (2000)': 2061, 'Station Agent, The (2003)': 2062, 'Steel Magnolias (1989)': 2063, 'Step Brothers (2008)': 2064, 'Stepford Wives, The (1975)': 2065, 'Stepford Wives, The (2004)': 2066, 'Stepmom (1998)': 2067, 'Stigmata (1999)': 2068, 'Sting, The (1973)': 2069, 'Stir of Echoes (1999)': 2070, 'Stop Making Sense (1984)': 2071, 'Straight Story, The (1999)': 2072, 'Strange Days (1995)': 2073, 'Stranger than Fiction (2006)': 2074, 'Strangers on a Train (1951)': 2075, 'Street Fighter (1994)': 2076, 'Streetcar Named Desire, A (1951)': 2077, 'Strictly Ballroom (1992)': 2078, 'Striking Distance (1993)': 2079, 'Stripes (1981)': 2080, 'Striptease (1996)': 2081, 'Stuart Little (1999)': 2082, 'Substitute, The (1996)': 2083, 'Sucker Punch (2011)': 2084, 'Sudden Death (1995)': 2085, 'Suicide Kings (1997)': 2086, 'Suicide Squad (2016)': 2087, 'Sum of All Fears, The (2002)': 2088, 'Summer of Sam (1999)': 2089, 'Sunset Blvd. (a.k.a. Sunset Boulevard) (1950)': 2090, 'Sunshine (2007)': 2091, 'Super 8 (2011)': 2092, 'Super Mario Bros. (1993)': 2093, 'Super Size Me (2004)': 2094, 'Super Troopers (2001)': 2095, 'Superbad (2007)': 2096, 'Supercop (Police Story 3: Supercop) (Jing cha gu shi III: Chao ji jing cha) (1992)': 2097, 'Superman (1978)': 2098, 'Superman II (1980)': 2099, 'Superman III (1983)': 2100, 'Superman IV: The Quest for Peace (1987)': 2101, 'Superman Returns (2006)': 2102, 'Surrogates (2009)': 2103, 'Sweeney Todd: The Demon Barber of Fleet Street (2007)': 2104, 'Sweet Hereafter, The (1997)': 2105, 'Sweet Home Alabama (2002)': 2106, 'Swimming with Sharks (1995)': 2107, 'Swingers (1996)': 2108, 'Swiss Family Robinson (1960)': 2109, 'Sword in the Stone, The (1963)': 2110, 'Swordfish (2001)': 2111, 'Syriana (2005)': 2112, 'Take the Money and Run (1969)': 2113, 'Taken (2008)': 2114, 'Talented Mr. Ripley, The (1999)': 2115, 'Tales from the Crypt Presents: Demon Knight (1995)': 2116, 'Talk to Her (Hable con Ella) (2002)': 2117, 'Talladega Nights: The Ballad of Ricky Bobby (2006)': 2118, 'Tangled (2010)': 2119, 'Tango & Cash (1989)': 2120, 'Tank Girl (1995)': 2121, 'Tarzan (1999)': 2122, 'Taxi Driver (1976)': 2123, 'Team America: World Police (2004)': 2124, 'Ted (2012)': 2125, 'Teenage Mutant Ninja Turtles (1990)': 2126, 'Teenage Mutant Ninja Turtles II: The Secret of the Ooze (1991)': 2127, 'Terminal Velocity (1994)': 2128, 'Terminal, The (2004)': 2129, 'Terminator 2: Judgment Day (1991)': 2130, 'Terminator 3: Rise of the Machines (2003)': 2131, 'Terminator Genisys (2015)': 2132, 'Terminator Salvation (2009)': 2133, 'Terminator, The (1984)': 2134, 'Terms of Endearment (1983)': 2135, 'Texas Chainsaw Massacre, The (1974)': 2136, 'Thank You for Smoking (2006)': 2137, 'That Thing You Do! (1996)': 2138, 'The Accountant (2016)': 2139, 'The Amazing Spider-Man 2 (2014)': 2140, 'The Artist (2011)': 2141, 'The Butterfly Effect (2004)': 2142, 'The Count of Monte Cristo (2002)': 2143, \"The Devil's Advocate (1997)\": 2144, 'The Fault in Our Stars (2014)': 2145, 'The Hateful Eight (2015)': 2146, 'The Hobbit: The Battle of the Five Armies (2014)': 2147, 'The Hunger Games (2012)': 2148, 'The Hunger Games: Catching Fire (2013)': 2149, 'The Hunger Games: Mockingjay - Part 1 (2014)': 2150, 'The Hunger Games: Mockingjay - Part 2 (2015)': 2151, 'The Imitation Game (2014)': 2152, 'The Intern (2015)': 2153, 'The Interview (2014)': 2154, 'The Jungle Book (2016)': 2155, 'The Lego Movie (2014)': 2156, 'The Lobster (2015)': 2157, 'The Machinist (2004)': 2158, 'The Man from U.N.C.L.E. (2015)': 2159, 'The Martian (2015)': 2160, 'The Nice Guys (2016)': 2161, 'The Queen (2006)': 2162, 'The Raid: Redemption (2011)': 2163, 'The Revenant (2015)': 2164, 'The Scorpion King (2002)': 2165, 'The Shape of Water (2017)': 2166, 'The Theory of Everything (2014)': 2167, 'Thelma & Louise (1991)': 2168, 'There Will Be Blood (2007)': 2169, \"There's Something About Mary (1998)\": 2170, 'They Live (1988)': 2171, 'Thin Blue Line, The (1988)': 2172, 'Thin Man, The (1934)': 2173, 'Thin Red Line, The (1998)': 2174, 'Thing, The (1982)': 2175, \"Things to Do in Denver When You're Dead (1995)\": 2176, 'Third Man, The (1949)': 2177, 'Thirteen (2003)': 2178, 'Thirteen Days (2000)': 2179, 'Thirteen Ghosts (a.k.a. Thir13en Ghosts) (2001)': 2180, 'Thirteenth Floor, The (1999)': 2181, 'This Is Spinal Tap (1984)': 2182, 'This Is the End (2013)': 2183, 'Thomas Crown Affair, The (1968)': 2184, 'Thomas Crown Affair, The (1999)': 2185, 'Thor (2011)': 2186, 'Thor: Ragnarok (2017)': 2187, 'Thor: The Dark World (2013)': 2188, 'Three Billboards Outside Ebbing, Missouri (2017)': 2189, 'Three Colors: Blue (Trois couleurs: Bleu) (1993)': 2190, 'Three Colors: Red (Trois couleurs: Rouge) (1994)': 2191, 'Three Colors: White (Trzy kolory: Bialy) (1994)': 2192, 'Three Days of the Condor (3 Days of the Condor) (1975)': 2193, 'Three Kings (1999)': 2194, 'Three Men and a Baby (1987)': 2195, 'Three Musketeers, The (1993)': 2196, 'Threesome (1994)': 2197, 'Throw Momma from the Train (1987)': 2198, 'Thunderball (1965)': 2199, 'Time Bandits (1981)': 2200, 'Time Machine, The (1960)': 2201, 'Time Machine, The (2002)': 2202, 'Time to Kill, A (1996)': 2203, 'Timecop (1994)': 2204, 'Tin Cup (1996)': 2205, 'Tin Men (1987)': 2206, 'Tinker Tailor Soldier Spy (2011)': 2207, 'Titan A.E. (2000)': 2208, 'Titanic (1997)': 2209, 'To Catch a Thief (1955)': 2210, 'To Die For (1995)': 2211, 'To Kill a Mockingbird (1962)': 2212, 'To Wong Foo, Thanks for Everything! Julie Newmar (1995)': 2213, 'Tombstone (1993)': 2214, 'Tommy Boy (1995)': 2215, 'Tomorrow Never Dies (1997)': 2216, 'Tootsie (1982)': 2217, 'Top Gun (1986)': 2218, 'Top Hat (1935)': 2219, 'Top Secret! (1984)': 2220, 'Total Recall (1990)': 2221, 'Total Recall (2012)': 2222, 'Touch of Evil (1958)': 2223, 'Touching the Void (2003)': 2224, 'Town, The (2010)': 2225, 'Toy Story (1995)': 2226, 'Toy Story 2 (1999)': 2227, 'Toy Story 3 (2010)': 2228, 'Toys (1992)': 2229, 'Trading Places (1983)': 2230, 'Traffic (2000)': 2231, 'Training Day (2001)': 2232, 'Trainspotting (1996)': 2233, 'Transcendence (2014)': 2234, 'Transformers (2007)': 2235, 'Transformers: Dark of the Moon (2011)': 2236, 'Transformers: Revenge of the Fallen (2009)': 2237, 'Transformers: The Movie (1986)': 2238, 'Transporter 2 (2005)': 2239, 'Transporter, The (2002)': 2240, 'Treasure Planet (2002)': 2241, 'Treasure of the Sierra Madre, The (1948)': 2242, 'Tremors (1990)': 2243, 'Triplets of Belleville, The (Les triplettes de Belleville) (2003)': 2244, 'Tron (1982)': 2245, 'Tron: Legacy (2010)': 2246, 'Tropic Thunder (2008)': 2247, 'Troy (2004)': 2248, 'True Grit (2010)': 2249, 'True Lies (1994)': 2250, 'True Romance (1993)': 2251, 'Truman Show, The (1998)': 2252, 'Truth About Cats & Dogs, The (1996)': 2253, 'Tucker & Dale vs Evil (2010)': 2254, 'Turner & Hooch (1989)': 2255, 'Tuxedo, The (2002)': 2256, 'Twelve Monkeys (a.k.a. 12 Monkeys) (1995)': 2257, 'Twilight (2008)': 2258, 'Twilight Saga: Eclipse, The (2010)': 2259, 'Twilight Saga: New Moon, The (2009)': 2260, 'Twin Peaks: Fire Walk with Me (1992)': 2261, 'Twins (1988)': 2262, 'Twister (1996)': 2263, 'Two Weeks Notice (2002)': 2264, 'U Turn (1997)': 2265, 'U-571 (2000)': 2266, 'U.S. Marshals (1998)': 2267, \"Ulee's Gold (1997)\": 2268, 'Unbearable Lightness of Being, The (1988)': 2269, 'Unbreakable (2000)': 2270, 'Uncle Buck (1989)': 2271, 'Under Siege (1992)': 2272, 'Under Siege 2: Dark Territory (1995)': 2273, 'Underworld (2003)': 2274, 'Underworld: Evolution (2006)': 2275, 'Underworld: Rise of the Lycans (2009)': 2276, 'Unfaithful (2002)': 2277, 'Unforgiven (1992)': 2278, 'Universal Soldier (1992)': 2279, 'Unknown (2011)': 2280, 'Untitled Spider-Man Reboot (2017)': 2281, 'Untouchables, The (1987)': 2282, 'Up (2009)': 2283, 'Up Close and Personal (1996)': 2284, 'Up in the Air (2009)': 2285, 'Urban Legend (1998)': 2286, 'Usual Suspects, The (1995)': 2287, 'V for Vendetta (2006)': 2288, 'Valkyrie (2008)': 2289, 'Van Helsing (2004)': 2290, 'Vanilla Sky (2001)': 2291, 'Varsity Blues (1999)': 2292, \"Vegas Vacation (National Lampoon's Las Vegas Vacation) (1997)\": 2293, 'Verdict, The (1982)': 2294, 'Vertical Limit (2000)': 2295, 'Vertigo (1958)': 2296, 'Very Bad Things (1998)': 2297, 'Very Brady Sequel, A (1996)': 2298, 'Very Long Engagement, A (Un long dimanche de fiançailles) (2004)': 2299, 'Vicky Cristina Barcelona (2008)': 2300, 'Victor/Victoria (1982)': 2301, 'Videodrome (1983)': 2302, 'View to a Kill, A (1985)': 2303, 'Village of the Damned (1995)': 2304, 'Village, The (2004)': 2305, 'Virgin Suicides, The (1999)': 2306, 'Virtuosity (1995)': 2307, 'Volcano (1997)': 2308, 'Volver (2006)': 2309, 'WALL·E (2008)': 2310, 'Wag the Dog (1997)': 2311, 'Waiting for Guffman (1996)': 2312, 'Waiting to Exhale (1995)': 2313, 'Waking Life (2001)': 2314, 'Waking Ned Devine (a.k.a. Waking Ned) (1998)': 2315, 'Walk in the Clouds, A (1995)': 2316, 'Walk the Line (2005)': 2317, 'Walk to Remember, A (2002)': 2318, 'Wall Street (1987)': 2319, 'Wallace & Gromit in The Curse of the Were-Rabbit (2005)': 2320, 'Wallace & Gromit: A Close Shave (1995)': 2321, 'Wallace & Gromit: The Best of Aardman Animation (1996)': 2322, 'Wallace & Gromit: The Wrong Trousers (1993)': 2323, 'Wanted (2008)': 2324, 'War of the Roses, The (1989)': 2325, 'War of the Worlds (2005)': 2326, 'War of the Worlds, The (1953)': 2327, 'WarGames (1983)': 2328, 'Warm Bodies (2013)': 2329, 'Warrior (2011)': 2330, 'Watchmen (2009)': 2331, 'Waterboy, The (1998)': 2332, 'Watership Down (1978)': 2333, 'Waterworld (1995)': 2334, \"Wayne's World (1992)\": 2335, \"Wayne's World 2 (1993)\": 2336, 'We Were Soldiers (2002)': 2337, \"We're the Millers (2013)\": 2338, 'Wedding Crashers (2005)': 2339, 'Wedding Planner, The (2001)': 2340, 'Wedding Singer, The (1998)': 2341, \"Weekend at Bernie's (1989)\": 2342, 'Weird Science (1985)': 2343, 'Welcome to the Dollhouse (1995)': 2344, \"Wes Craven's New Nightmare (Nightmare on Elm Street Part 7: Freddy's Finale, A) (1994)\": 2345, 'West Side Story (1961)': 2346, 'Westworld (1973)': 2347, 'Whale Rider (2002)': 2348, 'What About Bob? (1991)': 2349, 'What Dreams May Come (1998)': 2350, 'What Lies Beneath (2000)': 2351, 'What We Do in the Shadows (2014)': 2352, 'What Women Want (2000)': 2353, \"What's Eating Gilbert Grape (1993)\": 2354, \"What's Love Got to Do with It? (1993)\": 2355, 'When Harry Met Sally... (1989)': 2356, 'When We Were Kings (1996)': 2357, 'When a Man Loves a Woman (1994)': 2358, 'Where the Wild Things Are (2009)': 2359, 'While You Were Sleeping (1995)': 2360, 'Whiplash (2014)': 2361, 'White Chicks (2004)': 2362, \"White Men Can't Jump (1992)\": 2363, 'White Squall (1996)': 2364, 'Who Framed Roger Rabbit? (1988)': 2365, \"Who's Afraid of Virginia Woolf? (1966)\": 2366, 'Whole Nine Yards, The (2000)': 2367, 'Wild Bunch, The (1969)': 2368, 'Wild Strawberries (Smultronstället) (1957)': 2369, 'Wild Things (1998)': 2370, 'Wild Wild West (1999)': 2371, \"William Shakespeare's A Midsummer Night's Dream (1999)\": 2372, \"William Shakespeare's Romeo + Juliet (1996)\": 2373, 'Willow (1988)': 2374, 'Willy Wonka & the Chocolate Factory (1971)': 2375, 'Wings of Desire (Himmel über Berlin, Der) (1987)': 2376, 'Winnie the Pooh and the Blustery Day (1968)': 2377, \"Winter's Bone (2010)\": 2378, 'With Honors (1994)': 2379, 'Witness (1985)': 2380, 'Witness for the Prosecution (1957)': 2381, 'Wizard of Oz, The (1939)': 2382, 'Wolf (1994)': 2383, 'Wolf of Wall Street, The (2013)': 2384, 'Wolverine, The (2013)': 2385, 'Women on the Verge of a Nervous Breakdown (Mujeres al borde de un ataque de nervios) (1988)': 2386, 'Wonder Boys (2000)': 2387, 'Wonder Woman (2017)': 2388, 'Working Girl (1988)': 2389, 'World According to Garp, The (1982)': 2390, 'World Is Not Enough, The (1999)': 2391, 'World War Z (2013)': 2392, \"World's End, The (2013)\": 2393, 'Wreck-It Ralph (2012)': 2394, 'Wrestler, The (2008)': 2395, 'Wyatt Earp (1994)': 2396, 'X-Files: Fight the Future, The (1998)': 2397, 'X-Men (2000)': 2398, 'X-Men Origins: Wolverine (2009)': 2399, 'X-Men: Apocalypse (2016)': 2400, 'X-Men: Days of Future Past (2014)': 2401, 'X-Men: First Class (2011)': 2402, 'X-Men: The Last Stand (2006)': 2403, 'X2: X-Men United (2003)': 2404, 'Year of Living Dangerously, The (1982)': 2405, 'Yellow Submarine (1968)': 2406, 'Yes Man (2008)': 2407, 'Yojimbo (1961)': 2408, 'You Can Count on Me (2000)': 2409, \"You Don't Mess with the Zohan (2008)\": 2410, 'You Only Live Twice (1967)': 2411, \"You've Got Mail (1998)\": 2412, 'Young Frankenstein (1974)': 2413, 'Young Guns (1988)': 2414, 'Young Guns II (1990)': 2415, 'Young Sherlock Holmes (1985)': 2416, 'Zack and Miri Make a Porno (2008)': 2417, 'Zero Dark Thirty (2012)': 2418, 'Zero Effect (1998)': 2419, 'Zodiac (2007)': 2420, 'Zombieland (2009)': 2421, 'Zoolander (2001)': 2422, 'Zootopia (2016)': 2423, 'eXistenZ (1999)': 2424, 'xXx (2002)': 2425, '¡Three Amigos! (1986)': 2426}\n"
     ]
    }
   ],
   "source": [
    "#Creating a dictionary with movie name as key and its index from the list as value:\n",
    "movie_dict = {movie : index for index, movie in enumerate(movies_list)}\n",
    "print(movie_dict)"
   ]
  },
  {
   "cell_type": "code",
   "execution_count": 121,
   "id": "73d03eed",
   "metadata": {},
   "outputs": [],
   "source": [
    "\n",
    "case_insensitive_movies_list = [i.lower() for i in movies_list]"
   ]
  },
  {
   "cell_type": "markdown",
   "id": "3923b2db",
   "metadata": {},
   "source": [
    "###### param_grid_movie = {\n",
    "    'n_neighbors': [3,5,10],\n",
    "    'metric': ['cosine','jaccard'],\n",
    "    'algorithm': ['brute']\n",
    "}\n",
    "\n",
    "knn_model_movie = NearestNeighbors()\n",
    "grid_search_movie = GridSearchCV(knn_model_movie, param_grid_movie, scoring='neg_mean_squared_error',cv=5, n_jobs=-1)\n",
    "grid_search_movie.fit(movie_to_user_df)\n",
    "\n",
    "# Get the best hyperparameters from the grid search\n",
    "best_k_movie = grid_search_movie.best_params_['n_neighbors']\n",
    "best_metric_movie = grid_search_movie.best_params_['metric']\n",
    "best_algorithm_movie=grid_search_movie.best_params_['algorithm']"
   ]
  },
  {
   "cell_type": "markdown",
   "id": "4fa1a543",
   "metadata": {},
   "source": [
    "###### print(f\"Optimal number of neighbors (n_neighbors): {best_k_movie}\")\n",
    "print(f\"Optimal similarity metric: {best_metric_movie}\")\n",
    "print(f\"Optimal algorithm: {best_algorithm_movie}\")"
   ]
  },
  {
   "cell_type": "markdown",
   "id": "e17614bc",
   "metadata": {},
   "source": [
    "###### SimilarMovie_knn_model = NearestNeighbors(n_neighbors=best_k_movie, metric=best_metric_movie, algorithm=best_algorithm_movie, n_jobs=-1)\n",
    "SimilarMovie_knn_model.fit(user_to_movie_sparse_df)"
   ]
  },
  {
   "cell_type": "markdown",
   "id": "16862ba3",
   "metadata": {},
   "source": [
    "###### joblib.dump(SimilarMovie_knn_model, './similarmovie_recommendation_model.pkl')"
   ]
  },
  {
   "cell_type": "code",
   "execution_count": 124,
   "id": "153438ae",
   "metadata": {},
   "outputs": [
    {
     "data": {
      "text/html": [
       "<style>#sk-container-id-10 {color: black;background-color: white;}#sk-container-id-10 pre{padding: 0;}#sk-container-id-10 div.sk-toggleable {background-color: white;}#sk-container-id-10 label.sk-toggleable__label {cursor: pointer;display: block;width: 100%;margin-bottom: 0;padding: 0.3em;box-sizing: border-box;text-align: center;}#sk-container-id-10 label.sk-toggleable__label-arrow:before {content: \"▸\";float: left;margin-right: 0.25em;color: #696969;}#sk-container-id-10 label.sk-toggleable__label-arrow:hover:before {color: black;}#sk-container-id-10 div.sk-estimator:hover label.sk-toggleable__label-arrow:before {color: black;}#sk-container-id-10 div.sk-toggleable__content {max-height: 0;max-width: 0;overflow: hidden;text-align: left;background-color: #f0f8ff;}#sk-container-id-10 div.sk-toggleable__content pre {margin: 0.2em;color: black;border-radius: 0.25em;background-color: #f0f8ff;}#sk-container-id-10 input.sk-toggleable__control:checked~div.sk-toggleable__content {max-height: 200px;max-width: 100%;overflow: auto;}#sk-container-id-10 input.sk-toggleable__control:checked~label.sk-toggleable__label-arrow:before {content: \"▾\";}#sk-container-id-10 div.sk-estimator input.sk-toggleable__control:checked~label.sk-toggleable__label {background-color: #d4ebff;}#sk-container-id-10 div.sk-label input.sk-toggleable__control:checked~label.sk-toggleable__label {background-color: #d4ebff;}#sk-container-id-10 input.sk-hidden--visually {border: 0;clip: rect(1px 1px 1px 1px);clip: rect(1px, 1px, 1px, 1px);height: 1px;margin: -1px;overflow: hidden;padding: 0;position: absolute;width: 1px;}#sk-container-id-10 div.sk-estimator {font-family: monospace;background-color: #f0f8ff;border: 1px dotted black;border-radius: 0.25em;box-sizing: border-box;margin-bottom: 0.5em;}#sk-container-id-10 div.sk-estimator:hover {background-color: #d4ebff;}#sk-container-id-10 div.sk-parallel-item::after {content: \"\";width: 100%;border-bottom: 1px solid gray;flex-grow: 1;}#sk-container-id-10 div.sk-label:hover label.sk-toggleable__label {background-color: #d4ebff;}#sk-container-id-10 div.sk-serial::before {content: \"\";position: absolute;border-left: 1px solid gray;box-sizing: border-box;top: 0;bottom: 0;left: 50%;z-index: 0;}#sk-container-id-10 div.sk-serial {display: flex;flex-direction: column;align-items: center;background-color: white;padding-right: 0.2em;padding-left: 0.2em;position: relative;}#sk-container-id-10 div.sk-item {position: relative;z-index: 1;}#sk-container-id-10 div.sk-parallel {display: flex;align-items: stretch;justify-content: center;background-color: white;position: relative;}#sk-container-id-10 div.sk-item::before, #sk-container-id-10 div.sk-parallel-item::before {content: \"\";position: absolute;border-left: 1px solid gray;box-sizing: border-box;top: 0;bottom: 0;left: 50%;z-index: -1;}#sk-container-id-10 div.sk-parallel-item {display: flex;flex-direction: column;z-index: 1;position: relative;background-color: white;}#sk-container-id-10 div.sk-parallel-item:first-child::after {align-self: flex-end;width: 50%;}#sk-container-id-10 div.sk-parallel-item:last-child::after {align-self: flex-start;width: 50%;}#sk-container-id-10 div.sk-parallel-item:only-child::after {width: 0;}#sk-container-id-10 div.sk-dashed-wrapped {border: 1px dashed gray;margin: 0 0.4em 0.5em 0.4em;box-sizing: border-box;padding-bottom: 0.4em;background-color: white;}#sk-container-id-10 div.sk-label label {font-family: monospace;font-weight: bold;display: inline-block;line-height: 1.2em;}#sk-container-id-10 div.sk-label-container {text-align: center;}#sk-container-id-10 div.sk-container {/* jupyter's `normalize.less` sets `[hidden] { display: none; }` but bootstrap.min.css set `[hidden] { display: none !important; }` so we also need the `!important` here to be able to override the default hidden behavior on the sphinx rendered scikit-learn.org. See: https://github.com/scikit-learn/scikit-learn/issues/21755 */display: inline-block !important;position: relative;}#sk-container-id-10 div.sk-text-repr-fallback {display: none;}</style><div id=\"sk-container-id-10\" class=\"sk-top-container\"><div class=\"sk-text-repr-fallback\"><pre>NearestNeighbors(algorithm=&#x27;brute&#x27;, metric=&#x27;cosine&#x27;, n_neighbors=10)</pre><b>In a Jupyter environment, please rerun this cell to show the HTML representation or trust the notebook. <br />On GitHub, the HTML representation is unable to render, please try loading this page with nbviewer.org.</b></div><div class=\"sk-container\" hidden><div class=\"sk-item\"><div class=\"sk-estimator sk-toggleable\"><input class=\"sk-toggleable__control sk-hidden--visually\" id=\"sk-estimator-id-10\" type=\"checkbox\" checked><label for=\"sk-estimator-id-10\" class=\"sk-toggleable__label sk-toggleable__label-arrow\">NearestNeighbors</label><div class=\"sk-toggleable__content\"><pre>NearestNeighbors(algorithm=&#x27;brute&#x27;, metric=&#x27;cosine&#x27;, n_neighbors=10)</pre></div></div></div></div></div>"
      ],
      "text/plain": [
       "NearestNeighbors(algorithm='brute', metric='cosine', n_neighbors=10)"
      ]
     },
     "execution_count": 124,
     "metadata": {},
     "output_type": "execute_result"
    }
   ],
   "source": [
    "\n",
    "SimilarMovie_knn_model = NearestNeighbors(n_neighbors=10,metric='cosine', algorithm='brute')\n",
    "SimilarMovie_knn_model.fit(movie_to_user_sparse_df)\n"
   ]
  },
  {
   "cell_type": "code",
   "execution_count": 125,
   "id": "ee823342",
   "metadata": {},
   "outputs": [
    {
     "data": {
      "text/plain": [
       "['./similarmovie_recommendation_model.pkl']"
      ]
     },
     "execution_count": 125,
     "metadata": {},
     "output_type": "execute_result"
    }
   ],
   "source": [
    " joblib.dump(SimilarMovie_knn_model, './similarmovie_recommendation_model.pkl')"
   ]
  },
  {
   "cell_type": "code",
   "execution_count": 126,
   "id": "bef0dc86",
   "metadata": {},
   "outputs": [],
   "source": [
    "\n",
    "## function to find top n similar users of the given input user \n",
    "def get_similar_movies(movie, n = 10):\n",
    "    knn_movie_model = joblib.load('./similarmovie_recommendation_model.pkl')\n",
    "    ## input to this function is the movie and number of top similar movies you want\n",
    "    index = movie_dict[movie]\n",
    "    print(index)\n",
    "    knn_input = np.asarray([movie_to_user_df.values[index]])\n",
    "    print(knn_input)\n",
    "    n = min(len(movies_list)-1,n)\n",
    "    distances, indices = knn_movie_modelX.kneighbors(knn_input, n_neighbors=n+1)\n",
    "    print(\"Top\",n,\"movies which are very much similar to the Movie-\",movie, \"are: \")\n",
    "    print(\" \")\n",
    "    for i in range(1,len(distances[0])):\n",
    "        print(movies_list[indices[0][i]])"
   ]
  },
  {
   "cell_type": "code",
   "execution_count": 127,
   "id": "02666310",
   "metadata": {
    "scrolled": true
   },
   "outputs": [
    {
     "name": "stdout",
     "output_type": "stream",
     "text": [
      "3\n",
      "[[0.  0.  0.  ... 4.5 0.  0. ]]\n",
      "Top 15 movies which are very much similar to the Movie- 10 Things I Hate About You (1999) are: \n",
      " \n",
      "Never Been Kissed (1999)\n",
      "She's All That (1999)\n",
      "Legally Blonde (2001)\n",
      "American Pie (1999)\n",
      "Cruel Intentions (1999)\n",
      "Wedding Singer, The (1998)\n",
      "Miss Congeniality (2000)\n",
      "Big Daddy (1999)\n",
      "Notting Hill (1999)\n",
      "Mean Girls (2004)\n",
      "Bridget Jones's Diary (2001)\n",
      "Bring It On (2000)\n",
      "50 First Dates (2004)\n",
      "How to Lose a Guy in 10 Days (2003)\n",
      "You've Got Mail (1998)\n"
     ]
    }
   ],
   "source": [
    "from pprint import pprint\n",
    "movie_name = '10 Things I Hate About You (1999)'\n",
    "\n",
    "get_similar_movies(movie_name,15)"
   ]
  },
  {
   "cell_type": "markdown",
   "id": "baa2e7fc",
   "metadata": {},
   "source": [
    "###### Observation on above built KNN Recommender System:\n",
    "\n",
    "An interesting observation would be that the above KNN model for movies recommends movies that are produced in very similar years of the input movie. However, the cosine distance of all those recommendations are observed to be actually quite small. This might be because there are too many zero values in our movie-user matrix. With too many zero values in our data, the data sparsity becomes a real issue for KNN model and the distance in KNN model starts to fall apart.\n",
    "\n",
    "Let's now look at how sparse the movie-user matrix is by calculating percentage of zero values in the data."
   ]
  },
  {
   "cell_type": "code",
   "execution_count": 128,
   "id": "0d3df477",
   "metadata": {},
   "outputs": [
    {
     "name": "stdout",
     "output_type": "stream",
     "text": [
      "There is about 92.50% of ratings in our data is missing\n"
     ]
    }
   ],
   "source": [
    "\n",
    "# calcuate total number of entries in the movie-user matrix\n",
    "num_entries = movie_to_user_df.shape[0] * movie_to_user_df.shape[1]\n",
    "# calculate total number of entries with zero values\n",
    "num_zeros = (movie_to_user_df==0).sum(axis=1).sum()\n",
    "# calculate ratio of number of zeros to number of entries\n",
    "ratio_zeros = num_zeros / num_entries\n",
    "print('There is about {:.2%} of ratings in our data is missing'.format(ratio_zeros))\n",
    "     "
   ]
  },
  {
   "cell_type": "markdown",
   "id": "3340b239",
   "metadata": {},
   "source": [
    "###### This result confirms the above hypothesis. The vast majority of entries in our data is zero. This explains why the distance between similar items or opposite items are both pretty large."
   ]
  },
  {
   "cell_type": "markdown",
   "id": "9bc23a44",
   "metadata": {},
   "source": [
    "# Neural Networks\n",
    "Google Colab Used in Taining Model"
   ]
  },
  {
   "cell_type": "markdown",
   "id": "5e3e0c15",
   "metadata": {},
   "source": [
    "###### Encoding users and movie titles to make sure that the sequence has no missing values when dealing with  Neural Networks."
   ]
  },
  {
   "cell_type": "code",
   "execution_count": 110,
   "id": "94f4507a",
   "metadata": {},
   "outputs": [],
   "source": [
    "refined_dataset_nn=refined_dataset.copy()"
   ]
  },
  {
   "cell_type": "code",
   "execution_count": 111,
   "id": "3b605325",
   "metadata": {},
   "outputs": [],
   "source": [
    "\n",
    "user_enc = LabelEncoder()\n",
    "refined_dataset_nn['user'] = user_enc.fit_transform(refined_dataset_nn['userId'].values)\n",
    "n_users = refined_dataset_nn['user'].nunique()"
   ]
  },
  {
   "cell_type": "code",
   "execution_count": 112,
   "id": "77b4c81e",
   "metadata": {},
   "outputs": [],
   "source": [
    "item_enc = LabelEncoder()\n",
    "refined_dataset_nn['movie'] = item_enc.fit_transform(refined_dataset_nn['title'].values)\n",
    "n_movies = refined_dataset_nn['movie'].nunique()"
   ]
  },
  {
   "cell_type": "code",
   "execution_count": 113,
   "id": "b7710d26",
   "metadata": {},
   "outputs": [
    {
     "data": {
      "text/plain": [
       "(101074, 2427, 0.5, 5.0)"
      ]
     },
     "execution_count": 113,
     "metadata": {},
     "output_type": "execute_result"
    }
   ],
   "source": [
    "\n",
    "refined_dataset_nn['rating'] = refined_dataset_nn['rating'].values.astype(np.float32)\n",
    "min_rating = min(refined_dataset_nn['rating'])\n",
    "max_rating = max(refined_dataset_nn['rating'])\n",
    "n_users, n_movies, min_rating, max_rating"
   ]
  },
  {
   "cell_type": "code",
   "execution_count": 114,
   "id": "627e3a9b",
   "metadata": {},
   "outputs": [
    {
     "data": {
      "text/html": [
       "<div>\n",
       "<style scoped>\n",
       "    .dataframe tbody tr th:only-of-type {\n",
       "        vertical-align: middle;\n",
       "    }\n",
       "\n",
       "    .dataframe tbody tr th {\n",
       "        vertical-align: top;\n",
       "    }\n",
       "\n",
       "    .dataframe thead th {\n",
       "        text-align: right;\n",
       "    }\n",
       "</style>\n",
       "<table border=\"1\" class=\"dataframe\">\n",
       "  <thead>\n",
       "    <tr style=\"text-align: right;\">\n",
       "      <th></th>\n",
       "      <th>userId</th>\n",
       "      <th>title</th>\n",
       "      <th>rating</th>\n",
       "      <th>user</th>\n",
       "      <th>movie</th>\n",
       "    </tr>\n",
       "  </thead>\n",
       "  <tbody>\n",
       "    <tr>\n",
       "      <th>0</th>\n",
       "      <td>1</td>\n",
       "      <td>Amelie (Fabuleux destin d'Amélie Poulain, Le) ...</td>\n",
       "      <td>4.5</td>\n",
       "      <td>0</td>\n",
       "      <td>106</td>\n",
       "    </tr>\n",
       "    <tr>\n",
       "      <th>1</th>\n",
       "      <td>1</td>\n",
       "      <td>Back to the Future Part II (1989)</td>\n",
       "      <td>2.5</td>\n",
       "      <td>0</td>\n",
       "      <td>192</td>\n",
       "    </tr>\n",
       "    <tr>\n",
       "      <th>2</th>\n",
       "      <td>1</td>\n",
       "      <td>Back to the Future Part III (1990)</td>\n",
       "      <td>2.5</td>\n",
       "      <td>0</td>\n",
       "      <td>193</td>\n",
       "    </tr>\n",
       "    <tr>\n",
       "      <th>3</th>\n",
       "      <td>1</td>\n",
       "      <td>Bridge on the River Kwai, The (1957)</td>\n",
       "      <td>4.0</td>\n",
       "      <td>0</td>\n",
       "      <td>342</td>\n",
       "    </tr>\n",
       "    <tr>\n",
       "      <th>4</th>\n",
       "      <td>1</td>\n",
       "      <td>City of God (Cidade de Deus) (2002)</td>\n",
       "      <td>5.0</td>\n",
       "      <td>0</td>\n",
       "      <td>441</td>\n",
       "    </tr>\n",
       "  </tbody>\n",
       "</table>\n",
       "</div>"
      ],
      "text/plain": [
       "   userId                                              title  rating  user  \\\n",
       "0       1  Amelie (Fabuleux destin d'Amélie Poulain, Le) ...     4.5     0   \n",
       "1       1                  Back to the Future Part II (1989)     2.5     0   \n",
       "2       1                 Back to the Future Part III (1990)     2.5     0   \n",
       "3       1               Bridge on the River Kwai, The (1957)     4.0     0   \n",
       "4       1                City of God (Cidade de Deus) (2002)     5.0     0   \n",
       "\n",
       "   movie  \n",
       "0    106  \n",
       "1    192  \n",
       "2    193  \n",
       "3    342  \n",
       "4    441  "
      ]
     },
     "execution_count": 114,
     "metadata": {},
     "output_type": "execute_result"
    }
   ],
   "source": [
    "\n",
    "refined_dataset_nn.head()"
   ]
  },
  {
   "cell_type": "code",
   "execution_count": 115,
   "id": "a6edca6b",
   "metadata": {},
   "outputs": [
    {
     "data": {
      "text/plain": [
       "((16554466, 2), (1839386, 2), (16554466,), (1839386,))"
      ]
     },
     "execution_count": 115,
     "metadata": {},
     "output_type": "execute_result"
    }
   ],
   "source": [
    "\n",
    "X = refined_dataset_nn[['user', 'movie']].values\n",
    "y = refined_dataset_nn['rating'].values\n",
    "X_train, X_test, y_train, y_test = train_test_split(X, y, test_size=0.1, random_state=50)\n",
    "X_train.shape, X_test.shape, y_train.shape, y_test.shape"
   ]
  },
  {
   "cell_type": "markdown",
   "id": "9535d023",
   "metadata": {},
   "source": [
    "###### Defining number of factors which are to be considered by the Embedding layer"
   ]
  },
  {
   "cell_type": "code",
   "execution_count": 116,
   "id": "911414e4",
   "metadata": {},
   "outputs": [],
   "source": [
    "\n",
    "n_factors = 150"
   ]
  },
  {
   "cell_type": "code",
   "execution_count": 117,
   "id": "88a5b089",
   "metadata": {},
   "outputs": [],
   "source": [
    "\n",
    "X_train_array = [X_train[:, 0], X_train[:, 1]]\n",
    "X_test_array = [X_test[:, 0], X_test[:, 1]]"
   ]
  },
  {
   "cell_type": "code",
   "execution_count": 118,
   "id": "f6a65822",
   "metadata": {},
   "outputs": [
    {
     "data": {
      "text/plain": [
       "(array([[91524,  1424],\n",
       "        [33798,  1240],\n",
       "        [ 7041,  1255],\n",
       "        ...,\n",
       "        [35929,  1858],\n",
       "        [98424,   851],\n",
       "        [56776,   316]]),\n",
       " [array([91524, 33798,  7041, ..., 35929, 98424, 56776]),\n",
       "  array([1424, 1240, 1255, ..., 1858,  851,  316])],\n",
       " (16554466,))"
      ]
     },
     "execution_count": 118,
     "metadata": {},
     "output_type": "execute_result"
    }
   ],
   "source": [
    "\n",
    "X_train, X_train_array, X_train_array[0].shape"
   ]
  },
  {
   "cell_type": "markdown",
   "id": "98911a60",
   "metadata": {},
   "source": [
    "###### Normalizing the labels"
   ]
  },
  {
   "cell_type": "code",
   "execution_count": 119,
   "id": "7cada277",
   "metadata": {},
   "outputs": [],
   "source": [
    "y_train = (y_train - min_rating)/(max_rating - min_rating)\n",
    "y_test = (y_test - min_rating)/(max_rating - min_rating)"
   ]
  },
  {
   "cell_type": "markdown",
   "id": "540adfef",
   "metadata": {},
   "source": [
    "###### Building a Softmax Deep Neural Network"
   ]
  },
  {
   "cell_type": "code",
   "execution_count": 124,
   "id": "d35d867b",
   "metadata": {},
   "outputs": [],
   "source": [
    "## Initializing a input layer for users\n",
    "user = tf.keras.layers.Input(shape = (1,))\n",
    "\n",
    "## Embedding layer for n_factors of users\n",
    "u = keras.layers.Flatten()(keras.layers.Embedding(n_users, n_factors, embeddings_initializer = 'he_normal', embeddings_regularizer = tf.keras.regularizers.l2(1e-6))(user))\n",
    "u = tf.keras.layers.Reshape((n_factors,))(u)\n",
    "\n",
    "## Initializing a input layer for movies\n",
    "movie = tf.keras.layers.Input(shape = (1,))\n",
    "\n",
    "## Embedding layer for n_factors of movies\n",
    "m = keras.layers.Flatten()(keras.layers.Embedding(n_movies, n_factors, embeddings_initializer = 'he_normal', embeddings_regularizer=tf.keras.regularizers.l2(1e-6))(movie))\n",
    "m = tf.keras.layers.Reshape((n_factors,))(m)\n",
    "\n",
    "## stacking up both user and movie embeddings\n",
    "x = tf.keras.layers.Concatenate()([u,m])\n",
    "x = tf.keras.layers.Dropout(0.05)(x)\n",
    "\n",
    "## Adding a Dense layer to the architecture\n",
    "x = tf.keras.layers.Dense(32, kernel_initializer='he_normal')(x)\n",
    "x = tf.keras.layers.Activation(activation='relu')(x)\n",
    "x = tf.keras.layers.Dropout(0.05)(x)\n",
    "\n",
    "x = tf.keras.layers.Dense(16, kernel_initializer='he_normal')(x)\n",
    "x = tf.keras.layers.Activation(activation='relu')(x)\n",
    "x = tf.keras.layers.Dropout(0.05)(x)\n",
    "\n",
    "## Adding an Output layer with Sigmoid activation funtion which gives output between 0 and 1\n",
    "x = tf.keras.layers.Dense(9)(x)\n",
    "x = tf.keras.layers.Activation(activation='softmax')(x)\n",
    "\n",
    "## Adding a Lambda layer to convert the output to rating by scaling it with the help of available rating information\n",
    "# x = tf.keras.layers.Lambda(lambda x: x*(max_rating - min_rating) + min_rating)(x)\n",
    "\n",
    "## Defining the model\n",
    "recmodel = tf.keras.models.Model(inputs=[user,movie], outputs=x)\n",
    "# optimizer = tf.keras.optimizers.Adam(lr=0.001)\n",
    "# optimizer = tf.keras.optimizers.RMSprop(learning_rate=0.005,\n",
    "    # rho=0.9, momentum=0.01, epsilon=1e-07)\n",
    "\n",
    "## Compiling the model\n",
    "# model.compile(loss='binary_crossentropy', optimizer = optimizer)\n",
    "# model.compile(loss='mean_squared_error', optimizer = optimizer,metrics=['accuracy'])\n",
    "recmodel.compile(optimizer='sgd', loss=tf.keras.losses.SparseCategoricalCrossentropy(), metrics=['accuracy'])"
   ]
  },
  {
   "cell_type": "code",
   "execution_count": 125,
   "id": "a38f0600",
   "metadata": {},
   "outputs": [
    {
     "name": "stdout",
     "output_type": "stream",
     "text": [
      "Model: \"model_15\"\n",
      "__________________________________________________________________________________________________\n",
      " Layer (type)                Output Shape                 Param #   Connected to                  \n",
      "==================================================================================================\n",
      " input_39 (InputLayer)       [(None, 1)]                  0         []                            \n",
      "                                                                                                  \n",
      " input_40 (InputLayer)       [(None, 1)]                  0         []                            \n",
      "                                                                                                  \n",
      " embedding_26 (Embedding)    (None, 1, 150)               1516110   ['input_39[0][0]']            \n",
      "                                                          0                                       \n",
      "                                                                                                  \n",
      " embedding_27 (Embedding)    (None, 1, 150)               364050    ['input_40[0][0]']            \n",
      "                                                                                                  \n",
      " flatten_26 (Flatten)        (None, 150)                  0         ['embedding_26[0][0]']        \n",
      "                                                                                                  \n",
      " flatten_27 (Flatten)        (None, 150)                  0         ['embedding_27[0][0]']        \n",
      "                                                                                                  \n",
      " reshape_20 (Reshape)        (None, 150)                  0         ['flatten_26[0][0]']          \n",
      "                                                                                                  \n",
      " reshape_21 (Reshape)        (None, 150)                  0         ['flatten_27[0][0]']          \n",
      "                                                                                                  \n",
      " concatenate_17 (Concatenat  (None, 300)                  0         ['reshape_20[0][0]',          \n",
      " e)                                                                  'reshape_21[0][0]']          \n",
      "                                                                                                  \n",
      " dropout_58 (Dropout)        (None, 300)                  0         ['concatenate_17[0][0]']      \n",
      "                                                                                                  \n",
      " dense_52 (Dense)            (None, 32)                   9632      ['dropout_58[0][0]']          \n",
      "                                                                                                  \n",
      " activation_30 (Activation)  (None, 32)                   0         ['dense_52[0][0]']            \n",
      "                                                                                                  \n",
      " dropout_59 (Dropout)        (None, 32)                   0         ['activation_30[0][0]']       \n",
      "                                                                                                  \n",
      " dense_53 (Dense)            (None, 16)                   528       ['dropout_59[0][0]']          \n",
      "                                                                                                  \n",
      " activation_31 (Activation)  (None, 16)                   0         ['dense_53[0][0]']            \n",
      "                                                                                                  \n",
      " dropout_60 (Dropout)        (None, 16)                   0         ['activation_31[0][0]']       \n",
      "                                                                                                  \n",
      " dense_54 (Dense)            (None, 9)                    153       ['dropout_60[0][0]']          \n",
      "                                                                                                  \n",
      " activation_32 (Activation)  (None, 9)                    0         ['dense_54[0][0]']            \n",
      "                                                                                                  \n",
      "==================================================================================================\n",
      "Total params: 15535463 (59.26 MB)\n",
      "Trainable params: 15535463 (59.26 MB)\n",
      "Non-trainable params: 0 (0.00 Byte)\n",
      "__________________________________________________________________________________________________\n"
     ]
    }
   ],
   "source": [
    "recmodel.summary()"
   ]
  },
  {
   "cell_type": "code",
   "execution_count": 126,
   "id": "e8b7e402",
   "metadata": {},
   "outputs": [
    {
     "name": "stdout",
     "output_type": "stream",
     "text": [
      "Epoch 1/70\n",
      "2070/2070 [==============================] - 244s 117ms/step - loss: 0.5188 - accuracy: 0.0131 - val_loss: 0.4254 - val_accuracy: 0.0129 - lr: 0.0100\n",
      "Epoch 2/70\n",
      "2070/2070 [==============================] - 254s 123ms/step - loss: 0.4286 - accuracy: 0.0130 - val_loss: 0.4233 - val_accuracy: 0.0129 - lr: 0.0100\n",
      "Epoch 3/70\n",
      "2070/2070 [==============================] - 245s 118ms/step - loss: 0.4260 - accuracy: 0.0130 - val_loss: 0.4224 - val_accuracy: 0.0129 - lr: 0.0100\n",
      "Epoch 4/70\n",
      "2070/2070 [==============================] - 244s 118ms/step - loss: 0.4246 - accuracy: 0.0130 - val_loss: 0.4217 - val_accuracy: 0.0129 - lr: 0.0100\n",
      "Epoch 5/70\n",
      "2070/2070 [==============================] - 246s 119ms/step - loss: 0.4235 - accuracy: 0.0130 - val_loss: 0.4209 - val_accuracy: 0.0129 - lr: 0.0100\n",
      "Epoch 6/70\n",
      "2070/2070 [==============================] - 248s 120ms/step - loss: 0.4225 - accuracy: 0.0130 - val_loss: 0.4199 - val_accuracy: 0.0129 - lr: 0.0100\n",
      "Epoch 7/70\n",
      "2070/2070 [==============================] - 247s 119ms/step - loss: 0.4212 - accuracy: 0.0130 - val_loss: 0.4186 - val_accuracy: 0.0129 - lr: 0.0100\n",
      "Epoch 8/70\n",
      "2070/2070 [==============================] - 246s 119ms/step - loss: 0.4197 - accuracy: 0.0130 - val_loss: 0.4167 - val_accuracy: 0.0129 - lr: 0.0100\n",
      "Epoch 9/70\n",
      "2070/2070 [==============================] - 246s 119ms/step - loss: 0.4177 - accuracy: 0.0130 - val_loss: 0.4143 - val_accuracy: 0.0129 - lr: 0.0100\n",
      "Epoch 10/70\n",
      "2070/2070 [==============================] - 247s 119ms/step - loss: 0.4152 - accuracy: 0.0130 - val_loss: 0.4114 - val_accuracy: 0.0129 - lr: 0.0100\n",
      "Epoch 11/70\n",
      "2070/2070 [==============================] - 248s 120ms/step - loss: 0.4126 - accuracy: 0.0130 - val_loss: 0.4085 - val_accuracy: 0.0129 - lr: 0.0100\n",
      "Epoch 12/70\n",
      "2070/2070 [==============================] - 246s 119ms/step - loss: 0.4102 - accuracy: 0.0135 - val_loss: 0.4060 - val_accuracy: 0.0129 - lr: 0.0100\n",
      "Epoch 13/70\n",
      "2070/2070 [==============================] - 246s 119ms/step - loss: 0.4082 - accuracy: 0.0142 - val_loss: 0.4041 - val_accuracy: 0.0129 - lr: 0.0100\n",
      "Epoch 14/70\n",
      "2070/2070 [==============================] - 245s 118ms/step - loss: 0.4065 - accuracy: 0.0146 - val_loss: 0.4024 - val_accuracy: 0.0133 - lr: 0.0100\n",
      "Epoch 15/70\n",
      "2070/2070 [==============================] - 248s 120ms/step - loss: 0.4051 - accuracy: 0.0147 - val_loss: 0.4009 - val_accuracy: 0.0131 - lr: 0.0100\n",
      "Epoch 16/70\n",
      "2070/2070 [==============================] - 246s 119ms/step - loss: 0.4037 - accuracy: 0.0147 - val_loss: 0.3996 - val_accuracy: 0.0129 - lr: 0.0100\n",
      "Epoch 17/70\n",
      "2070/2070 [==============================] - 246s 119ms/step - loss: 0.4026 - accuracy: 0.0147 - val_loss: 0.3985 - val_accuracy: 0.0129 - lr: 0.0100\n",
      "Epoch 18/70\n",
      "2070/2070 [==============================] - 245s 118ms/step - loss: 0.4015 - accuracy: 0.0146 - val_loss: 0.3974 - val_accuracy: 0.0129 - lr: 0.0100\n",
      "Epoch 19/70\n",
      "2070/2070 [==============================] - 244s 118ms/step - loss: 0.4004 - accuracy: 0.0145 - val_loss: 0.3964 - val_accuracy: 0.0129 - lr: 0.0100\n",
      "Epoch 20/70\n",
      "2070/2070 [==============================] - 244s 118ms/step - loss: 0.3995 - accuracy: 0.0145 - val_loss: 0.3956 - val_accuracy: 0.0129 - lr: 0.0100\n",
      "Epoch 21/70\n",
      "2070/2070 [==============================] - 244s 118ms/step - loss: 0.3987 - accuracy: 0.0144 - val_loss: 0.3947 - val_accuracy: 0.0129 - lr: 0.0100\n",
      "Epoch 22/70\n",
      "2070/2070 [==============================] - 243s 117ms/step - loss: 0.3979 - accuracy: 0.0143 - val_loss: 0.3939 - val_accuracy: 0.0129 - lr: 0.0100\n",
      "Epoch 23/70\n",
      "2070/2070 [==============================] - 244s 118ms/step - loss: 0.3972 - accuracy: 0.0143 - val_loss: 0.3932 - val_accuracy: 0.0129 - lr: 0.0100\n",
      "Epoch 24/70\n",
      "2070/2070 [==============================] - 243s 118ms/step - loss: 0.3964 - accuracy: 0.0142 - val_loss: 0.3925 - val_accuracy: 0.0129 - lr: 0.0100\n",
      "Epoch 25/70\n",
      "2070/2070 [==============================] - 245s 118ms/step - loss: 0.3957 - accuracy: 0.0142 - val_loss: 0.3918 - val_accuracy: 0.0129 - lr: 0.0100\n",
      "Epoch 26/70\n",
      "2070/2070 [==============================] - 245s 118ms/step - loss: 0.3951 - accuracy: 0.0142 - val_loss: 0.3911 - val_accuracy: 0.0129 - lr: 0.0100\n",
      "Epoch 27/70\n",
      "2070/2070 [==============================] - 244s 118ms/step - loss: 0.3945 - accuracy: 0.0142 - val_loss: 0.3904 - val_accuracy: 0.0129 - lr: 0.0100\n",
      "Epoch 28/70\n",
      "2070/2070 [==============================] - 244s 118ms/step - loss: 0.3938 - accuracy: 0.0142 - val_loss: 0.3898 - val_accuracy: 0.0129 - lr: 0.0100\n",
      "Epoch 29/70\n",
      "2070/2070 [==============================] - 245s 118ms/step - loss: 0.3932 - accuracy: 0.0142 - val_loss: 0.3891 - val_accuracy: 0.0129 - lr: 0.0100\n",
      "Epoch 30/70\n",
      "2070/2070 [==============================] - 246s 119ms/step - loss: 0.3925 - accuracy: 0.0142 - val_loss: 0.3883 - val_accuracy: 0.0129 - lr: 0.0100\n",
      "Epoch 31/70\n",
      "2070/2070 [==============================] - 245s 119ms/step - loss: 0.3918 - accuracy: 0.0142 - val_loss: 0.3875 - val_accuracy: 0.0129 - lr: 0.0100\n",
      "Epoch 32/70\n",
      "2070/2070 [==============================] - 248s 120ms/step - loss: 0.3911 - accuracy: 0.0142 - val_loss: 0.3867 - val_accuracy: 0.0129 - lr: 0.0100\n",
      "Epoch 33/70\n",
      "2070/2070 [==============================] - 246s 119ms/step - loss: 0.3902 - accuracy: 0.0142 - val_loss: 0.3858 - val_accuracy: 0.0130 - lr: 0.0100\n",
      "Epoch 34/70\n",
      "2070/2070 [==============================] - 245s 118ms/step - loss: 0.3893 - accuracy: 0.0143 - val_loss: 0.3848 - val_accuracy: 0.0130 - lr: 0.0100\n",
      "Epoch 35/70\n",
      "2070/2070 [==============================] - 245s 118ms/step - loss: 0.3882 - accuracy: 0.0143 - val_loss: 0.3836 - val_accuracy: 0.0130 - lr: 0.0100\n",
      "Epoch 36/70\n",
      "2070/2070 [==============================] - 244s 118ms/step - loss: 0.3871 - accuracy: 0.0144 - val_loss: 0.3822 - val_accuracy: 0.0130 - lr: 0.0100\n",
      "Epoch 37/70\n",
      "2070/2070 [==============================] - 244s 118ms/step - loss: 0.3857 - accuracy: 0.0145 - val_loss: 0.3806 - val_accuracy: 0.0131 - lr: 0.0100\n",
      "Epoch 38/70\n",
      "2070/2070 [==============================] - 243s 117ms/step - loss: 0.3841 - accuracy: 0.0146 - val_loss: 0.3787 - val_accuracy: 0.0132 - lr: 0.0100\n",
      "Epoch 39/70\n",
      "2070/2070 [==============================] - 242s 117ms/step - loss: 0.3821 - accuracy: 0.0148 - val_loss: 0.3764 - val_accuracy: 0.0133 - lr: 0.0100\n",
      "Epoch 40/70\n",
      "2070/2070 [==============================] - 244s 118ms/step - loss: 0.3798 - accuracy: 0.0152 - val_loss: 0.3738 - val_accuracy: 0.0136 - lr: 0.0100\n",
      "Epoch 41/70\n",
      "2070/2070 [==============================] - 244s 118ms/step - loss: 0.3770 - accuracy: 0.0158 - val_loss: 0.3706 - val_accuracy: 0.0141 - lr: 0.0100\n",
      "Epoch 42/70\n",
      "2070/2070 [==============================] - 248s 120ms/step - loss: 0.3739 - accuracy: 0.0166 - val_loss: 0.3669 - val_accuracy: 0.0150 - lr: 0.0100\n",
      "Epoch 43/70\n",
      "2070/2070 [==============================] - 244s 118ms/step - loss: 0.3703 - accuracy: 0.0179 - val_loss: 0.3629 - val_accuracy: 0.0161 - lr: 0.0100\n",
      "Epoch 44/70\n",
      "2070/2070 [==============================] - 244s 118ms/step - loss: 0.3663 - accuracy: 0.0196 - val_loss: 0.3587 - val_accuracy: 0.0176 - lr: 0.0100\n",
      "Epoch 45/70\n",
      "2070/2070 [==============================] - 245s 118ms/step - loss: 0.3621 - accuracy: 0.0217 - val_loss: 0.3542 - val_accuracy: 0.0198 - lr: 0.0100\n",
      "Epoch 46/70\n",
      "2070/2070 [==============================] - 244s 118ms/step - loss: 0.3579 - accuracy: 0.0243 - val_loss: 0.3501 - val_accuracy: 0.0219 - lr: 0.0100\n",
      "Epoch 47/70\n",
      "2070/2070 [==============================] - 244s 118ms/step - loss: 0.3538 - accuracy: 0.0269 - val_loss: 0.3461 - val_accuracy: 0.0246 - lr: 0.0100\n",
      "Epoch 48/70\n",
      "2070/2070 [==============================] - 242s 117ms/step - loss: 0.3501 - accuracy: 0.0296 - val_loss: 0.3426 - val_accuracy: 0.0271 - lr: 0.0100\n",
      "Epoch 49/70\n",
      "2070/2070 [==============================] - 243s 118ms/step - loss: 0.3468 - accuracy: 0.0322 - val_loss: 0.3395 - val_accuracy: 0.0297 - lr: 0.0100\n",
      "Epoch 50/70\n",
      "2070/2070 [==============================] - 243s 117ms/step - loss: 0.3439 - accuracy: 0.0345 - val_loss: 0.3368 - val_accuracy: 0.0323 - lr: 0.0100\n",
      "Epoch 51/70\n",
      "2070/2070 [==============================] - 244s 118ms/step - loss: 0.3413 - accuracy: 0.0365 - val_loss: 0.3345 - val_accuracy: 0.0345 - lr: 0.0100\n"
     ]
    },
    {
     "name": "stdout",
     "output_type": "stream",
     "text": [
      "Epoch 52/70\n",
      "2070/2070 [==============================] - 246s 119ms/step - loss: 0.3391 - accuracy: 0.0383 - val_loss: 0.3326 - val_accuracy: 0.0362 - lr: 0.0100\n",
      "Epoch 53/70\n",
      "2070/2070 [==============================] - 245s 118ms/step - loss: 0.3372 - accuracy: 0.0398 - val_loss: 0.3313 - val_accuracy: 0.0360 - lr: 0.0100\n",
      "Epoch 54/70\n",
      "2070/2070 [==============================] - 246s 119ms/step - loss: 0.3356 - accuracy: 0.0410 - val_loss: 0.3297 - val_accuracy: 0.0380 - lr: 0.0100\n",
      "Epoch 55/70\n",
      "2070/2070 [==============================] - 245s 119ms/step - loss: 0.3342 - accuracy: 0.0420 - val_loss: 0.3285 - val_accuracy: 0.0404 - lr: 0.0100\n",
      "Epoch 56/70\n",
      "2070/2070 [==============================] - 248s 120ms/step - loss: 0.3329 - accuracy: 0.0429 - val_loss: 0.3275 - val_accuracy: 0.0404 - lr: 0.0100\n",
      "Epoch 57/70\n",
      "2070/2070 [==============================] - 247s 119ms/step - loss: 0.3317 - accuracy: 0.0436 - val_loss: 0.3266 - val_accuracy: 0.0419 - lr: 0.0100\n",
      "Epoch 58/70\n",
      "2070/2070 [==============================] - 244s 118ms/step - loss: 0.3308 - accuracy: 0.0442 - val_loss: 0.3259 - val_accuracy: 0.0418 - lr: 0.0100\n",
      "Epoch 59/70\n",
      "2070/2070 [==============================] - 245s 118ms/step - loss: 0.3300 - accuracy: 0.0447 - val_loss: 0.3252 - val_accuracy: 0.0433 - lr: 0.0100\n",
      "Epoch 60/70\n",
      "2070/2070 [==============================] - 245s 118ms/step - loss: 0.3292 - accuracy: 0.0450 - val_loss: 0.3249 - val_accuracy: 0.0408 - lr: 0.0100\n",
      "Epoch 61/70\n",
      "2070/2070 [==============================] - 244s 118ms/step - loss: 0.3286 - accuracy: 0.0453 - val_loss: 0.3242 - val_accuracy: 0.0419 - lr: 0.0100\n",
      "Epoch 62/70\n",
      "2070/2070 [==============================] - 245s 118ms/step - loss: 0.3280 - accuracy: 0.0456 - val_loss: 0.3237 - val_accuracy: 0.0442 - lr: 0.0100\n",
      "Epoch 63/70\n",
      "2070/2070 [==============================] - 245s 119ms/step - loss: 0.3275 - accuracy: 0.0458 - val_loss: 0.3234 - val_accuracy: 0.0423 - lr: 0.0100\n",
      "Epoch 64/70\n",
      "2070/2070 [==============================] - 246s 119ms/step - loss: 0.3269 - accuracy: 0.0459 - val_loss: 0.3232 - val_accuracy: 0.0416 - lr: 0.0100\n",
      "Epoch 65/70\n",
      "2070/2070 [==============================] - 246s 119ms/step - loss: 0.3265 - accuracy: 0.0460 - val_loss: 0.3227 - val_accuracy: 0.0456 - lr: 0.0100\n",
      "Epoch 66/70\n",
      "2070/2070 [==============================] - 245s 118ms/step - loss: 0.3261 - accuracy: 0.0461 - val_loss: 0.3224 - val_accuracy: 0.0444 - lr: 0.0100\n",
      "Epoch 67/70\n",
      "2070/2070 [==============================] - 245s 118ms/step - loss: 0.3257 - accuracy: 0.0462 - val_loss: 0.3221 - val_accuracy: 0.0442 - lr: 0.0100\n",
      "Epoch 68/70\n",
      "2070/2070 [==============================] - 244s 118ms/step - loss: 0.3254 - accuracy: 0.0462 - val_loss: 0.3220 - val_accuracy: 0.0430 - lr: 0.0100\n",
      "Epoch 69/70\n",
      "2070/2070 [==============================] - 244s 118ms/step - loss: 0.3250 - accuracy: 0.0463 - val_loss: 0.3218 - val_accuracy: 0.0428 - lr: 0.0100\n",
      "Epoch 70/70\n",
      "2070/2070 [==============================] - 243s 117ms/step - loss: 0.3248 - accuracy: 0.0463 - val_loss: 0.3215 - val_accuracy: 0.0437 - lr: 0.0100\n"
     ]
    }
   ],
   "source": [
    "reduce_lr = tf.keras.callbacks.ReduceLROnPlateau(monitor='val_loss', factor=0.75, patience=3, min_lr=0.000001, verbose=1)\n",
    "\n",
    "history = recmodel.fit(x = X_train_array, y = y_train, batch_size=8000, epochs=70, verbose=1, validation_data=(X_test_array, y_test)\n",
    ",shuffle=True,callbacks=[reduce_lr])"
   ]
  },
  {
   "cell_type": "code",
   "execution_count": 127,
   "id": "85ef2fd2",
   "metadata": {},
   "outputs": [],
   "source": [
    "recmodel.save('./RecomendationModel.keras')"
   ]
  },
  {
   "cell_type": "code",
   "execution_count": 128,
   "id": "7b9195e7",
   "metadata": {},
   "outputs": [
    {
     "data": {
      "image/png": "[encoded data removed]",
      "text/plain": [
       "<Figure size 640x480 with 1 Axes>"
      ]
     },
     "metadata": {},
     "output_type": "display_data"
    }
   ],
   "source": [
    "plt.plot(history.history[\"loss\"][5:])\n",
    "plt.plot(history.history[\"val_loss\"][5:])\n",
    "plt.title(\"model loss\")\n",
    "plt.ylabel(\"loss\")\n",
    "plt.xlabel(\"epoch\")\n",
    "plt.legend([\"train\", \"test\"], loc=\"upper left\")\n",
    "plt.show()"
   ]
  },
  {
   "cell_type": "code",
   "execution_count": 131,
   "id": "55bc7d75",
   "metadata": {},
   "outputs": [
    {
     "data": {
      "image/png": "[encoded data removed]",
      "text/plain": [
       "<Figure size 640x480 with 1 Axes>"
      ]
     },
     "metadata": {},
     "output_type": "display_data"
    }
   ],
   "source": [
    "plt.plot(history.history['accuracy'])\n",
    "plt.plot(history.history['val_accuracy'])\n",
    "plt.title('model accuracy')\n",
    "plt.ylabel('accuracy')\n",
    "plt.xlabel('epoch')\n",
    "plt.legend(['train', 'test'], loc='upper left')\n",
    "plt.show()"
   ]
  },
  {
   "cell_type": "code",
   "execution_count": 132,
   "id": "82009f32",
   "metadata": {},
   "outputs": [],
   "source": [
    "import pickle"
   ]
  },
  {
   "cell_type": "code",
   "execution_count": 145,
   "id": "f2834ab8",
   "metadata": {},
   "outputs": [],
   "source": [
    "with open('./trainHistoryRec', 'wb') as file_pi:\n",
    "    pickle.dump(history.history, file_pi)"
   ]
  },
  {
   "cell_type": "code",
   "execution_count": 146,
   "id": "d3f91749",
   "metadata": {},
   "outputs": [],
   "source": [
    "with open('./trainHistoryRec', \"rb\") as file_pi:\n",
    "    historyrec = pickle.load(file_pi)"
   ]
  },
  {
   "cell_type": "code",
   "execution_count": 148,
   "id": "c4658575",
   "metadata": {},
   "outputs": [
    {
     "data": {
      "image/png": "[encoded data removed]",
      "text/plain": [
       "<Figure size 640x480 with 1 Axes>"
      ]
     },
     "metadata": {},
     "output_type": "display_data"
    }
   ],
   "source": [
    "plt.plot(historyrec['accuracy'])\n",
    "plt.plot(historyrec['val_accuracy'])\n",
    "plt.title('model accuracy')\n",
    "plt.ylabel('accuracy')\n",
    "plt.xlabel('epoch')\n",
    "plt.legend(['train', 'test'], loc='upper left')\n",
    "plt.show()"
   ]
  },
  {
   "cell_type": "code",
   "execution_count": 149,
   "id": "62e8029d",
   "metadata": {},
   "outputs": [
    {
     "data": {
      "image/png": "[encoded data removed]",
      "text/plain": [
       "<Figure size 640x480 with 1 Axes>"
      ]
     },
     "metadata": {},
     "output_type": "display_data"
    }
   ],
   "source": [
    "plt.plot(historyrec['loss'])\n",
    "plt.plot(historyrec['val_loss'])\n",
    "plt.title('model loss')\n",
    "plt.ylabel('loss')\n",
    "plt.xlabel('epoch')\n",
    "plt.legend(['train', 'test'], loc='upper left')\n",
    "plt.show()"
   ]
  },
  {
   "cell_type": "code",
   "execution_count": 170,
   "id": "4b1bc7ca",
   "metadata": {},
   "outputs": [
    {
     "name": "stdout",
     "output_type": "stream",
     "text": [
      "Requirement already satisfied: pyyaml in /Users/ahmad.zeidan/anaconda3/lib/python3.11/site-packages (6.0)\n",
      "Requirement already satisfied: h5py in /Users/ahmad.zeidan/anaconda3/lib/python3.11/site-packages (3.7.0)\n",
      "Requirement already satisfied: numpy>=1.14.5 in /Users/ahmad.zeidan/anaconda3/lib/python3.11/site-packages (from h5py) (1.23.5)\n",
      "Note: you may need to restart the kernel to use updated packages.\n"
     ]
    }
   ],
   "source": [
    "#pip install pyyaml h5py  # Required to save models in HDF5 format"
   ]
  },
  {
   "cell_type": "code",
   "execution_count": 129,
   "id": "d5e65145",
   "metadata": {},
   "outputs": [],
   "source": [
    "def recommender_system(user_id, model, n_movies):\n",
    "    rec_model=keras.models.load_model('./RecomendationModel.keras')\n",
    "    print(\"\")\n",
    "    print(\"Movie seen by the User:\")\n",
    "    pprint(list(refined_dataset_nn[refined_dataset_nn['userId'] == user_id]['title']))\n",
    "    print(\"\")\n",
    "    encoded_user_id = user_enc.transform([user_id])\n",
    "    seen_movies = list(refined_dataset_nn[refined_dataset_nn['userId'] == user_id]['movie'])\n",
    "    unseen_movies = [i for i in range(min(refined_dataset_nn['movie']), max(refined_dataset_nn['movie'])+1) if i not in seen_movies]\n",
    "    model_input = [np.asarray(list(encoded_user_id)*len(unseen_movies)), np.asarray(unseen_movies)]\n",
    "    predicted_ratings = rec_model.predict(model_input)\n",
    "    predicted_ratings = np.max(predicted_ratings, axis=1)\n",
    "    sorted_index = np.argsort(predicted_ratings)[::-1]\n",
    "    recommended_movies = item_enc.inverse_transform(sorted_index)\n",
    "    print(\"---------------------------------------------------------------------------------\")\n",
    "    print(\"Top \"+str(n_movies)+\" Movie recommendations for the User \"+str(user_id)+ \" are:\")\n",
    "    pprint(list(recommended_movies[:n_movies]))"
   ]
  },
  {
   "cell_type": "code",
   "execution_count": 130,
   "id": "66cdd310",
   "metadata": {},
   "outputs": [
    {
     "name": "stdout",
     "output_type": "stream",
     "text": [
      "Enter user id\n",
      "169\n",
      "Enter number of movies to be recommended:\n",
      "10\n",
      "\n",
      "Movie seen by the User:\n",
      "['10 Things I Hate About You (1999)',\n",
      " '17 Again (2009)',\n",
      " '21 (2008)',\n",
      " '27 Dresses (2008)',\n",
      " '40-Year-Old Virgin, The (2005)',\n",
      " '50 First Dates (2004)',\n",
      " '8 Mile (2002)',\n",
      " 'About a Boy (2002)',\n",
      " 'Across the Universe (2007)',\n",
      " 'Adventures in Babysitting (1987)',\n",
      " 'Aladdin (1992)',\n",
      " 'Almost Famous (2000)',\n",
      " 'Amadeus (1984)',\n",
      " \"Amelie (Fabuleux destin d'Amélie Poulain, Le) (2001)\",\n",
      " \"America's Sweethearts (2001)\",\n",
      " 'American Beauty (1999)',\n",
      " 'American Gangster (2007)',\n",
      " 'American History X (1998)',\n",
      " 'American Pie (1999)',\n",
      " 'And Your Mother Too (Y tu mamá también) (2001)',\n",
      " 'Anger Management (2003)',\n",
      " 'As Good as It Gets (1997)',\n",
      " 'Babe (1995)',\n",
      " 'Babel (2006)',\n",
      " 'Batman Begins (2005)',\n",
      " 'Beautiful Girls (1996)',\n",
      " 'Best in Show (2000)',\n",
      " 'Birdcage, The (1996)',\n",
      " 'Blade Runner (1982)',\n",
      " 'Blades of Glory (2007)',\n",
      " 'Blow (2001)',\n",
      " 'Bodyguard, The (1992)',\n",
      " 'Bourne Identity, The (2002)',\n",
      " 'Bourne Ultimatum, The (2007)',\n",
      " 'Breakfast Club, The (1985)',\n",
      " \"Breakfast at Tiffany's (1961)\",\n",
      " 'Breaking Away (1979)',\n",
      " 'Bridget Jones: The Edge of Reason (2004)',\n",
      " 'Brokeback Mountain (2005)',\n",
      " \"Bug's Life, A (1998)\",\n",
      " 'Burn After Reading (2008)',\n",
      " 'Cast Away (2000)',\n",
      " 'Catch Me If You Can (2002)',\n",
      " 'Chasing Amy (1997)',\n",
      " 'City of God (Cidade de Deus) (2002)',\n",
      " 'City of Lost Children, The (Cité des enfants perdus, La) (1995)',\n",
      " 'Clueless (1995)',\n",
      " 'Crash (2004)',\n",
      " 'Curious Case of Benjamin Button, The (2008)',\n",
      " 'Da Vinci Code, The (2006)',\n",
      " 'Dances with Wolves (1990)',\n",
      " 'Dark Knight, The (2008)',\n",
      " 'Dazed and Confused (1993)',\n",
      " 'Departed, The (2006)',\n",
      " 'Dirty Dancing (1987)',\n",
      " 'Disturbia (2007)',\n",
      " 'Donnie Darko (2001)',\n",
      " 'Drop Dead Gorgeous (1999)',\n",
      " 'Elf (2003)',\n",
      " 'Enchanted (2007)',\n",
      " 'Erin Brockovich (2000)',\n",
      " 'Eternal Sunshine of the Spotless Mind (2004)',\n",
      " 'Ever After: A Cinderella Story (1998)',\n",
      " 'Face/Off (1997)',\n",
      " 'Fantasia (1940)',\n",
      " 'Father of the Bride Part II (1995)',\n",
      " \"Ferris Bueller's Day Off (1986)\",\n",
      " 'Forgetting Sarah Marshall (2008)',\n",
      " 'Forrest Gump (1994)',\n",
      " 'Frida (2002)',\n",
      " 'Ghost (1990)',\n",
      " 'Glory (1989)',\n",
      " 'Graduate, The (1967)',\n",
      " 'Grease (1978)',\n",
      " 'Green Mile, The (1999)',\n",
      " 'Hackers (1995)',\n",
      " 'Hairspray (2007)',\n",
      " 'Happening, The (2008)',\n",
      " \"He's Just Not That Into You (2009)\",\n",
      " 'Heathers (1989)',\n",
      " 'Hitch (2005)',\n",
      " 'Home Alone (1990)',\n",
      " 'How to Lose a Guy in 10 Days (2003)',\n",
      " 'I Love You, Man (2009)',\n",
      " 'Ice Storm, The (1997)',\n",
      " 'Illusionist, The (2006)',\n",
      " 'In America (2002)',\n",
      " 'Inglourious Basterds (2009)',\n",
      " 'Inspector Gadget (1999)',\n",
      " 'Into the Wild (2007)',\n",
      " 'Iron Man (2008)',\n",
      " 'Jerry Maguire (1996)',\n",
      " 'Juno (2007)',\n",
      " 'Jurassic Park (1993)',\n",
      " \"Knight's Tale, A (2001)\",\n",
      " 'Knocked Up (2007)',\n",
      " 'Last of the Mohicans, The (1992)',\n",
      " 'Life of David Gale, The (2003)',\n",
      " 'Little Mermaid, The (1989)',\n",
      " 'Little Miss Sunshine (2006)',\n",
      " 'Love Actually (2003)',\n",
      " 'Lucky Number Slevin (2006)',\n",
      " 'Man on Fire (2004)',\n",
      " 'Manhattan (1979)',\n",
      " 'Maria Full of Grace (Maria, Llena eres de gracia) (2004)',\n",
      " 'Mary Poppins (1964)',\n",
      " 'Meet the Parents (2000)',\n",
      " 'Mexican, The (2001)',\n",
      " 'Mighty Wind, A (2003)',\n",
      " 'Miracle (2004)',\n",
      " 'Misérables, Les (1998)',\n",
      " 'Mona Lisa Smile (2003)',\n",
      " 'Motorcycle Diaries, The (Diarios de motocicleta) (2004)',\n",
      " 'Mr. & Mrs. Smith (2005)',\n",
      " \"Mr. Holland's Opus (1995)\",\n",
      " 'Mr. Mom (1983)',\n",
      " 'Mr. Smith Goes to Washington (1939)',\n",
      " 'Mummy, The (1999)',\n",
      " \"Muriel's Wedding (1994)\",\n",
      " 'Music and Lyrics (2007)',\n",
      " \"My Best Friend's Wedding (1997)\",\n",
      " 'My Left Foot (1989)',\n",
      " 'Napoleon Dynamite (2004)',\n",
      " 'National Treasure (2004)',\n",
      " 'National Treasure: Book of Secrets (2007)',\n",
      " 'Night at the Museum (2006)',\n",
      " 'No Country for Old Men (2007)',\n",
      " 'Notebook, The (2004)',\n",
      " 'Notting Hill (1999)',\n",
      " 'O Brother, Where Art Thou? (2000)',\n",
      " 'Old School (2003)',\n",
      " 'Once (2006)',\n",
      " 'Outsiders, The (1983)',\n",
      " 'P.S. I Love You (2007)',\n",
      " 'Parent Trap, The (1998)',\n",
      " 'Patriot, The (2000)',\n",
      " 'Pay It Forward (2000)',\n",
      " 'Pleasantville (1998)',\n",
      " 'Prestige, The (2006)',\n",
      " 'Pretty Woman (1990)',\n",
      " 'Primal Fear (1996)',\n",
      " 'Pursuit of Happyness, The (2006)',\n",
      " 'Quiz Show (1994)',\n",
      " 'Rabbit-Proof Fence (2002)',\n",
      " 'Ray (2004)',\n",
      " 'Rebel Without a Cause (1955)',\n",
      " 'Red Violin, The (Violon rouge, Le) (1998)',\n",
      " 'Remember the Titans (2000)',\n",
      " 'Requiem for a Dream (2000)',\n",
      " 'Role Models (2008)',\n",
      " 'Roman Holiday (1953)',\n",
      " 'Runaway Bride (1999)',\n",
      " 'Sabrina (1954)',\n",
      " 'Sabrina (1995)',\n",
      " 'Say Anything... (1989)',\n",
      " 'School of Rock (2003)',\n",
      " 'Seven (a.k.a. Se7en) (1995)',\n",
      " 'Shawshank Redemption, The (1994)',\n",
      " 'Shining, The (1980)',\n",
      " 'Shrek (2001)',\n",
      " 'Sixteen Candles (1984)',\n",
      " 'Sixth Sense, The (1999)',\n",
      " 'Sleepless in Seattle (1993)',\n",
      " 'Slumdog Millionaire (2008)',\n",
      " 'Sound of Music, The (1965)',\n",
      " 'Spanglish (2004)',\n",
      " 'Speed (1994)',\n",
      " 'Stand by Me (1986)',\n",
      " 'Station Agent, The (2003)',\n",
      " 'Steel Magnolias (1989)',\n",
      " 'Stepmom (1998)',\n",
      " 'Stranger than Fiction (2006)',\n",
      " 'Strictly Ballroom (1992)',\n",
      " 'Superbad (2007)',\n",
      " 'Sweet Home Alabama (2002)',\n",
      " 'Talented Mr. Ripley, The (1999)',\n",
      " 'Titanic (1997)',\n",
      " 'Top Gun (1986)',\n",
      " 'Traffic (2000)',\n",
      " 'Trainspotting (1996)',\n",
      " 'Transformers (2007)',\n",
      " 'Volver (2006)',\n",
      " 'Walk in the Clouds, A (1995)',\n",
      " 'Walk the Line (2005)',\n",
      " 'Walk to Remember, A (2002)',\n",
      " 'Watchmen (2009)',\n",
      " 'Wedding Singer, The (1998)',\n",
      " 'Welcome to the Dollhouse (1995)',\n",
      " 'West Side Story (1961)',\n",
      " 'Whale Rider (2002)',\n",
      " \"What's Eating Gilbert Grape (1993)\",\n",
      " 'While You Were Sleeping (1995)',\n",
      " 'Wizard of Oz, The (1939)',\n",
      " 'Wrestler, The (2008)']\n",
      "\n",
      "70/70 [==============================] - 0s 1ms/step\n",
      "---------------------------------------------------------------------------------\n",
      "Top 10 Movie recommendations for the User 169 are:\n",
      "['Guardians of the Galaxy 2 (2017)',\n",
      " 'Congo (1995)',\n",
      " 'Planet Terror (2007)',\n",
      " 'Chronicles of Narnia: The Lion, the Witch and the Wardrobe, The (2005)',\n",
      " 'Delicatessen (1991)',\n",
      " 'Doors, The (1991)',\n",
      " 'In Bruges (2008)',\n",
      " 'Ice Age (2002)',\n",
      " 'Grosse Pointe Blank (1997)',\n",
      " 'In Time (2011)']\n"
     ]
    }
   ],
   "source": [
    "print(\"Enter user id\")\n",
    "user_id= int(input())\n",
    "\n",
    "print(\"Enter number of movies to be recommended:\")\n",
    "n_movies = int(input())\n",
    "recommender_system(user_id,model,n_movies)\n"
   ]
  },
  {
   "cell_type": "markdown",
   "id": "e931d4d1",
   "metadata": {},
   "source": [
    "##### Build a Function to Retrive Top Rated Movies "
   ]
  },
  {
   "cell_type": "code",
   "execution_count": 106,
   "id": "257bc509",
   "metadata": {},
   "outputs": [],
   "source": [
    "def get_top_10_rated_movies():\n",
    "    # Load the MovieLens 25K dataset (or your dataset)\n",
    "    data = pd.read_csv('./ml-25m/ratings.csv')\n",
    "\n",
    "    # Group the data by movie ID and calculate the mean rating for each movie\n",
    "    movie_ratings = data.groupby('movieId')['rating'].mean().reset_index()\n",
    "\n",
    "    # Sort the movies by mean rating in descending order\n",
    "    top_rated_movies = movie_ratings.sort_values(by='rating', ascending=False)\n",
    "\n",
    "    # Get the top 10 rated movies\n",
    "    top_10_movies = top_rated_movies.head(10)\n",
    "\n",
    "    # Merge with movie titles to get movie names\n",
    "    movies = pd.read_csv('./ml-25m/movies.csv')\n",
    "    top_10_movies_with_titles = top_10_movies.merge(movies, on='movieId', how='left')\n",
    "\n",
    "    # Return the top 10 rated movies as a DataFrame\n",
    "    return top_10_movies_with_titles[['movieId', 'title', 'rating']]"
   ]
  },
  {
   "cell_type": "code",
   "execution_count": 107,
   "id": "99da74ca",
   "metadata": {},
   "outputs": [
    {
     "name": "stdout",
     "output_type": "stream",
     "text": [
      "   movieId                          title  rating\n",
      "0   136782  The Girl is in Trouble (2015)     5.0\n",
      "1   186119            A Gift Horse (2015)     5.0\n",
      "2   137032    The Perfect Neighbor (2005)     5.0\n",
      "3   184643              Relentless (2018)     5.0\n",
      "4   137038        The Perfect Wife (2001)     5.0\n",
      "5   197231              The Harrow (2016)     5.0\n",
      "6   184669         Devil's Whisper (2017)     5.0\n",
      "7   137048           Perfect Child (2007)     5.0\n",
      "8   137050               The Rival (2006)     5.0\n",
      "9   137052       A Job to Kill For (2006)     5.0\n"
     ]
    }
   ],
   "source": [
    "top_10_movies = get_top_10_rated_movies()\n",
    "print(top_10_movies)"
   ]
  },
  {
   "cell_type": "markdown",
   "id": "5035c053",
   "metadata": {},
   "source": [
    "###### Build a Function to Retrive New Movies"
   ]
  },
  {
   "cell_type": "code",
   "execution_count": 108,
   "id": "a8077efc",
   "metadata": {},
   "outputs": [],
   "source": [
    "def CleaningMovieProductionDate(x):\n",
    "    '''\n",
    "    Function to clean up extra parenthesis at the beginning and end of the string.\n",
    "    '''\n",
    "    return (x.str.strip('()'))"
   ]
  },
  {
   "cell_type": "code",
   "execution_count": 109,
   "id": "5a2c565c",
   "metadata": {},
   "outputs": [],
   "source": [
    "def get_newest_n_movies(NumberOfMovies):\n",
    "    # Load the movies dataset\n",
    "    movies = pd.read_csv('./ml-25m/movies.csv')\n",
    "    movies['year'] = movies['title'].str.extract('(\\(\\d{4}\\))').apply(CleaningMovieProductionDate)\n",
    "    # converting year string to datetime 'year' values\n",
    "    movies['year'] = pd.to_datetime(movies['year'] , format='%Y')\n",
    "    # Dropping such records with no Year informationa on them\n",
    "    movies.dropna(subset=['year'] , inplace=True)\n",
    "    # Converting year column from datetime to Year \n",
    "    movies['year'] = movies['year'].dt.year\n",
    "\n",
    "    # Sort movies by release year in descending order\n",
    "    newest_movies = movies.sort_values(by='year', ascending=False)\n",
    "\n",
    "    # Get the top 10 newest movies\n",
    "    top_10_newest_movies = newest_movies.head(NumberOfMovies)\n",
    "\n",
    "    return top_10_newest_movies"
   ]
  },
  {
   "cell_type": "code",
   "execution_count": 110,
   "id": "7d94ad65",
   "metadata": {},
   "outputs": [
    {
     "name": "stdout",
     "output_type": "stream",
     "text": [
      "       movieId                                    title  \\\n",
      "61623   206393                           Promare (2019)   \n",
      "59380   200732                        Native Son (2019)   \n",
      "60322   203024                      Playing Hard (2019)   \n",
      "60323   203026                         Mollywood (2019)   \n",
      "59383   200740                       Antiquities (2019)   \n",
      "59381   200736                  J'veux du soleil (2019)   \n",
      "61547   206194    Fiddler: A Miracle of Miracles (2019)   \n",
      "25068   122914  Avengers: Infinity War - Part II (2019)   \n",
      "60327   203034            The River and the Wall (2019)   \n",
      "60329   203038                    The Final Land (2019)   \n",
      "\n",
      "                        genres  year  \n",
      "61623  Action|Animation|Sci-Fi  2019  \n",
      "59380                    Drama  2019  \n",
      "60322                    Drama  2019  \n",
      "60323          Horror|Thriller  2019  \n",
      "59383                   Comedy  2019  \n",
      "59381              Documentary  2019  \n",
      "61547              Documentary  2019  \n",
      "25068  Action|Adventure|Sci-Fi  2019  \n",
      "60327              Documentary  2019  \n",
      "60329             Drama|Sci-Fi  2019  \n"
     ]
    },
    {
     "data": {
      "text/html": [
       "<div>\n",
       "<style scoped>\n",
       "    .dataframe tbody tr th:only-of-type {\n",
       "        vertical-align: middle;\n",
       "    }\n",
       "\n",
       "    .dataframe tbody tr th {\n",
       "        vertical-align: top;\n",
       "    }\n",
       "\n",
       "    .dataframe thead th {\n",
       "        text-align: right;\n",
       "    }\n",
       "</style>\n",
       "<table border=\"1\" class=\"dataframe\">\n",
       "  <thead>\n",
       "    <tr style=\"text-align: right;\">\n",
       "      <th></th>\n",
       "      <th>movieId</th>\n",
       "      <th>title</th>\n",
       "      <th>genres</th>\n",
       "      <th>year</th>\n",
       "    </tr>\n",
       "  </thead>\n",
       "  <tbody>\n",
       "    <tr>\n",
       "      <th>61623</th>\n",
       "      <td>206393</td>\n",
       "      <td>Promare (2019)</td>\n",
       "      <td>Action|Animation|Sci-Fi</td>\n",
       "      <td>2019</td>\n",
       "    </tr>\n",
       "    <tr>\n",
       "      <th>59380</th>\n",
       "      <td>200732</td>\n",
       "      <td>Native Son (2019)</td>\n",
       "      <td>Drama</td>\n",
       "      <td>2019</td>\n",
       "    </tr>\n",
       "    <tr>\n",
       "      <th>60322</th>\n",
       "      <td>203024</td>\n",
       "      <td>Playing Hard (2019)</td>\n",
       "      <td>Drama</td>\n",
       "      <td>2019</td>\n",
       "    </tr>\n",
       "    <tr>\n",
       "      <th>60323</th>\n",
       "      <td>203026</td>\n",
       "      <td>Mollywood (2019)</td>\n",
       "      <td>Horror|Thriller</td>\n",
       "      <td>2019</td>\n",
       "    </tr>\n",
       "    <tr>\n",
       "      <th>59383</th>\n",
       "      <td>200740</td>\n",
       "      <td>Antiquities (2019)</td>\n",
       "      <td>Comedy</td>\n",
       "      <td>2019</td>\n",
       "    </tr>\n",
       "    <tr>\n",
       "      <th>59381</th>\n",
       "      <td>200736</td>\n",
       "      <td>J'veux du soleil (2019)</td>\n",
       "      <td>Documentary</td>\n",
       "      <td>2019</td>\n",
       "    </tr>\n",
       "    <tr>\n",
       "      <th>61547</th>\n",
       "      <td>206194</td>\n",
       "      <td>Fiddler: A Miracle of Miracles (2019)</td>\n",
       "      <td>Documentary</td>\n",
       "      <td>2019</td>\n",
       "    </tr>\n",
       "    <tr>\n",
       "      <th>25068</th>\n",
       "      <td>122914</td>\n",
       "      <td>Avengers: Infinity War - Part II (2019)</td>\n",
       "      <td>Action|Adventure|Sci-Fi</td>\n",
       "      <td>2019</td>\n",
       "    </tr>\n",
       "    <tr>\n",
       "      <th>60327</th>\n",
       "      <td>203034</td>\n",
       "      <td>The River and the Wall (2019)</td>\n",
       "      <td>Documentary</td>\n",
       "      <td>2019</td>\n",
       "    </tr>\n",
       "    <tr>\n",
       "      <th>60329</th>\n",
       "      <td>203038</td>\n",
       "      <td>The Final Land (2019)</td>\n",
       "      <td>Drama|Sci-Fi</td>\n",
       "      <td>2019</td>\n",
       "    </tr>\n",
       "  </tbody>\n",
       "</table>\n",
       "</div>"
      ],
      "text/plain": [
       "       movieId                                    title  \\\n",
       "61623   206393                           Promare (2019)   \n",
       "59380   200732                        Native Son (2019)   \n",
       "60322   203024                      Playing Hard (2019)   \n",
       "60323   203026                         Mollywood (2019)   \n",
       "59383   200740                       Antiquities (2019)   \n",
       "59381   200736                  J'veux du soleil (2019)   \n",
       "61547   206194    Fiddler: A Miracle of Miracles (2019)   \n",
       "25068   122914  Avengers: Infinity War - Part II (2019)   \n",
       "60327   203034            The River and the Wall (2019)   \n",
       "60329   203038                    The Final Land (2019)   \n",
       "\n",
       "                        genres  year  \n",
       "61623  Action|Animation|Sci-Fi  2019  \n",
       "59380                    Drama  2019  \n",
       "60322                    Drama  2019  \n",
       "60323          Horror|Thriller  2019  \n",
       "59383                   Comedy  2019  \n",
       "59381              Documentary  2019  \n",
       "61547              Documentary  2019  \n",
       "25068  Action|Adventure|Sci-Fi  2019  \n",
       "60327              Documentary  2019  \n",
       "60329             Drama|Sci-Fi  2019  "
      ]
     },
     "execution_count": 110,
     "metadata": {},
     "output_type": "execute_result"
    }
   ],
   "source": [
    "# Call the function to get the newest 10 movies\n",
    "top_10_newest_movies = get_newest_n_movies(10)\n",
    "print(top_10_newest_movies)\n",
    "\n",
    "top_10_newest_movies.head(10)"
   ]
  }
 ],
 "metadata": {
  "kernelspec": {
   "display_name": "Python 3 (ipykernel)",
   "language": "python",
   "name": "python3"
  },
  "language_info": {
   "codemirror_mode": {
    "name": "ipython",
    "version": 3
   },
   "file_extension": ".py",
   "mimetype": "text/x-python",
   "name": "python",
   "nbconvert_exporter": "python",
   "pygments_lexer": "ipython3",
   "version": "3.11.4"
  }
 },
 "nbformat": 4,
 "nbformat_minor": 5
}
